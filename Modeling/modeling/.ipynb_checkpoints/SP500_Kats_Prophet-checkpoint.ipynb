{
 "cells": [
  {
   "cell_type": "code",
   "execution_count": 1,
   "id": "947ff421",
   "metadata": {},
   "outputs": [],
   "source": [
    "import pandas as pd\n",
    "import matplotlib.pyplot as plt\n",
    "import numpy as np\n",
    "\n",
    "from datetime import datetime, timedelta\n",
    "from seaborn import set_style\n",
    "set_style(\"whitegrid\")\n",
    "from seaborn import set_style"
   ]
  },
  {
   "cell_type": "code",
   "execution_count": 19,
   "id": "7b88828e",
   "metadata": {},
   "outputs": [],
   "source": [
    "from scipy.stats import pearsonr\n",
    "import ipywidgets as widgets\n",
    "import plotly.offline as py\n",
    "import plotly.express as px\n",
    "import plotly.graph_objects as go\n",
    "\n",
    "import warnings\n",
    "warnings.simplefilter(action='ignore')"
   ]
  },
  {
   "cell_type": "code",
   "execution_count": 9,
   "id": "65ba839d",
   "metadata": {
    "collapsed": true
   },
   "outputs": [
    {
     "name": "stdout",
     "output_type": "stream",
     "text": [
      "Collecting kats\n",
      "  Downloading kats-0.2.0-py3-none-any.whl (612 kB)\n",
      "\u001b[K     |████████████████████████████████| 612 kB 3.5 MB/s eta 0:00:01\n",
      "\u001b[?25hRequirement already satisfied: plotly>=2.2.1 in /Users/ziyuan/opt/anaconda3/lib/python3.9/site-packages (from kats) (5.6.0)\n",
      "Collecting pystan==2.19.1.1\n",
      "  Downloading pystan-2.19.1.1.tar.gz (16.2 MB)\n",
      "\u001b[K     |████████████████████████████████| 16.2 MB 9.4 MB/s eta 0:00:011    |███▋                            | 1.8 MB 25.2 MB/s eta 0:00:01\n",
      "\u001b[?25hCollecting pymannkendall>=1.4.1\n",
      "  Downloading pymannkendall-1.4.2-py3-none-any.whl (12 kB)\n",
      "Collecting torch\n",
      "  Downloading torch-1.13.0-cp39-none-macosx_10_9_x86_64.whl (137.9 MB)\n",
      "\u001b[K     |████████████████████████████████| 137.9 MB 1.3 MB/s eta 0:00:011    |██▉                             | 12.2 MB 17.9 MB/s eta 0:00:08     |█████████                       | 39.1 MB 15.9 MB/s eta 0:00:07     |██████████▏                     | 43.8 MB 15.9 MB/s eta 0:00:06     |███████████████▊                | 67.5 MB 7.0 MB/s eta 0:00:10     |██████████████████▌             | 79.8 MB 3.8 MB/s eta 0:00:16     |█████████████████████▋          | 93.2 MB 3.0 MB/s eta 0:00:15     |███████████████████████████▌    | 118.6 MB 12.4 MB/s eta 0:00:02\n",
      "\u001b[?25hRequirement already satisfied: matplotlib>=2.0.0 in /Users/ziyuan/opt/anaconda3/lib/python3.9/site-packages (from kats) (3.5.1)\n",
      "Requirement already satisfied: scikit-learn>=0.24.2 in /Users/ziyuan/opt/anaconda3/lib/python3.9/site-packages (from kats) (1.0.2)\n",
      "Requirement already satisfied: numpy<1.22,>=1.21 in /Users/ziyuan/opt/anaconda3/lib/python3.9/site-packages (from kats) (1.21.5)\n",
      "Collecting fbprophet==0.7.1\n",
      "  Downloading fbprophet-0.7.1.tar.gz (64 kB)\n",
      "\u001b[K     |████████████████████████████████| 64 kB 6.1 MB/s  eta 0:00:01\n",
      "\u001b[?25hCollecting pandas<=1.3.5,>=1.0.4\n",
      "  Downloading pandas-1.3.5-cp39-cp39-macosx_10_9_x86_64.whl (11.3 MB)\n",
      "\u001b[K     |████████████████████████████████| 11.3 MB 27.5 MB/s eta 0:00:01\n",
      "\u001b[?25hCollecting holidays>=0.10.2\n",
      "  Downloading holidays-0.17-py3-none-any.whl (187 kB)\n",
      "\u001b[K     |████████████████████████████████| 187 kB 7.3 MB/s eta 0:00:01\n",
      "\u001b[?25hRequirement already satisfied: tqdm>=4.36.1 in /Users/ziyuan/opt/anaconda3/lib/python3.9/site-packages (from kats) (4.64.0)\n",
      "Collecting parameterized>=0.8.1\n",
      "  Downloading parameterized-0.8.1-py2.py3-none-any.whl (26 kB)\n",
      "Collecting LunarCalendar>=0.0.9\n",
      "  Downloading LunarCalendar-0.0.9-py2.py3-none-any.whl (18 kB)\n",
      "Collecting ax-platform==0.2.4\n",
      "  Downloading ax_platform-0.2.4-py3-none-any.whl (950 kB)\n",
      "\u001b[K     |████████████████████████████████| 950 kB 9.4 MB/s eta 0:00:01\n",
      "\u001b[?25hCollecting gpytorch\n",
      "  Downloading gpytorch-1.9.0-py3-none-any.whl (245 kB)\n",
      "\u001b[K     |████████████████████████████████| 245 kB 5.2 MB/s eta 0:00:01\n",
      "\u001b[?25hCollecting deprecated>=1.2.12\n",
      "  Using cached Deprecated-1.2.13-py2.py3-none-any.whl (9.6 kB)\n",
      "Collecting pytest-mpl>=0.12\n",
      "  Downloading pytest_mpl-0.16.1-py3-none-any.whl (28 kB)\n",
      "Requirement already satisfied: python-dateutil>=2.8.0 in /Users/ziyuan/opt/anaconda3/lib/python3.9/site-packages (from kats) (2.8.2)\n",
      "Requirement already satisfied: seaborn>=0.11.1 in /Users/ziyuan/opt/anaconda3/lib/python3.9/site-packages (from kats) (0.11.2)\n",
      "Collecting statsmodels==0.12.2\n",
      "  Downloading statsmodels-0.12.2-cp39-cp39-macosx_10_15_x86_64.whl (9.6 MB)\n",
      "\u001b[K     |████████████████████████████████| 9.6 MB 21 kB/s eta 0:00:017\n",
      "\u001b[?25hRequirement already satisfied: scipy<1.8.0 in /Users/ziyuan/opt/anaconda3/lib/python3.9/site-packages (from kats) (1.7.3)\n",
      "Requirement already satisfied: numba>=0.52.0 in /Users/ziyuan/opt/anaconda3/lib/python3.9/site-packages (from kats) (0.55.1)\n",
      "Requirement already satisfied: attrs>=21.2.0 in /Users/ziyuan/opt/anaconda3/lib/python3.9/site-packages (from kats) (21.4.0)\n",
      "Collecting setuptools-git>=1.2\n",
      "  Downloading setuptools_git-1.2-py2.py3-none-any.whl (10 kB)\n",
      "Requirement already satisfied: jinja2 in /Users/ziyuan/opt/anaconda3/lib/python3.9/site-packages (from ax-platform==0.2.4->kats) (2.11.3)\n",
      "Collecting botorch==0.6.2\n",
      "  Downloading botorch-0.6.2-py3-none-any.whl (347 kB)\n",
      "\u001b[K     |████████████████████████████████| 347 kB 21.9 MB/s eta 0:00:01\n",
      "\u001b[?25hCollecting typeguard\n",
      "  Downloading typeguard-2.13.3-py3-none-any.whl (17 kB)\n",
      "Requirement already satisfied: multipledispatch in /Users/ziyuan/opt/anaconda3/lib/python3.9/site-packages (from botorch==0.6.2->ax-platform==0.2.4->kats) (0.6.0)\n",
      "Requirement already satisfied: Cython>=0.22 in /Users/ziyuan/opt/anaconda3/lib/python3.9/site-packages (from fbprophet==0.7.1->kats) (0.29.28)\n",
      "Collecting cmdstanpy==0.9.5\n",
      "  Downloading cmdstanpy-0.9.5-py3-none-any.whl (37 kB)\n",
      "Collecting convertdate>=2.1.2\n",
      "  Downloading convertdate-2.4.0-py3-none-any.whl (47 kB)\n",
      "\u001b[K     |████████████████████████████████| 47 kB 6.5 MB/s eta 0:00:01\n",
      "\u001b[?25hRequirement already satisfied: patsy>=0.5 in /Users/ziyuan/opt/anaconda3/lib/python3.9/site-packages (from statsmodels==0.12.2->kats) (0.5.2)\n",
      "Collecting pymeeus<=1,>=0.3.13\n",
      "  Downloading PyMeeus-0.5.11.tar.gz (5.4 MB)\n",
      "\u001b[K     |████████████████████████████████| 5.4 MB 23.5 MB/s eta 0:00:01\n",
      "\u001b[?25hRequirement already satisfied: wrapt<2,>=1.10 in /Users/ziyuan/opt/anaconda3/lib/python3.9/site-packages (from deprecated>=1.2.12->kats) (1.12.1)\n",
      "Collecting linear-operator>=0.1.1\n",
      "  Downloading linear_operator-0.2.0-py3-none-any.whl (152 kB)\n",
      "\u001b[K     |████████████████████████████████| 152 kB 29.3 MB/s eta 0:00:01\n",
      "\u001b[?25hCollecting korean-lunar-calendar\n",
      "  Downloading korean_lunar_calendar-0.3.1-py3-none-any.whl (9.0 kB)\n",
      "Collecting hijri-converter\n",
      "  Downloading hijri_converter-2.2.4-py3-none-any.whl (14 kB)\n",
      "Requirement already satisfied: pytz in /Users/ziyuan/opt/anaconda3/lib/python3.9/site-packages (from LunarCalendar>=0.0.9->kats) (2021.3)\n",
      "Collecting ephem>=3.7.5.3\n",
      "  Downloading ephem-4.1.3-cp39-cp39-macosx_10_9_x86_64.whl (1.4 MB)\n",
      "\u001b[K     |████████████████████████████████| 1.4 MB 10.1 MB/s eta 0:00:01\n",
      "\u001b[?25hRequirement already satisfied: packaging>=20.0 in /Users/ziyuan/opt/anaconda3/lib/python3.9/site-packages (from matplotlib>=2.0.0->kats) (21.3)\n",
      "Requirement already satisfied: pyparsing>=2.2.1 in /Users/ziyuan/opt/anaconda3/lib/python3.9/site-packages (from matplotlib>=2.0.0->kats) (3.0.4)\n",
      "Requirement already satisfied: fonttools>=4.22.0 in /Users/ziyuan/opt/anaconda3/lib/python3.9/site-packages (from matplotlib>=2.0.0->kats) (4.25.0)\n",
      "Requirement already satisfied: pillow>=6.2.0 in /Users/ziyuan/opt/anaconda3/lib/python3.9/site-packages (from matplotlib>=2.0.0->kats) (9.0.1)\n",
      "Requirement already satisfied: cycler>=0.10 in /Users/ziyuan/opt/anaconda3/lib/python3.9/site-packages (from matplotlib>=2.0.0->kats) (0.11.0)\n",
      "Requirement already satisfied: kiwisolver>=1.0.1 in /Users/ziyuan/opt/anaconda3/lib/python3.9/site-packages (from matplotlib>=2.0.0->kats) (1.3.2)\n",
      "Requirement already satisfied: llvmlite<0.39,>=0.38.0rc1 in /Users/ziyuan/opt/anaconda3/lib/python3.9/site-packages (from numba>=0.52.0->kats) (0.38.0)\n",
      "Requirement already satisfied: setuptools in /Users/ziyuan/opt/anaconda3/lib/python3.9/site-packages (from numba>=0.52.0->kats) (61.2.0)\n",
      "Requirement already satisfied: six in /Users/ziyuan/opt/anaconda3/lib/python3.9/site-packages (from patsy>=0.5->statsmodels==0.12.2->kats) (1.16.0)\n",
      "Requirement already satisfied: tenacity>=6.2.0 in /Users/ziyuan/opt/anaconda3/lib/python3.9/site-packages (from plotly>=2.2.1->kats) (8.0.1)\n",
      "Requirement already satisfied: pytest in /Users/ziyuan/opt/anaconda3/lib/python3.9/site-packages (from pytest-mpl>=0.12->kats) (7.1.1)\n",
      "Requirement already satisfied: threadpoolctl>=2.0.0 in /Users/ziyuan/opt/anaconda3/lib/python3.9/site-packages (from scikit-learn>=0.24.2->kats) (2.2.0)\n",
      "Requirement already satisfied: joblib>=0.11 in /Users/ziyuan/opt/anaconda3/lib/python3.9/site-packages (from scikit-learn>=0.24.2->kats) (1.1.0)\n",
      "Requirement already satisfied: typing-extensions in /Users/ziyuan/opt/anaconda3/lib/python3.9/site-packages (from torch->kats) (4.1.1)\n",
      "Requirement already satisfied: MarkupSafe>=0.23 in /Users/ziyuan/opt/anaconda3/lib/python3.9/site-packages (from jinja2->ax-platform==0.2.4->kats) (2.0.1)\n",
      "Requirement already satisfied: iniconfig in /Users/ziyuan/opt/anaconda3/lib/python3.9/site-packages (from pytest->pytest-mpl>=0.12->kats) (1.1.1)\n",
      "Requirement already satisfied: pluggy<2.0,>=0.12 in /Users/ziyuan/opt/anaconda3/lib/python3.9/site-packages (from pytest->pytest-mpl>=0.12->kats) (1.0.0)\n",
      "Requirement already satisfied: py>=1.8.2 in /Users/ziyuan/opt/anaconda3/lib/python3.9/site-packages (from pytest->pytest-mpl>=0.12->kats) (1.11.0)\n",
      "Requirement already satisfied: tomli>=1.0.0 in /Users/ziyuan/opt/anaconda3/lib/python3.9/site-packages (from pytest->pytest-mpl>=0.12->kats) (1.2.2)\n"
     ]
    },
    {
     "name": "stdout",
     "output_type": "stream",
     "text": [
      "Building wheels for collected packages: fbprophet, pystan, pymeeus\n",
      "  Building wheel for fbprophet (setup.py) ... \u001b[?25lerror\n",
      "\u001b[31m  ERROR: Command errored out with exit status 1:\n",
      "   command: /Users/ziyuan/opt/anaconda3/bin/python -u -c 'import io, os, sys, setuptools, tokenize; sys.argv[0] = '\"'\"'/private/var/folders/cb/25n3f3px305fm21r85ccbb4r0000gn/T/pip-install-57a8k939/fbprophet_12647562f6014601a64e557ea24b4f6b/setup.py'\"'\"'; __file__='\"'\"'/private/var/folders/cb/25n3f3px305fm21r85ccbb4r0000gn/T/pip-install-57a8k939/fbprophet_12647562f6014601a64e557ea24b4f6b/setup.py'\"'\"';f = getattr(tokenize, '\"'\"'open'\"'\"', open)(__file__) if os.path.exists(__file__) else io.StringIO('\"'\"'from setuptools import setup; setup()'\"'\"');code = f.read().replace('\"'\"'\\r\\n'\"'\"', '\"'\"'\\n'\"'\"');f.close();exec(compile(code, __file__, '\"'\"'exec'\"'\"'))' bdist_wheel -d /private/var/folders/cb/25n3f3px305fm21r85ccbb4r0000gn/T/pip-wheel-1m8gbxox\n",
      "       cwd: /private/var/folders/cb/25n3f3px305fm21r85ccbb4r0000gn/T/pip-install-57a8k939/fbprophet_12647562f6014601a64e557ea24b4f6b/\n",
      "  Complete output (53 lines):\n",
      "  running bdist_wheel\n",
      "  running build\n",
      "  running build_py\n",
      "  creating build\n",
      "  creating build/lib\n",
      "  creating build/lib/fbprophet\n",
      "  creating build/lib/fbprophet/stan_model\n",
      "  NumExpr defaulting to 4 threads.\n",
      "  Traceback (most recent call last):\n",
      "    File \"<string>\", line 1, in <module>\n",
      "    File \"/private/var/folders/cb/25n3f3px305fm21r85ccbb4r0000gn/T/pip-install-57a8k939/fbprophet_12647562f6014601a64e557ea24b4f6b/setup.py\", line 122, in <module>\n",
      "      setup(\n",
      "    File \"/Users/ziyuan/opt/anaconda3/lib/python3.9/site-packages/setuptools/__init__.py\", line 87, in setup\n",
      "      return distutils.core.setup(**attrs)\n",
      "    File \"/Users/ziyuan/opt/anaconda3/lib/python3.9/site-packages/setuptools/_distutils/core.py\", line 148, in setup\n",
      "      return run_commands(dist)\n",
      "    File \"/Users/ziyuan/opt/anaconda3/lib/python3.9/site-packages/setuptools/_distutils/core.py\", line 163, in run_commands\n",
      "      dist.run_commands()\n",
      "    File \"/Users/ziyuan/opt/anaconda3/lib/python3.9/site-packages/setuptools/_distutils/dist.py\", line 967, in run_commands\n",
      "      self.run_command(cmd)\n",
      "    File \"/Users/ziyuan/opt/anaconda3/lib/python3.9/site-packages/setuptools/dist.py\", line 1214, in run_command\n",
      "      super().run_command(command)\n",
      "    File \"/Users/ziyuan/opt/anaconda3/lib/python3.9/site-packages/setuptools/_distutils/dist.py\", line 986, in run_command\n",
      "      cmd_obj.run()\n",
      "    File \"/Users/ziyuan/opt/anaconda3/lib/python3.9/site-packages/wheel/bdist_wheel.py\", line 299, in run\n",
      "      self.run_command('build')\n",
      "    File \"/Users/ziyuan/opt/anaconda3/lib/python3.9/site-packages/setuptools/_distutils/cmd.py\", line 313, in run_command\n",
      "      self.distribution.run_command(command)\n",
      "    File \"/Users/ziyuan/opt/anaconda3/lib/python3.9/site-packages/setuptools/dist.py\", line 1214, in run_command\n",
      "      super().run_command(command)\n",
      "    File \"/Users/ziyuan/opt/anaconda3/lib/python3.9/site-packages/setuptools/_distutils/dist.py\", line 986, in run_command\n",
      "      cmd_obj.run()\n",
      "    File \"/Users/ziyuan/opt/anaconda3/lib/python3.9/site-packages/setuptools/_distutils/command/build.py\", line 135, in run\n",
      "      self.run_command(cmd_name)\n",
      "    File \"/Users/ziyuan/opt/anaconda3/lib/python3.9/site-packages/setuptools/_distutils/cmd.py\", line 313, in run_command\n",
      "      self.distribution.run_command(command)\n",
      "    File \"/Users/ziyuan/opt/anaconda3/lib/python3.9/site-packages/setuptools/dist.py\", line 1214, in run_command\n",
      "      super().run_command(command)\n",
      "    File \"/Users/ziyuan/opt/anaconda3/lib/python3.9/site-packages/setuptools/_distutils/dist.py\", line 986, in run_command\n",
      "      cmd_obj.run()\n",
      "    File \"/private/var/folders/cb/25n3f3px305fm21r85ccbb4r0000gn/T/pip-install-57a8k939/fbprophet_12647562f6014601a64e557ea24b4f6b/setup.py\", line 48, in run\n",
      "      build_models(target_dir)\n",
      "    File \"/private/var/folders/cb/25n3f3px305fm21r85ccbb4r0000gn/T/pip-install-57a8k939/fbprophet_12647562f6014601a64e557ea24b4f6b/setup.py\", line 36, in build_models\n",
      "      from fbprophet.models import StanBackendEnum\n",
      "    File \"/private/var/folders/cb/25n3f3px305fm21r85ccbb4r0000gn/T/pip-install-57a8k939/fbprophet_12647562f6014601a64e557ea24b4f6b/fbprophet/__init__.py\", line 8, in <module>\n",
      "      from fbprophet.forecaster import Prophet\n",
      "    File \"/private/var/folders/cb/25n3f3px305fm21r85ccbb4r0000gn/T/pip-install-57a8k939/fbprophet_12647562f6014601a64e557ea24b4f6b/fbprophet/forecaster.py\", line 17, in <module>\n",
      "      from fbprophet.make_holidays import get_holiday_names, make_holidays_df\n",
      "    File \"/private/var/folders/cb/25n3f3px305fm21r85ccbb4r0000gn/T/pip-install-57a8k939/fbprophet_12647562f6014601a64e557ea24b4f6b/fbprophet/make_holidays.py\", line 14, in <module>\n",
      "      import fbprophet.hdays as hdays_part2\n",
      "    File \"/private/var/folders/cb/25n3f3px305fm21r85ccbb4r0000gn/T/pip-install-57a8k939/fbprophet_12647562f6014601a64e557ea24b4f6b/fbprophet/hdays.py\", line 13, in <module>\n",
      "      from convertdate.islamic import from_gregorian, to_gregorian\n",
      "  ModuleNotFoundError: No module named 'convertdate'\n",
      "  ----------------------------------------\u001b[0m\n",
      "\u001b[31m  ERROR: Failed building wheel for fbprophet\u001b[0m\n",
      "\u001b[?25h  Running setup.py clean for fbprophet\n",
      "  Building wheel for pystan (setup.py) ... \u001b[?25ldone\n",
      "\u001b[?25h  Created wheel for pystan: filename=pystan-2.19.1.1-cp39-cp39-macosx_10_15_x86_64.whl size=29293243 sha256=09e26050af25158810c29a5ee9e7cd825ba06a026469bafd3062d844de152e1c\n",
      "  Stored in directory: /Users/ziyuan/Library/Caches/pip/wheels/b8/36/bf/7ec7e363f796373cea3eb9ea94e83f5bbbb586d2edbf7e3417\n",
      "  Building wheel for pymeeus (setup.py) ... \u001b[?25ldone\n",
      "\u001b[?25h  Created wheel for pymeeus: filename=PyMeeus-0.5.11-py3-none-any.whl size=730985 sha256=9949a23901d89703b59b6adef04c0b1952d578be80a22064cd7b0544bca1d21b\n",
      "  Stored in directory: /Users/ziyuan/Library/Caches/pip/wheels/33/3d/82/4579e9cca41ff991140b2e050bc6df3a38292f26e4fa06b15d\n",
      "Successfully built pystan pymeeus\n",
      "Failed to build fbprophet\n",
      "Installing collected packages: torch, pymeeus, linear-operator, pandas, korean-lunar-calendar, hijri-converter, gpytorch, ephem, convertdate, typeguard, setuptools-git, pystan, LunarCalendar, holidays, cmdstanpy, botorch, statsmodels, pytest-mpl, pymannkendall, parameterized, fbprophet, deprecated, ax-platform, kats\n",
      "  Attempting uninstall: pandas\n",
      "    Found existing installation: pandas 1.4.2\n",
      "    Uninstalling pandas-1.4.2:\n",
      "      Successfully uninstalled pandas-1.4.2\n",
      "  Attempting uninstall: statsmodels\n",
      "    Found existing installation: statsmodels 0.13.2\n",
      "    Uninstalling statsmodels-0.13.2:\n",
      "      Successfully uninstalled statsmodels-0.13.2\n",
      "    Running setup.py install for fbprophet ... \u001b[?25ldone\n",
      "\u001b[33m  DEPRECATION: fbprophet was installed using the legacy 'setup.py install' method, because a wheel could not be built for it. A possible replacement is to fix the wheel build issue reported above. You can find discussion regarding this at https://github.com/pypa/pip/issues/8368.\u001b[0m\n",
      "\u001b[?25hSuccessfully installed LunarCalendar-0.0.9 ax-platform-0.2.4 botorch-0.6.2 cmdstanpy-0.9.5 convertdate-2.4.0 deprecated-1.2.13 ephem-4.1.3 fbprophet-0.7.1 gpytorch-1.9.0 hijri-converter-2.2.4 holidays-0.17 kats-0.2.0 korean-lunar-calendar-0.3.1 linear-operator-0.2.0 pandas-1.3.5 parameterized-0.8.1 pymannkendall-1.4.2 pymeeus-0.5.11 pystan-2.19.1.1 pytest-mpl-0.16.1 setuptools-git-1.2 statsmodels-0.12.2 torch-1.13.0 typeguard-2.13.3\n",
      "Note: you may need to restart the kernel to use updated packages.\n"
     ]
    }
   ],
   "source": [
    "pip install kats"
   ]
  },
  {
   "cell_type": "code",
   "execution_count": 4,
   "id": "5a90183f",
   "metadata": {
    "scrolled": true
   },
   "outputs": [
    {
     "name": "stderr",
     "output_type": "stream",
     "text": [
      "WARNING:root:kats.utils.time_series_parameter_tuning requires ax-platform be installed\n",
      "WARNING:root:kats.models.metalearner.get_metadata requires ax-platform be installed\n"
     ]
    }
   ],
   "source": [
    "from kats.models.prophet import ProphetModel, ProphetParams"
   ]
  },
  {
   "cell_type": "code",
   "execution_count": 3,
   "id": "edca61c1",
   "metadata": {},
   "outputs": [],
   "source": [
    "set_style(\"whitegrid\")"
   ]
  },
  {
   "cell_type": "code",
   "execution_count": null,
   "id": "78ed5226",
   "metadata": {},
   "outputs": [],
   "source": []
  },
  {
   "cell_type": "code",
   "execution_count": 5,
   "id": "1d0f90a8",
   "metadata": {
    "scrolled": true
   },
   "outputs": [
    {
     "data": {
      "text/plain": [
       "'/Users/ziyuan/Library/CloudStorage/OneDrive-WashingtonUniversityinSt.Louis/Machine_Learning/Erdos_Bootcamp/Project/modeling/modeling'"
      ]
     },
     "execution_count": 5,
     "metadata": {},
     "output_type": "execute_result"
    }
   ],
   "source": [
    "pwd"
   ]
  },
  {
   "cell_type": "code",
   "execution_count": 6,
   "id": "4d86f2f3",
   "metadata": {},
   "outputs": [],
   "source": [
    "sp500index=pd.read_csv('../../Kaggle_SP500/sp500_index.csv')"
   ]
  },
  {
   "cell_type": "code",
   "execution_count": 7,
   "id": "60fccabe",
   "metadata": {
    "scrolled": true
   },
   "outputs": [
    {
     "data": {
      "text/html": [
       "<div>\n",
       "<style scoped>\n",
       "    .dataframe tbody tr th:only-of-type {\n",
       "        vertical-align: middle;\n",
       "    }\n",
       "\n",
       "    .dataframe tbody tr th {\n",
       "        vertical-align: top;\n",
       "    }\n",
       "\n",
       "    .dataframe thead th {\n",
       "        text-align: right;\n",
       "    }\n",
       "</style>\n",
       "<table border=\"1\" class=\"dataframe\">\n",
       "  <thead>\n",
       "    <tr style=\"text-align: right;\">\n",
       "      <th></th>\n",
       "      <th>Date</th>\n",
       "      <th>S&amp;P500</th>\n",
       "    </tr>\n",
       "  </thead>\n",
       "  <tbody>\n",
       "    <tr>\n",
       "      <th>0</th>\n",
       "      <td>2012-11-12</td>\n",
       "      <td>1380.03</td>\n",
       "    </tr>\n",
       "    <tr>\n",
       "      <th>1</th>\n",
       "      <td>2012-11-13</td>\n",
       "      <td>1374.53</td>\n",
       "    </tr>\n",
       "    <tr>\n",
       "      <th>2</th>\n",
       "      <td>2012-11-14</td>\n",
       "      <td>1355.49</td>\n",
       "    </tr>\n",
       "    <tr>\n",
       "      <th>3</th>\n",
       "      <td>2012-11-15</td>\n",
       "      <td>1353.33</td>\n",
       "    </tr>\n",
       "    <tr>\n",
       "      <th>4</th>\n",
       "      <td>2012-11-16</td>\n",
       "      <td>1359.88</td>\n",
       "    </tr>\n",
       "    <tr>\n",
       "      <th>...</th>\n",
       "      <td>...</td>\n",
       "      <td>...</td>\n",
       "    </tr>\n",
       "    <tr>\n",
       "      <th>2514</th>\n",
       "      <td>2022-11-07</td>\n",
       "      <td>3806.80</td>\n",
       "    </tr>\n",
       "    <tr>\n",
       "      <th>2515</th>\n",
       "      <td>2022-11-08</td>\n",
       "      <td>3828.11</td>\n",
       "    </tr>\n",
       "    <tr>\n",
       "      <th>2516</th>\n",
       "      <td>2022-11-09</td>\n",
       "      <td>3748.57</td>\n",
       "    </tr>\n",
       "    <tr>\n",
       "      <th>2517</th>\n",
       "      <td>2022-11-10</td>\n",
       "      <td>3956.37</td>\n",
       "    </tr>\n",
       "    <tr>\n",
       "      <th>2518</th>\n",
       "      <td>2022-11-11</td>\n",
       "      <td>3992.93</td>\n",
       "    </tr>\n",
       "  </tbody>\n",
       "</table>\n",
       "<p>2519 rows × 2 columns</p>\n",
       "</div>"
      ],
      "text/plain": [
       "            Date   S&P500\n",
       "0     2012-11-12  1380.03\n",
       "1     2012-11-13  1374.53\n",
       "2     2012-11-14  1355.49\n",
       "3     2012-11-15  1353.33\n",
       "4     2012-11-16  1359.88\n",
       "...          ...      ...\n",
       "2514  2022-11-07  3806.80\n",
       "2515  2022-11-08  3828.11\n",
       "2516  2022-11-09  3748.57\n",
       "2517  2022-11-10  3956.37\n",
       "2518  2022-11-11  3992.93\n",
       "\n",
       "[2519 rows x 2 columns]"
      ]
     },
     "execution_count": 7,
     "metadata": {},
     "output_type": "execute_result"
    }
   ],
   "source": [
    "sp500index"
   ]
  },
  {
   "cell_type": "code",
   "execution_count": 8,
   "id": "ea9831f4",
   "metadata": {
    "scrolled": true
   },
   "outputs": [
    {
     "data": {
      "text/plain": [
       "0       2012-11-12\n",
       "1       2012-11-13\n",
       "2       2012-11-14\n",
       "3       2012-11-15\n",
       "4       2012-11-16\n",
       "           ...    \n",
       "2514    2022-11-07\n",
       "2515    2022-11-08\n",
       "2516    2022-11-09\n",
       "2517    2022-11-10\n",
       "2518    2022-11-11\n",
       "Name: Date, Length: 2519, dtype: object"
      ]
     },
     "execution_count": 8,
     "metadata": {},
     "output_type": "execute_result"
    }
   ],
   "source": [
    "sp500index['Date']"
   ]
  },
  {
   "cell_type": "code",
   "execution_count": 9,
   "id": "05568229",
   "metadata": {},
   "outputs": [],
   "source": [
    "sp500index[\"Date\"] = pd.to_datetime(sp500index[\"Date\"])"
   ]
  },
  {
   "cell_type": "code",
   "execution_count": 11,
   "id": "bfb74a54",
   "metadata": {},
   "outputs": [
    {
     "data": {
      "text/plain": [
       "0      2012-11-12\n",
       "1      2012-11-13\n",
       "2      2012-11-14\n",
       "3      2012-11-15\n",
       "4      2012-11-16\n",
       "          ...    \n",
       "2514   2022-11-07\n",
       "2515   2022-11-08\n",
       "2516   2022-11-09\n",
       "2517   2022-11-10\n",
       "2518   2022-11-11\n",
       "Name: Date, Length: 2519, dtype: datetime64[ns]"
      ]
     },
     "execution_count": 11,
     "metadata": {},
     "output_type": "execute_result"
    }
   ],
   "source": [
    "sp500index[\"Date\"]"
   ]
  },
  {
   "cell_type": "code",
   "execution_count": 22,
   "id": "87b2a7f1",
   "metadata": {},
   "outputs": [],
   "source": [
    "sp500=sp500index.rename(columns={\"S&P500\": \"sp500\"}).copy(deep=True)"
   ]
  },
  {
   "cell_type": "code",
   "execution_count": 12,
   "id": "526bf841",
   "metadata": {},
   "outputs": [],
   "source": [
    "from kats.consts import TimeSeriesData"
   ]
  },
  {
   "cell_type": "code",
   "execution_count": 13,
   "id": "cf9a13eb",
   "metadata": {},
   "outputs": [],
   "source": [
    "df = sp500index.rename(columns={\"Date\":\"time\"})"
   ]
  },
  {
   "cell_type": "code",
   "execution_count": null,
   "id": "f305eb3c",
   "metadata": {},
   "outputs": [],
   "source": []
  },
  {
   "cell_type": "code",
   "execution_count": 14,
   "id": "85ef67ed",
   "metadata": {
    "scrolled": true
   },
   "outputs": [],
   "source": [
    "sp500_test = TimeSeriesData(df[df[\"time\"]<='2021-01-01']) # The last 3 years are test data."
   ]
  },
  {
   "cell_type": "code",
   "execution_count": 17,
   "id": "5dd2b7ae",
   "metadata": {},
   "outputs": [
    {
     "data": {
      "text/html": [
       "<div>\n",
       "<style scoped>\n",
       "    .dataframe tbody tr th:only-of-type {\n",
       "        vertical-align: middle;\n",
       "    }\n",
       "\n",
       "    .dataframe tbody tr th {\n",
       "        vertical-align: top;\n",
       "    }\n",
       "\n",
       "    .dataframe thead th {\n",
       "        text-align: right;\n",
       "    }\n",
       "</style>\n",
       "<table border=\"1\" class=\"dataframe\">\n",
       "  <thead>\n",
       "    <tr style=\"text-align: right;\">\n",
       "      <th></th>\n",
       "      <th>time</th>\n",
       "      <th>S&amp;P500</th>\n",
       "    </tr>\n",
       "  </thead>\n",
       "  <tbody>\n",
       "    <tr>\n",
       "      <th>0</th>\n",
       "      <td>2012-11-12</td>\n",
       "      <td>1380.03</td>\n",
       "    </tr>\n",
       "    <tr>\n",
       "      <th>1</th>\n",
       "      <td>2012-11-13</td>\n",
       "      <td>1374.53</td>\n",
       "    </tr>\n",
       "    <tr>\n",
       "      <th>2</th>\n",
       "      <td>2012-11-14</td>\n",
       "      <td>1355.49</td>\n",
       "    </tr>\n",
       "    <tr>\n",
       "      <th>3</th>\n",
       "      <td>2012-11-15</td>\n",
       "      <td>1353.33</td>\n",
       "    </tr>\n",
       "    <tr>\n",
       "      <th>4</th>\n",
       "      <td>2012-11-16</td>\n",
       "      <td>1359.88</td>\n",
       "    </tr>\n",
       "  </tbody>\n",
       "</table>\n",
       "</div>"
      ],
      "text/plain": [
       "        time   S&P500\n",
       "0 2012-11-12  1380.03\n",
       "1 2012-11-13  1374.53\n",
       "2 2012-11-14  1355.49\n",
       "3 2012-11-15  1353.33\n",
       "4 2012-11-16  1359.88"
      ]
     },
     "execution_count": 17,
     "metadata": {},
     "output_type": "execute_result"
    }
   ],
   "source": [
    "sp500_test[:5]"
   ]
  },
  {
   "cell_type": "code",
   "execution_count": 16,
   "id": "ef347964",
   "metadata": {},
   "outputs": [
    {
     "data": {
      "text/plain": [
       "kats.consts.TimeSeriesData"
      ]
     },
     "execution_count": 16,
     "metadata": {},
     "output_type": "execute_result"
    }
   ],
   "source": [
    "type(sp500_test)"
   ]
  },
  {
   "cell_type": "code",
   "execution_count": 21,
   "id": "52a2d7d2",
   "metadata": {
    "scrolled": false
   },
   "outputs": [
    {
     "data": {
      "text/plain": [
       "<AxesSubplot:xlabel='time'>"
      ]
     },
     "execution_count": 21,
     "metadata": {},
     "output_type": "execute_result"
    },
    {
     "data": {
      "image/png": "[encoded data removed]",
      "text/plain": [
       "<Figure size 720x432 with 1 Axes>"
      ]
     },
     "metadata": {},
     "output_type": "display_data"
    }
   ],
   "source": [
    "sp500_test.plot(cols=['S&P500'])"
   ]
  },
  {
   "cell_type": "code",
   "execution_count": null,
   "id": "4b054b1c",
   "metadata": {},
   "outputs": [],
   "source": []
  },
  {
   "cell_type": "code",
   "execution_count": 28,
   "id": "d81b57cb",
   "metadata": {
    "scrolled": false
   },
   "outputs": [
    {
     "data": {
      "image/png": "[encoded data removed]",
      "text/plain": [
       "<Figure size 1440x576 with 1 Axes>"
      ]
     },
     "metadata": {},
     "output_type": "display_data"
    }
   ],
   "source": [
    "plt.figure(figsize=(20,8))\n",
    "\n",
    "plt.plot(sp500.Date_new[-0:], \n",
    "         sp500.sp500[-0:],\n",
    "         'b',\n",
    "         label=\"Training Data\")\n",
    "\n",
    "plt.xlabel(\"Date\", fontsize=18)\n",
    "plt.ylabel(\"Closing Price\", fontsize=18)\n",
    "plt.title('S&P500', fontsize=18)\n",
    "\n",
    "plt.xticks(fontsize=14)\n",
    "plt.yticks(fontsize=14)\n",
    "\n",
    "plt.legend(fontsize=14, loc=3)\n",
    "\n",
    "plt.show()"
   ]
  },
  {
   "cell_type": "code",
   "execution_count": null,
   "id": "33b09dc3",
   "metadata": {},
   "outputs": [],
   "source": []
  },
  {
   "cell_type": "code",
   "execution_count": 22,
   "id": "f3e8f1c9",
   "metadata": {},
   "outputs": [],
   "source": [
    "from kats.models.linear_model import LinearModel, LinearModelParams"
   ]
  },
  {
   "cell_type": "code",
   "execution_count": 23,
   "id": "115d5dcc",
   "metadata": {},
   "outputs": [],
   "source": [
    "params = LinearModelParams()"
   ]
  },
  {
   "cell_type": "code",
   "execution_count": 25,
   "id": "2e163ba0",
   "metadata": {},
   "outputs": [],
   "source": [
    "m = LinearModel(sp500_test, params)\n",
    "m.fit()"
   ]
  },
  {
   "cell_type": "code",
   "execution_count": 26,
   "id": "5b4edb78",
   "metadata": {},
   "outputs": [
    {
     "data": {
      "text/html": [
       "<div>\n",
       "<style scoped>\n",
       "    .dataframe tbody tr th:only-of-type {\n",
       "        vertical-align: middle;\n",
       "    }\n",
       "\n",
       "    .dataframe tbody tr th {\n",
       "        vertical-align: top;\n",
       "    }\n",
       "\n",
       "    .dataframe thead th {\n",
       "        text-align: right;\n",
       "    }\n",
       "</style>\n",
       "<table border=\"1\" class=\"dataframe\">\n",
       "  <thead>\n",
       "    <tr style=\"text-align: right;\">\n",
       "      <th></th>\n",
       "      <th>time</th>\n",
       "      <th>fcst</th>\n",
       "      <th>fcst_lower</th>\n",
       "      <th>fcst_upper</th>\n",
       "    </tr>\n",
       "  </thead>\n",
       "  <tbody>\n",
       "    <tr>\n",
       "      <th>0</th>\n",
       "      <td>2021-01-31</td>\n",
       "      <td>3264.524096</td>\n",
       "      <td>2979.982845</td>\n",
       "      <td>3549.065346</td>\n",
       "    </tr>\n",
       "    <tr>\n",
       "      <th>1</th>\n",
       "      <td>2021-02-28</td>\n",
       "      <td>3265.400493</td>\n",
       "      <td>2980.858836</td>\n",
       "      <td>3549.942150</td>\n",
       "    </tr>\n",
       "    <tr>\n",
       "      <th>2</th>\n",
       "      <td>2021-03-31</td>\n",
       "      <td>3266.276890</td>\n",
       "      <td>2981.734826</td>\n",
       "      <td>3550.818953</td>\n",
       "    </tr>\n",
       "    <tr>\n",
       "      <th>3</th>\n",
       "      <td>2021-04-30</td>\n",
       "      <td>3267.153287</td>\n",
       "      <td>2982.610816</td>\n",
       "      <td>3551.695757</td>\n",
       "    </tr>\n",
       "    <tr>\n",
       "      <th>4</th>\n",
       "      <td>2021-05-31</td>\n",
       "      <td>3268.029684</td>\n",
       "      <td>2983.486806</td>\n",
       "      <td>3552.572562</td>\n",
       "    </tr>\n",
       "    <tr>\n",
       "      <th>5</th>\n",
       "      <td>2021-06-30</td>\n",
       "      <td>3268.906081</td>\n",
       "      <td>2984.362795</td>\n",
       "      <td>3553.449367</td>\n",
       "    </tr>\n",
       "  </tbody>\n",
       "</table>\n",
       "</div>"
      ],
      "text/plain": [
       "        time         fcst   fcst_lower   fcst_upper\n",
       "0 2021-01-31  3264.524096  2979.982845  3549.065346\n",
       "1 2021-02-28  3265.400493  2980.858836  3549.942150\n",
       "2 2021-03-31  3266.276890  2981.734826  3550.818953\n",
       "3 2021-04-30  3267.153287  2982.610816  3551.695757\n",
       "4 2021-05-31  3268.029684  2983.486806  3552.572562\n",
       "5 2021-06-30  3268.906081  2984.362795  3553.449367"
      ]
     },
     "execution_count": 26,
     "metadata": {},
     "output_type": "execute_result"
    }
   ],
   "source": [
    "pred = m.predict(steps=6, freq=\"M\")\n",
    "pred"
   ]
  },
  {
   "cell_type": "code",
   "execution_count": 28,
   "id": "6ae0cf26",
   "metadata": {},
   "outputs": [
    {
     "data": {
      "text/plain": [
       "<AxesSubplot:xlabel='time'>"
      ]
     },
     "execution_count": 28,
     "metadata": {},
     "output_type": "execute_result"
    },
    {
     "data": {
      "image/png": "[encoded data removed]",
      "text/plain": [
       "<Figure size 720x432 with 1 Axes>"
      ]
     },
     "metadata": {},
     "output_type": "display_data"
    },
    {
     "data": {
      "image/png": "[encoded data removed]",
      "text/plain": [
       "<Figure size 720x432 with 1 Axes>"
      ]
     },
     "metadata": {},
     "output_type": "display_data"
    }
   ],
   "source": [
    "m.plot()\n",
    "sp500_test.plot(cols=['S&P500'])"
   ]
  },
  {
   "cell_type": "code",
   "execution_count": null,
   "id": "72a1a10b",
   "metadata": {},
   "outputs": [],
   "source": []
  },
  {
   "cell_type": "code",
   "execution_count": null,
   "id": "22f9ff83",
   "metadata": {},
   "outputs": [],
   "source": []
  },
  {
   "cell_type": "code",
   "execution_count": 47,
   "id": "e392e1db",
   "metadata": {},
   "outputs": [],
   "source": [
    "params = ProphetParams(seasonality_mode='multiplicative')"
   ]
  },
  {
   "cell_type": "code",
   "execution_count": 48,
   "id": "030b5c76",
   "metadata": {
    "scrolled": true
   },
   "outputs": [
    {
     "name": "stderr",
     "output_type": "stream",
     "text": [
      "INFO:fbprophet:Disabling daily seasonality. Run prophet with daily_seasonality=True to override this.\n"
     ]
    },
    {
     "name": "stdout",
     "output_type": "stream",
     "text": [
      "Initial log joint probability = -8.56054\n",
      "    Iter      log prob        ||dx||      ||grad||       alpha      alpha0  # evals  Notes \n",
      "      99       6277.49    0.00408203       600.387           1           1      122   \n",
      "    Iter      log prob        ||dx||      ||grad||       alpha      alpha0  # evals  Notes \n",
      "     199        6320.2      0.010923        2711.4      0.8936      0.8936      240   \n",
      "    Iter      log prob        ||dx||      ||grad||       alpha      alpha0  # evals  Notes \n",
      "     299       6343.64    0.00235824       662.637           1           1      354   \n",
      "    Iter      log prob        ||dx||      ||grad||       alpha      alpha0  # evals  Notes \n",
      "     399       6354.55     0.0142528       839.877           1           1      470   \n",
      "    Iter      log prob        ||dx||      ||grad||       alpha      alpha0  # evals  Notes \n",
      "     499       6359.76    0.00234286       254.289           1           1      588   \n",
      "    Iter      log prob        ||dx||      ||grad||       alpha      alpha0  # evals  Notes \n",
      "     599       6366.01    0.00237448       650.866           1           1      703   \n",
      "    Iter      log prob        ||dx||      ||grad||       alpha      alpha0  # evals  Notes \n",
      "     699       6370.45     0.0028531       551.336           1           1      823   \n",
      "    Iter      log prob        ||dx||      ||grad||       alpha      alpha0  # evals  Notes \n",
      "     799        6375.9    0.00928541       570.576           1           1      941   \n",
      "    Iter      log prob        ||dx||      ||grad||       alpha      alpha0  # evals  Notes \n",
      "     899       6385.35     0.0135176       1913.54           1           1     1060   \n",
      "    Iter      log prob        ||dx||      ||grad||       alpha      alpha0  # evals  Notes \n",
      "     999       6391.54    0.00621928       525.098           1           1     1188   \n",
      "    Iter      log prob        ||dx||      ||grad||       alpha      alpha0  # evals  Notes \n",
      "    1099       6398.02   0.000211355       130.735       1.764      0.1764     1304   \n",
      "    Iter      log prob        ||dx||      ||grad||       alpha      alpha0  # evals  Notes \n",
      "    1199       6400.44     0.0283455       2363.12           1           1     1419   \n",
      "    Iter      log prob        ||dx||      ||grad||       alpha      alpha0  # evals  Notes \n",
      "    1299       6404.64   0.000939105       288.876           1           1     1540   \n",
      "    Iter      log prob        ||dx||      ||grad||       alpha      alpha0  # evals  Notes \n",
      "    1399       6406.47   0.000724918       557.907      0.6512      0.6512     1662   \n",
      "    Iter      log prob        ||dx||      ||grad||       alpha      alpha0  # evals  Notes \n",
      "    1499       6409.53    0.00798398       623.752      0.5231           1     1778   \n",
      "    Iter      log prob        ||dx||      ||grad||       alpha      alpha0  # evals  Notes \n",
      "    1599       6416.16     0.0185948       872.479           1           1     1905   \n",
      "    Iter      log prob        ||dx||      ||grad||       alpha      alpha0  # evals  Notes \n",
      "    1699       6427.45    0.00437058       410.139      0.8903      0.8903     2017   \n",
      "    Iter      log prob        ||dx||      ||grad||       alpha      alpha0  # evals  Notes \n",
      "    1799       6434.88   0.000696284       170.098           1           1     2132   \n",
      "    Iter      log prob        ||dx||      ||grad||       alpha      alpha0  # evals  Notes \n",
      "    1899       6438.33    0.00107851       395.124           1           1     2253   \n",
      "    Iter      log prob        ||dx||      ||grad||       alpha      alpha0  # evals  Notes \n",
      "    1999       6441.38    0.00638491       366.544           1           1     2372   \n",
      "    Iter      log prob        ||dx||      ||grad||       alpha      alpha0  # evals  Notes \n",
      "    2099       6444.15   0.000841949       203.602           1           1     2501   \n",
      "    Iter      log prob        ||dx||      ||grad||       alpha      alpha0  # evals  Notes \n",
      "    2199       6445.71   0.000325789       289.786           1           1     2617   \n",
      "    Iter      log prob        ||dx||      ||grad||       alpha      alpha0  # evals  Notes \n",
      "    2299       6446.99   0.000564214       215.739           1           1     2730   \n",
      "    Iter      log prob        ||dx||      ||grad||       alpha      alpha0  # evals  Notes \n",
      "    2399       6448.57   0.000687705       735.438           1           1     2840   \n",
      "    Iter      log prob        ||dx||      ||grad||       alpha      alpha0  # evals  Notes \n",
      "    2499       6451.73    0.00310422       249.171           1           1     2953   \n",
      "    Iter      log prob        ||dx||      ||grad||       alpha      alpha0  # evals  Notes \n",
      "    2599       6454.96   0.000483535       298.166           1           1     3076   \n",
      "    Iter      log prob        ||dx||      ||grad||       alpha      alpha0  # evals  Notes \n",
      "    2699        6456.2   0.000284316       119.151           1           1     3193   \n",
      "    Iter      log prob        ||dx||      ||grad||       alpha      alpha0  # evals  Notes \n",
      "    2799       6457.14   0.000655758       245.594           1           1     3304   \n",
      "    Iter      log prob        ||dx||      ||grad||       alpha      alpha0  # evals  Notes \n",
      "    2899       6458.44     0.0074458       130.748           1           1     3417   \n",
      "    Iter      log prob        ||dx||      ||grad||       alpha      alpha0  # evals  Notes \n",
      "    2999       6464.61    0.00755986       1031.74      0.8904      0.8904     3537   \n",
      "    Iter      log prob        ||dx||      ||grad||       alpha      alpha0  # evals  Notes \n",
      "    3099       6483.84     0.0122558       792.024      0.3364           1     3647   \n",
      "    Iter      log prob        ||dx||      ||grad||       alpha      alpha0  # evals  Notes \n",
      "    3199       6488.75    0.00176253        448.92      0.2151      0.2151     3775   \n",
      "    Iter      log prob        ||dx||      ||grad||       alpha      alpha0  # evals  Notes \n",
      "    3299       6490.99    0.00110464         319.3           1           1     3894   \n",
      "    Iter      log prob        ||dx||      ||grad||       alpha      alpha0  # evals  Notes \n",
      "    3399       6494.01   0.000249891       1415.95     0.05552           1     4039   \n",
      "    Iter      log prob        ||dx||      ||grad||       alpha      alpha0  # evals  Notes \n",
      "    3499       6494.98    0.00196886        1157.1           1           1     4156   \n",
      "    Iter      log prob        ||dx||      ||grad||       alpha      alpha0  # evals  Notes \n",
      "    3599       6496.29   0.000251565       895.141           1           1     4271   \n",
      "    Iter      log prob        ||dx||      ||grad||       alpha      alpha0  # evals  Notes \n",
      "    3699       6496.93     0.0009338       257.951           1           1     4384   \n",
      "    Iter      log prob        ||dx||      ||grad||       alpha      alpha0  # evals  Notes \n",
      "    3799       6497.59   0.000781304       763.056           1           1     4510   \n",
      "    Iter      log prob        ||dx||      ||grad||       alpha      alpha0  # evals  Notes \n",
      "    3899       6500.74    0.00175435        224.85      0.5097      0.5097     4638   \n",
      "    Iter      log prob        ||dx||      ||grad||       alpha      alpha0  # evals  Notes \n",
      "    3999       6502.11    0.00126099       2134.71      0.3549           1     4758   \n",
      "    Iter      log prob        ||dx||      ||grad||       alpha      alpha0  # evals  Notes \n",
      "    4099       6502.85   0.000240586       199.154           1           1     4886   \n",
      "    Iter      log prob        ||dx||      ||grad||       alpha      alpha0  # evals  Notes \n",
      "    4199        6503.8    0.00128551       236.319           1           1     5031   \n",
      "    Iter      log prob        ||dx||      ||grad||       alpha      alpha0  # evals  Notes \n",
      "    4299       6504.86    0.00573709       2170.29       6.817      0.6817     5147   \n",
      "    Iter      log prob        ||dx||      ||grad||       alpha      alpha0  # evals  Notes \n",
      "    4399       6506.62     0.0319769        7093.1           1           1     5271   \n",
      "    Iter      log prob        ||dx||      ||grad||       alpha      alpha0  # evals  Notes \n",
      "    4499       6510.45      0.002412       1084.79      0.2791      0.2791     5388   \n",
      "    Iter      log prob        ||dx||      ||grad||       alpha      alpha0  # evals  Notes \n",
      "    4599       6513.97    0.00221549       2004.22           1           1     5513   \n",
      "    Iter      log prob        ||dx||      ||grad||       alpha      alpha0  # evals  Notes \n",
      "    4699       6515.58      0.023478       2337.07      0.1238           1     5631   \n",
      "    Iter      log prob        ||dx||      ||grad||       alpha      alpha0  # evals  Notes \n",
      "    4799       6520.52    0.00327776       2737.79      0.3883           1     5763   \n",
      "    Iter      log prob        ||dx||      ||grad||       alpha      alpha0  # evals  Notes \n",
      "    4899       6523.19    0.00221278       1658.19           1           1     5887   \n",
      "    Iter      log prob        ||dx||      ||grad||       alpha      alpha0  # evals  Notes \n",
      "    4999       6527.12     0.0006851       701.917           1           1     6017   \n"
     ]
    },
    {
     "name": "stdout",
     "output_type": "stream",
     "text": [
      "    Iter      log prob        ||dx||      ||grad||       alpha      alpha0  # evals  Notes \n",
      "    5099       6529.22   0.000858381       792.796      0.4104      0.4104     6130   \n",
      "    Iter      log prob        ||dx||      ||grad||       alpha      alpha0  # evals  Notes \n",
      "    5199       6530.18   0.000234744       1928.32      0.5955      0.5955     6252   \n",
      "    Iter      log prob        ||dx||      ||grad||       alpha      alpha0  # evals  Notes \n",
      "    5299       6532.47   4.40126e-05       254.041           1           1     6376   \n",
      "    Iter      log prob        ||dx||      ||grad||       alpha      alpha0  # evals  Notes \n",
      "    5399       6533.26   0.000203189       1621.22           1           1     6493   \n",
      "    Iter      log prob        ||dx||      ||grad||       alpha      alpha0  # evals  Notes \n",
      "    5499       6534.28   0.000113767       104.095           1           1     6605   \n",
      "    Iter      log prob        ||dx||      ||grad||       alpha      alpha0  # evals  Notes \n",
      "    5599       6534.91   0.000236075       873.176           1           1     6730   \n",
      "    Iter      log prob        ||dx||      ||grad||       alpha      alpha0  # evals  Notes \n",
      "    5699       6536.16   0.000442024       1113.72           1           1     6849   \n",
      "    Iter      log prob        ||dx||      ||grad||       alpha      alpha0  # evals  Notes \n",
      "    5799       6537.37   0.000384169        3262.1      0.5382      0.5382     6969   \n",
      "    Iter      log prob        ||dx||      ||grad||       alpha      alpha0  # evals  Notes \n",
      "    5899       6538.49   4.25374e-05       234.374           1           1     7095   \n",
      "    Iter      log prob        ||dx||      ||grad||       alpha      alpha0  # evals  Notes \n",
      "    5999       6538.95   4.71276e-05       422.137      0.7156      0.7156     7216   \n",
      "    Iter      log prob        ||dx||      ||grad||       alpha      alpha0  # evals  Notes \n",
      "    6099       6539.17   0.000204185       403.211           1           1     7337   \n",
      "    Iter      log prob        ||dx||      ||grad||       alpha      alpha0  # evals  Notes \n",
      "    6199       6539.38    0.00020309       128.471           1           1     7458   \n",
      "    Iter      log prob        ||dx||      ||grad||       alpha      alpha0  # evals  Notes \n",
      "    6259       6539.46   1.34191e-05       24.3582      0.7622      0.7622     7535   \n",
      "Optimization terminated normally: \n",
      "  Convergence detected: relative gradient magnitude is below tolerance\n"
     ]
    }
   ],
   "source": [
    "m = ProphetModel(sp500_test, params)\n",
    "m.fit()"
   ]
  },
  {
   "cell_type": "code",
   "execution_count": 49,
   "id": "ec6add4e",
   "metadata": {
    "scrolled": true
   },
   "outputs": [
    {
     "data": {
      "text/html": [
       "<div>\n",
       "<style scoped>\n",
       "    .dataframe tbody tr th:only-of-type {\n",
       "        vertical-align: middle;\n",
       "    }\n",
       "\n",
       "    .dataframe tbody tr th {\n",
       "        vertical-align: top;\n",
       "    }\n",
       "\n",
       "    .dataframe thead th {\n",
       "        text-align: right;\n",
       "    }\n",
       "</style>\n",
       "<table border=\"1\" class=\"dataframe\">\n",
       "  <thead>\n",
       "    <tr style=\"text-align: right;\">\n",
       "      <th></th>\n",
       "      <th>time</th>\n",
       "      <th>fcst</th>\n",
       "      <th>fcst_lower</th>\n",
       "      <th>fcst_upper</th>\n",
       "    </tr>\n",
       "  </thead>\n",
       "  <tbody>\n",
       "    <tr>\n",
       "      <th>0</th>\n",
       "      <td>2021-01-31</td>\n",
       "      <td>-6161.457222</td>\n",
       "      <td>-6269.504527</td>\n",
       "      <td>-6046.208146</td>\n",
       "    </tr>\n",
       "    <tr>\n",
       "      <th>1</th>\n",
       "      <td>2021-02-28</td>\n",
       "      <td>-6254.648047</td>\n",
       "      <td>-6398.968357</td>\n",
       "      <td>-6114.672821</td>\n",
       "    </tr>\n",
       "    <tr>\n",
       "      <th>2</th>\n",
       "      <td>2021-03-31</td>\n",
       "      <td>3242.126981</td>\n",
       "      <td>3107.194046</td>\n",
       "      <td>3369.428909</td>\n",
       "    </tr>\n",
       "    <tr>\n",
       "      <th>3</th>\n",
       "      <td>2021-04-30</td>\n",
       "      <td>3340.255945</td>\n",
       "      <td>3150.960134</td>\n",
       "      <td>3511.894924</td>\n",
       "    </tr>\n",
       "    <tr>\n",
       "      <th>4</th>\n",
       "      <td>2021-05-31</td>\n",
       "      <td>3406.052133</td>\n",
       "      <td>3178.756679</td>\n",
       "      <td>3617.292831</td>\n",
       "    </tr>\n",
       "  </tbody>\n",
       "</table>\n",
       "</div>"
      ],
      "text/plain": [
       "        time         fcst   fcst_lower   fcst_upper\n",
       "0 2021-01-31 -6161.457222 -6269.504527 -6046.208146\n",
       "1 2021-02-28 -6254.648047 -6398.968357 -6114.672821\n",
       "2 2021-03-31  3242.126981  3107.194046  3369.428909\n",
       "3 2021-04-30  3340.255945  3150.960134  3511.894924\n",
       "4 2021-05-31  3406.052133  3178.756679  3617.292831"
      ]
     },
     "execution_count": 49,
     "metadata": {},
     "output_type": "execute_result"
    }
   ],
   "source": [
    "pred_prophet = m.predict(steps=5, freq=\"M\")\n",
    "pred_prophet"
   ]
  },
  {
   "cell_type": "code",
   "execution_count": 50,
   "id": "f2c97ada",
   "metadata": {},
   "outputs": [],
   "source": [
    "forecast = pred_prophet[pred_prophet[\"time\"] < '2022-11-11'][\"fcst\"].reset_index(drop=True)"
   ]
  },
  {
   "cell_type": "code",
   "execution_count": 51,
   "id": "3853ed4c",
   "metadata": {},
   "outputs": [
    {
     "data": {
      "text/plain": [
       "0   -6161.457222\n",
       "1   -6254.648047\n",
       "2    3242.126981\n",
       "3    3340.255945\n",
       "4    3406.052133\n",
       "Name: fcst, dtype: float64"
      ]
     },
     "execution_count": 51,
     "metadata": {},
     "output_type": "execute_result"
    }
   ],
   "source": [
    "forecast"
   ]
  },
  {
   "cell_type": "code",
   "execution_count": 45,
   "id": "d851f798",
   "metadata": {},
   "outputs": [
    {
     "ename": "NameError",
     "evalue": "name 'time' is not defined",
     "output_type": "error",
     "traceback": [
      "\u001b[0;31m---------------------------------------------------------------------------\u001b[0m",
      "\u001b[0;31mNameError\u001b[0m                                 Traceback (most recent call last)",
      "Input \u001b[0;32mIn [45]\u001b[0m, in \u001b[0;36m<cell line: 1>\u001b[0;34m()\u001b[0m\n\u001b[0;32m----> 1\u001b[0m pd\u001b[38;5;241m.\u001b[39mDataFrame({\u001b[38;5;124m\"\u001b[39m\u001b[38;5;124mtime\u001b[39m\u001b[38;5;124m\"\u001b[39m:\u001b[43mtime\u001b[49m, \u001b[38;5;124m\"\u001b[39m\u001b[38;5;124mtrue\u001b[39m\u001b[38;5;124m\"\u001b[39m:true, \u001b[38;5;124m\"\u001b[39m\u001b[38;5;124mforecast\u001b[39m\u001b[38;5;124m\"\u001b[39m:forecast})\n",
      "\u001b[0;31mNameError\u001b[0m: name 'time' is not defined"
     ]
    }
   ],
   "source": [
    "pd.DataFrame({\"time\":time, \"true\":true, \"forecast\":forecast})"
   ]
  },
  {
   "cell_type": "code",
   "execution_count": null,
   "id": "74c36d33",
   "metadata": {},
   "outputs": [],
   "source": []
  },
  {
   "cell_type": "code",
   "execution_count": 37,
   "id": "57f410df",
   "metadata": {},
   "outputs": [
    {
     "data": {
      "text/plain": [
       "<AxesSubplot:xlabel='time', ylabel='y'>"
      ]
     },
     "execution_count": 37,
     "metadata": {},
     "output_type": "execute_result"
    },
    {
     "data": {
      "image/png": "[encoded data removed]",
      "text/plain": [
       "<Figure size 720x432 with 1 Axes>"
      ]
     },
     "metadata": {},
     "output_type": "display_data"
    }
   ],
   "source": [
    "m.plot()"
   ]
  },
  {
   "cell_type": "code",
   "execution_count": null,
   "id": "2cede01e",
   "metadata": {},
   "outputs": [],
   "source": []
  },
  {
   "cell_type": "code",
   "execution_count": null,
   "id": "734abf73",
   "metadata": {},
   "outputs": [],
   "source": []
  },
  {
   "cell_type": "code",
   "execution_count": 52,
   "id": "06ce3c9a",
   "metadata": {},
   "outputs": [],
   "source": [
    "from kats.models.lstm import LSTMModel, LSTMParams"
   ]
  },
  {
   "cell_type": "code",
   "execution_count": 53,
   "id": "78c3bb73",
   "metadata": {},
   "outputs": [],
   "source": [
    "params = LSTMParams(\n",
    "    hidden_size=5, # number of hidden layers\n",
    "    time_window=6,\n",
    "    num_epochs=50\n",
    ")"
   ]
  },
  {
   "cell_type": "code",
   "execution_count": 54,
   "id": "e62ed7cf",
   "metadata": {},
   "outputs": [
    {
     "data": {
      "text/plain": [
       "<kats.models.lstm.LSTMModel at 0x7ff2d7effe40>"
      ]
     },
     "execution_count": 54,
     "metadata": {},
     "output_type": "execute_result"
    }
   ],
   "source": [
    "m = LSTMModel(sp500_test, params)\n",
    "m.fit()"
   ]
  },
  {
   "cell_type": "code",
   "execution_count": 55,
   "id": "41a13198",
   "metadata": {},
   "outputs": [],
   "source": [
    "fcst = m.predict(steps=6, freq=\"M\")"
   ]
  },
  {
   "cell_type": "code",
   "execution_count": 56,
   "id": "ed6e1221",
   "metadata": {},
   "outputs": [
    {
     "data": {
      "text/plain": [
       "<AxesSubplot:xlabel='time', ylabel='y'>"
      ]
     },
     "execution_count": 56,
     "metadata": {},
     "output_type": "execute_result"
    },
    {
     "data": {
      "image/png": "[encoded data removed]",
      "text/plain": [
       "<Figure size 720x432 with 1 Axes>"
      ]
     },
     "metadata": {},
     "output_type": "display_data"
    }
   ],
   "source": [
    "m.plot()"
   ]
  },
  {
   "cell_type": "code",
   "execution_count": 57,
   "id": "bc29fd22",
   "metadata": {},
   "outputs": [],
   "source": [
    "forecast = fcst[fcst[\"time\"] < '2022-11-11'][\"fcst\"].reset_index(drop=True)\n"
   ]
  },
  {
   "cell_type": "code",
   "execution_count": 58,
   "id": "92c43298",
   "metadata": {},
   "outputs": [
    {
     "ename": "NameError",
     "evalue": "name 'time' is not defined",
     "output_type": "error",
     "traceback": [
      "\u001b[0;31m---------------------------------------------------------------------------\u001b[0m",
      "\u001b[0;31mNameError\u001b[0m                                 Traceback (most recent call last)",
      "Input \u001b[0;32mIn [58]\u001b[0m, in \u001b[0;36m<cell line: 1>\u001b[0;34m()\u001b[0m\n\u001b[0;32m----> 1\u001b[0m pd\u001b[38;5;241m.\u001b[39mDataFrame({\u001b[38;5;124m\"\u001b[39m\u001b[38;5;124mtime\u001b[39m\u001b[38;5;124m\"\u001b[39m:\u001b[43mtime\u001b[49m, \u001b[38;5;124m\"\u001b[39m\u001b[38;5;124mtrue\u001b[39m\u001b[38;5;124m\"\u001b[39m:true, \u001b[38;5;124m\"\u001b[39m\u001b[38;5;124mforecast\u001b[39m\u001b[38;5;124m\"\u001b[39m:forecast})\n",
      "\u001b[0;31mNameError\u001b[0m: name 'time' is not defined"
     ]
    }
   ],
   "source": [
    "pd.DataFrame({\"time\":time, \"true\":true, \"forecast\":forecast})"
   ]
  },
  {
   "cell_type": "code",
   "execution_count": 59,
   "id": "dcef6ba7",
   "metadata": {},
   "outputs": [
    {
     "ename": "NameError",
     "evalue": "name 'mape' is not defined",
     "output_type": "error",
     "traceback": [
      "\u001b[0;31m---------------------------------------------------------------------------\u001b[0m",
      "\u001b[0;31mNameError\u001b[0m                                 Traceback (most recent call last)",
      "Input \u001b[0;32mIn [59]\u001b[0m, in \u001b[0;36m<cell line: 1>\u001b[0;34m()\u001b[0m\n\u001b[0;32m----> 1\u001b[0m mape_lstm \u001b[38;5;241m=\u001b[39m \u001b[43mmape\u001b[49m(true, forecast)\u001b[38;5;241m*\u001b[39m\u001b[38;5;241m100\u001b[39m\n\u001b[1;32m      2\u001b[0m mape_lstm\n",
      "\u001b[0;31mNameError\u001b[0m: name 'mape' is not defined"
     ]
    }
   ],
   "source": [
    "mape_lstm = mape(true, forecast)*100\n",
    "mape_lstm"
   ]
  },
  {
   "cell_type": "code",
   "execution_count": null,
   "id": "7642d76c",
   "metadata": {},
   "outputs": [],
   "source": []
  }
 ],
 "metadata": {
  "kernelspec": {
   "display_name": "Python 3 (ipykernel)",
   "language": "python",
   "name": "python3"
  },
  "language_info": {
   "codemirror_mode": {
    "name": "ipython",
    "version": 3
   },
   "file_extension": ".py",
   "mimetype": "text/x-python",
   "name": "python",
   "nbconvert_exporter": "python",
   "pygments_lexer": "ipython3",
   "version": "3.9.12"
  }
 },
 "nbformat": 4,
 "nbformat_minor": 5
}
