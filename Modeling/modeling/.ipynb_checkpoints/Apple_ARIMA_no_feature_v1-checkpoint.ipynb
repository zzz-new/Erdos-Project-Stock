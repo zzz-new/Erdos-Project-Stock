{
 "cells": [
  {
   "cell_type": "code",
   "execution_count": null,
   "id": "da102320",
   "metadata": {},
   "outputs": [],
   "source": [
    "'''\n",
    "v1. Predict Apple using ARIMA model\n",
    "\n",
    "'''"
   ]
  },
  {
   "cell_type": "code",
   "execution_count": 1,
   "id": "947ff421",
   "metadata": {},
   "outputs": [],
   "source": [
    "import pandas as pd\n",
    "import matplotlib.pyplot as plt\n",
    "import numpy as np\n",
    "\n",
    "from datetime import datetime, timedelta\n",
    "from seaborn import set_style\n",
    "set_style(\"whitegrid\")\n",
    "from seaborn import set_style"
   ]
  },
  {
   "cell_type": "code",
   "execution_count": 2,
   "id": "cdb69ce4",
   "metadata": {
    "scrolled": true
   },
   "outputs": [],
   "source": [
    "## Import SARIMAX from tsa.api\n",
    "from statsmodels.tsa.arima.model import ARIMA"
   ]
  },
  {
   "cell_type": "code",
   "execution_count": 3,
   "id": "edca61c1",
   "metadata": {},
   "outputs": [],
   "source": [
    "set_style(\"whitegrid\")"
   ]
  },
  {
   "cell_type": "code",
   "execution_count": null,
   "id": "78ed5226",
   "metadata": {},
   "outputs": [],
   "source": []
  },
  {
   "cell_type": "code",
   "execution_count": 4,
   "id": "1d0f90a8",
   "metadata": {
    "scrolled": true
   },
   "outputs": [
    {
     "data": {
      "text/plain": [
       "'/Users/ziyuan/Library/CloudStorage/OneDrive-WashingtonUniversityinSt.Louis/Machine_Learning/Erdos_Bootcamp/Project/modeling/modeling'"
      ]
     },
     "execution_count": 4,
     "metadata": {},
     "output_type": "execute_result"
    }
   ],
   "source": [
    "pwd"
   ]
  },
  {
   "cell_type": "code",
   "execution_count": 5,
   "id": "4d86f2f3",
   "metadata": {
    "scrolled": true
   },
   "outputs": [],
   "source": [
    "apple_raw=pd.read_csv('../../Dataset/AAPL.csv')"
   ]
  },
  {
   "cell_type": "code",
   "execution_count": 6,
   "id": "e9bd03b8",
   "metadata": {},
   "outputs": [
    {
     "data": {
      "text/html": [
       "<div>\n",
       "<style scoped>\n",
       "    .dataframe tbody tr th:only-of-type {\n",
       "        vertical-align: middle;\n",
       "    }\n",
       "\n",
       "    .dataframe tbody tr th {\n",
       "        vertical-align: top;\n",
       "    }\n",
       "\n",
       "    .dataframe thead th {\n",
       "        text-align: right;\n",
       "    }\n",
       "</style>\n",
       "<table border=\"1\" class=\"dataframe\">\n",
       "  <thead>\n",
       "    <tr style=\"text-align: right;\">\n",
       "      <th></th>\n",
       "      <th>Date</th>\n",
       "      <th>Open</th>\n",
       "      <th>High</th>\n",
       "      <th>Low</th>\n",
       "      <th>Close</th>\n",
       "      <th>Adj Close</th>\n",
       "      <th>Volume</th>\n",
       "    </tr>\n",
       "  </thead>\n",
       "  <tbody>\n",
       "    <tr>\n",
       "      <th>0</th>\n",
       "      <td>2010-11-26</td>\n",
       "      <td>11.205000</td>\n",
       "      <td>11.346429</td>\n",
       "      <td>11.176429</td>\n",
       "      <td>11.250000</td>\n",
       "      <td>9.589703</td>\n",
       "      <td>237585600</td>\n",
       "    </tr>\n",
       "    <tr>\n",
       "      <th>1</th>\n",
       "      <td>2010-11-29</td>\n",
       "      <td>11.267857</td>\n",
       "      <td>11.338571</td>\n",
       "      <td>11.120714</td>\n",
       "      <td>11.316786</td>\n",
       "      <td>9.646631</td>\n",
       "      <td>445785200</td>\n",
       "    </tr>\n",
       "    <tr>\n",
       "      <th>2</th>\n",
       "      <td>2010-11-30</td>\n",
       "      <td>11.197857</td>\n",
       "      <td>11.227143</td>\n",
       "      <td>11.102500</td>\n",
       "      <td>11.112500</td>\n",
       "      <td>9.472493</td>\n",
       "      <td>501858000</td>\n",
       "    </tr>\n",
       "  </tbody>\n",
       "</table>\n",
       "</div>"
      ],
      "text/plain": [
       "         Date       Open       High        Low      Close  Adj Close  \\\n",
       "0  2010-11-26  11.205000  11.346429  11.176429  11.250000   9.589703   \n",
       "1  2010-11-29  11.267857  11.338571  11.120714  11.316786   9.646631   \n",
       "2  2010-11-30  11.197857  11.227143  11.102500  11.112500   9.472493   \n",
       "\n",
       "      Volume  \n",
       "0  237585600  \n",
       "1  445785200  \n",
       "2  501858000  "
      ]
     },
     "execution_count": 6,
     "metadata": {},
     "output_type": "execute_result"
    }
   ],
   "source": [
    "apple_raw.head(3)"
   ]
  },
  {
   "cell_type": "code",
   "execution_count": 7,
   "id": "4474080a",
   "metadata": {},
   "outputs": [],
   "source": [
    "apple_raw[\"Date\"] = pd.to_datetime(apple_raw[\"Date\"])"
   ]
  },
  {
   "cell_type": "code",
   "execution_count": 8,
   "id": "05568229",
   "metadata": {},
   "outputs": [],
   "source": [
    "apple_raw=apple_raw.drop(columns=['Open','High','Low','Adj Close','Volume'])"
   ]
  },
  {
   "cell_type": "code",
   "execution_count": 9,
   "id": "6c4e23d8",
   "metadata": {},
   "outputs": [
    {
     "data": {
      "text/html": [
       "<div>\n",
       "<style scoped>\n",
       "    .dataframe tbody tr th:only-of-type {\n",
       "        vertical-align: middle;\n",
       "    }\n",
       "\n",
       "    .dataframe tbody tr th {\n",
       "        vertical-align: top;\n",
       "    }\n",
       "\n",
       "    .dataframe thead th {\n",
       "        text-align: right;\n",
       "    }\n",
       "</style>\n",
       "<table border=\"1\" class=\"dataframe\">\n",
       "  <thead>\n",
       "    <tr style=\"text-align: right;\">\n",
       "      <th></th>\n",
       "      <th>Date</th>\n",
       "      <th>Close</th>\n",
       "    </tr>\n",
       "  </thead>\n",
       "  <tbody>\n",
       "    <tr>\n",
       "      <th>0</th>\n",
       "      <td>2010-11-26</td>\n",
       "      <td>11.250000</td>\n",
       "    </tr>\n",
       "    <tr>\n",
       "      <th>1</th>\n",
       "      <td>2010-11-29</td>\n",
       "      <td>11.316786</td>\n",
       "    </tr>\n",
       "    <tr>\n",
       "      <th>2</th>\n",
       "      <td>2010-11-30</td>\n",
       "      <td>11.112500</td>\n",
       "    </tr>\n",
       "  </tbody>\n",
       "</table>\n",
       "</div>"
      ],
      "text/plain": [
       "        Date      Close\n",
       "0 2010-11-26  11.250000\n",
       "1 2010-11-29  11.316786\n",
       "2 2010-11-30  11.112500"
      ]
     },
     "execution_count": 9,
     "metadata": {},
     "output_type": "execute_result"
    }
   ],
   "source": [
    "apple_raw.head(3)"
   ]
  },
  {
   "cell_type": "code",
   "execution_count": 12,
   "id": "0ad79ce2",
   "metadata": {},
   "outputs": [
    {
     "data": {
      "text/html": [
       "<div>\n",
       "<style scoped>\n",
       "    .dataframe tbody tr th:only-of-type {\n",
       "        vertical-align: middle;\n",
       "    }\n",
       "\n",
       "    .dataframe tbody tr th {\n",
       "        vertical-align: top;\n",
       "    }\n",
       "\n",
       "    .dataframe thead th {\n",
       "        text-align: right;\n",
       "    }\n",
       "</style>\n",
       "<table border=\"1\" class=\"dataframe\">\n",
       "  <thead>\n",
       "    <tr style=\"text-align: right;\">\n",
       "      <th></th>\n",
       "      <th>Date</th>\n",
       "      <th>Close</th>\n",
       "    </tr>\n",
       "  </thead>\n",
       "  <tbody>\n",
       "    <tr>\n",
       "      <th>3018</th>\n",
       "      <td>2022-11-22</td>\n",
       "      <td>150.179993</td>\n",
       "    </tr>\n",
       "    <tr>\n",
       "      <th>3019</th>\n",
       "      <td>2022-11-23</td>\n",
       "      <td>151.070007</td>\n",
       "    </tr>\n",
       "    <tr>\n",
       "      <th>3020</th>\n",
       "      <td>2022-11-25</td>\n",
       "      <td>148.110001</td>\n",
       "    </tr>\n",
       "  </tbody>\n",
       "</table>\n",
       "</div>"
      ],
      "text/plain": [
       "           Date       Close\n",
       "3018 2022-11-22  150.179993\n",
       "3019 2022-11-23  151.070007\n",
       "3020 2022-11-25  148.110001"
      ]
     },
     "execution_count": 12,
     "metadata": {},
     "output_type": "execute_result"
    }
   ],
   "source": [
    "apple_raw.tail(3)"
   ]
  },
  {
   "cell_type": "code",
   "execution_count": null,
   "id": "a79edff8",
   "metadata": {},
   "outputs": [],
   "source": []
  },
  {
   "cell_type": "code",
   "execution_count": null,
   "id": "bfa1ec3e",
   "metadata": {},
   "outputs": [],
   "source": []
  },
  {
   "cell_type": "code",
   "execution_count": 17,
   "id": "b1acd07b",
   "metadata": {},
   "outputs": [],
   "source": [
    "# in order to keep a same end date with the merged data file\n",
    "apple_raw = apple_raw[(apple_raw['Date'] < '2021-12-31')]"
   ]
  },
  {
   "cell_type": "code",
   "execution_count": 19,
   "id": "6a21e7a2",
   "metadata": {},
   "outputs": [
    {
     "data": {
      "text/html": [
       "<div>\n",
       "<style scoped>\n",
       "    .dataframe tbody tr th:only-of-type {\n",
       "        vertical-align: middle;\n",
       "    }\n",
       "\n",
       "    .dataframe tbody tr th {\n",
       "        vertical-align: top;\n",
       "    }\n",
       "\n",
       "    .dataframe thead th {\n",
       "        text-align: right;\n",
       "    }\n",
       "</style>\n",
       "<table border=\"1\" class=\"dataframe\">\n",
       "  <thead>\n",
       "    <tr style=\"text-align: right;\">\n",
       "      <th></th>\n",
       "      <th>Date</th>\n",
       "      <th>Close</th>\n",
       "    </tr>\n",
       "  </thead>\n",
       "  <tbody>\n",
       "    <tr>\n",
       "      <th>0</th>\n",
       "      <td>2010-11-26</td>\n",
       "      <td>11.250000</td>\n",
       "    </tr>\n",
       "    <tr>\n",
       "      <th>1</th>\n",
       "      <td>2010-11-29</td>\n",
       "      <td>11.316786</td>\n",
       "    </tr>\n",
       "    <tr>\n",
       "      <th>2</th>\n",
       "      <td>2010-11-30</td>\n",
       "      <td>11.112500</td>\n",
       "    </tr>\n",
       "    <tr>\n",
       "      <th>3</th>\n",
       "      <td>2010-12-01</td>\n",
       "      <td>11.300000</td>\n",
       "    </tr>\n",
       "    <tr>\n",
       "      <th>4</th>\n",
       "      <td>2010-12-02</td>\n",
       "      <td>11.362500</td>\n",
       "    </tr>\n",
       "    <tr>\n",
       "      <th>...</th>\n",
       "      <td>...</td>\n",
       "      <td>...</td>\n",
       "    </tr>\n",
       "    <tr>\n",
       "      <th>2788</th>\n",
       "      <td>2021-12-23</td>\n",
       "      <td>176.279999</td>\n",
       "    </tr>\n",
       "    <tr>\n",
       "      <th>2789</th>\n",
       "      <td>2021-12-27</td>\n",
       "      <td>180.330002</td>\n",
       "    </tr>\n",
       "    <tr>\n",
       "      <th>2790</th>\n",
       "      <td>2021-12-28</td>\n",
       "      <td>179.289993</td>\n",
       "    </tr>\n",
       "    <tr>\n",
       "      <th>2791</th>\n",
       "      <td>2021-12-29</td>\n",
       "      <td>179.380005</td>\n",
       "    </tr>\n",
       "    <tr>\n",
       "      <th>2792</th>\n",
       "      <td>2021-12-30</td>\n",
       "      <td>178.199997</td>\n",
       "    </tr>\n",
       "  </tbody>\n",
       "</table>\n",
       "<p>2793 rows × 2 columns</p>\n",
       "</div>"
      ],
      "text/plain": [
       "           Date       Close\n",
       "0    2010-11-26   11.250000\n",
       "1    2010-11-29   11.316786\n",
       "2    2010-11-30   11.112500\n",
       "3    2010-12-01   11.300000\n",
       "4    2010-12-02   11.362500\n",
       "...         ...         ...\n",
       "2788 2021-12-23  176.279999\n",
       "2789 2021-12-27  180.330002\n",
       "2790 2021-12-28  179.289993\n",
       "2791 2021-12-29  179.380005\n",
       "2792 2021-12-30  178.199997\n",
       "\n",
       "[2793 rows x 2 columns]"
      ]
     },
     "execution_count": 19,
     "metadata": {},
     "output_type": "execute_result"
    }
   ],
   "source": [
    "apple_raw"
   ]
  },
  {
   "cell_type": "code",
   "execution_count": null,
   "id": "6a35f791",
   "metadata": {},
   "outputs": [],
   "source": []
  },
  {
   "cell_type": "code",
   "execution_count": null,
   "id": "679de54b",
   "metadata": {},
   "outputs": [],
   "source": []
  },
  {
   "cell_type": "code",
   "execution_count": null,
   "id": "4b054b1c",
   "metadata": {},
   "outputs": [],
   "source": []
  },
  {
   "cell_type": "code",
   "execution_count": 18,
   "id": "d81b57cb",
   "metadata": {
    "scrolled": false
   },
   "outputs": [
    {
     "data": {
      "image/png": "[encoded data removed]",
      "text/plain": [
       "<Figure size 1440x576 with 1 Axes>"
      ]
     },
     "metadata": {},
     "output_type": "display_data"
    }
   ],
   "source": [
    "plt.figure(figsize=(20,8))\n",
    "\n",
    "plt.plot(apple_raw.Date[-200:], \n",
    "         apple_raw.Close[-200:],\n",
    "         'b',\n",
    "         label=\"Training Data\")\n",
    "\n",
    "plt.xlabel(\"Date\", fontsize=18)\n",
    "plt.ylabel(\"Closing Price\", fontsize=18)\n",
    "plt.title('APPLE', fontsize=18)\n",
    "\n",
    "plt.xticks(fontsize=14)\n",
    "plt.yticks(fontsize=14)\n",
    "\n",
    "plt.legend(fontsize=14, loc=2)\n",
    "\n",
    "plt.show()"
   ]
  },
  {
   "cell_type": "code",
   "execution_count": null,
   "id": "33b09dc3",
   "metadata": {},
   "outputs": [],
   "source": []
  },
  {
   "cell_type": "code",
   "execution_count": null,
   "id": "f3e8f1c9",
   "metadata": {},
   "outputs": [],
   "source": []
  },
  {
   "cell_type": "code",
   "execution_count": 20,
   "id": "aa3156f6",
   "metadata": {},
   "outputs": [],
   "source": [
    "apple_train = apple_raw.iloc[:-500].copy()\n",
    "apple_test = apple_raw.iloc[-500:].copy()"
   ]
  },
  {
   "cell_type": "code",
   "execution_count": 21,
   "id": "414ea0e9",
   "metadata": {},
   "outputs": [
    {
     "data": {
      "text/plain": [
       "[(2293, 2), (500, 2), 2793]"
      ]
     },
     "execution_count": 21,
     "metadata": {},
     "output_type": "execute_result"
    }
   ],
   "source": [
    "[apple_train.shape,apple_test.shape, len(apple_raw)]"
   ]
  },
  {
   "cell_type": "code",
   "execution_count": 22,
   "id": "3e8a4a55",
   "metadata": {},
   "outputs": [
    {
     "data": {
      "text/html": [
       "<div>\n",
       "<style scoped>\n",
       "    .dataframe tbody tr th:only-of-type {\n",
       "        vertical-align: middle;\n",
       "    }\n",
       "\n",
       "    .dataframe tbody tr th {\n",
       "        vertical-align: top;\n",
       "    }\n",
       "\n",
       "    .dataframe thead th {\n",
       "        text-align: right;\n",
       "    }\n",
       "</style>\n",
       "<table border=\"1\" class=\"dataframe\">\n",
       "  <thead>\n",
       "    <tr style=\"text-align: right;\">\n",
       "      <th></th>\n",
       "      <th>Date</th>\n",
       "      <th>Close</th>\n",
       "    </tr>\n",
       "  </thead>\n",
       "  <tbody>\n",
       "    <tr>\n",
       "      <th>0</th>\n",
       "      <td>2010-11-26</td>\n",
       "      <td>11.250000</td>\n",
       "    </tr>\n",
       "    <tr>\n",
       "      <th>1</th>\n",
       "      <td>2010-11-29</td>\n",
       "      <td>11.316786</td>\n",
       "    </tr>\n",
       "    <tr>\n",
       "      <th>2</th>\n",
       "      <td>2010-11-30</td>\n",
       "      <td>11.112500</td>\n",
       "    </tr>\n",
       "    <tr>\n",
       "      <th>3</th>\n",
       "      <td>2010-12-01</td>\n",
       "      <td>11.300000</td>\n",
       "    </tr>\n",
       "    <tr>\n",
       "      <th>4</th>\n",
       "      <td>2010-12-02</td>\n",
       "      <td>11.362500</td>\n",
       "    </tr>\n",
       "    <tr>\n",
       "      <th>...</th>\n",
       "      <td>...</td>\n",
       "      <td>...</td>\n",
       "    </tr>\n",
       "    <tr>\n",
       "      <th>2288</th>\n",
       "      <td>2019-12-31</td>\n",
       "      <td>73.412498</td>\n",
       "    </tr>\n",
       "    <tr>\n",
       "      <th>2289</th>\n",
       "      <td>2020-01-02</td>\n",
       "      <td>75.087502</td>\n",
       "    </tr>\n",
       "    <tr>\n",
       "      <th>2290</th>\n",
       "      <td>2020-01-03</td>\n",
       "      <td>74.357498</td>\n",
       "    </tr>\n",
       "    <tr>\n",
       "      <th>2291</th>\n",
       "      <td>2020-01-06</td>\n",
       "      <td>74.949997</td>\n",
       "    </tr>\n",
       "    <tr>\n",
       "      <th>2292</th>\n",
       "      <td>2020-01-07</td>\n",
       "      <td>74.597504</td>\n",
       "    </tr>\n",
       "  </tbody>\n",
       "</table>\n",
       "<p>2293 rows × 2 columns</p>\n",
       "</div>"
      ],
      "text/plain": [
       "           Date      Close\n",
       "0    2010-11-26  11.250000\n",
       "1    2010-11-29  11.316786\n",
       "2    2010-11-30  11.112500\n",
       "3    2010-12-01  11.300000\n",
       "4    2010-12-02  11.362500\n",
       "...         ...        ...\n",
       "2288 2019-12-31  73.412498\n",
       "2289 2020-01-02  75.087502\n",
       "2290 2020-01-03  74.357498\n",
       "2291 2020-01-06  74.949997\n",
       "2292 2020-01-07  74.597504\n",
       "\n",
       "[2293 rows x 2 columns]"
      ]
     },
     "execution_count": 22,
     "metadata": {},
     "output_type": "execute_result"
    }
   ],
   "source": [
    "apple_train"
   ]
  },
  {
   "cell_type": "code",
   "execution_count": 23,
   "id": "d9fb40f6",
   "metadata": {
    "scrolled": false
   },
   "outputs": [
    {
     "data": {
      "text/html": [
       "<div>\n",
       "<style scoped>\n",
       "    .dataframe tbody tr th:only-of-type {\n",
       "        vertical-align: middle;\n",
       "    }\n",
       "\n",
       "    .dataframe tbody tr th {\n",
       "        vertical-align: top;\n",
       "    }\n",
       "\n",
       "    .dataframe thead th {\n",
       "        text-align: right;\n",
       "    }\n",
       "</style>\n",
       "<table border=\"1\" class=\"dataframe\">\n",
       "  <thead>\n",
       "    <tr style=\"text-align: right;\">\n",
       "      <th></th>\n",
       "      <th>Date</th>\n",
       "      <th>Close</th>\n",
       "    </tr>\n",
       "  </thead>\n",
       "  <tbody>\n",
       "    <tr>\n",
       "      <th>2293</th>\n",
       "      <td>2020-01-08</td>\n",
       "      <td>75.797501</td>\n",
       "    </tr>\n",
       "    <tr>\n",
       "      <th>2294</th>\n",
       "      <td>2020-01-09</td>\n",
       "      <td>77.407501</td>\n",
       "    </tr>\n",
       "    <tr>\n",
       "      <th>2295</th>\n",
       "      <td>2020-01-10</td>\n",
       "      <td>77.582497</td>\n",
       "    </tr>\n",
       "    <tr>\n",
       "      <th>2296</th>\n",
       "      <td>2020-01-13</td>\n",
       "      <td>79.239998</td>\n",
       "    </tr>\n",
       "    <tr>\n",
       "      <th>2297</th>\n",
       "      <td>2020-01-14</td>\n",
       "      <td>78.169998</td>\n",
       "    </tr>\n",
       "    <tr>\n",
       "      <th>...</th>\n",
       "      <td>...</td>\n",
       "      <td>...</td>\n",
       "    </tr>\n",
       "    <tr>\n",
       "      <th>2788</th>\n",
       "      <td>2021-12-23</td>\n",
       "      <td>176.279999</td>\n",
       "    </tr>\n",
       "    <tr>\n",
       "      <th>2789</th>\n",
       "      <td>2021-12-27</td>\n",
       "      <td>180.330002</td>\n",
       "    </tr>\n",
       "    <tr>\n",
       "      <th>2790</th>\n",
       "      <td>2021-12-28</td>\n",
       "      <td>179.289993</td>\n",
       "    </tr>\n",
       "    <tr>\n",
       "      <th>2791</th>\n",
       "      <td>2021-12-29</td>\n",
       "      <td>179.380005</td>\n",
       "    </tr>\n",
       "    <tr>\n",
       "      <th>2792</th>\n",
       "      <td>2021-12-30</td>\n",
       "      <td>178.199997</td>\n",
       "    </tr>\n",
       "  </tbody>\n",
       "</table>\n",
       "<p>500 rows × 2 columns</p>\n",
       "</div>"
      ],
      "text/plain": [
       "           Date       Close\n",
       "2293 2020-01-08   75.797501\n",
       "2294 2020-01-09   77.407501\n",
       "2295 2020-01-10   77.582497\n",
       "2296 2020-01-13   79.239998\n",
       "2297 2020-01-14   78.169998\n",
       "...         ...         ...\n",
       "2788 2021-12-23  176.279999\n",
       "2789 2021-12-27  180.330002\n",
       "2790 2021-12-28  179.289993\n",
       "2791 2021-12-29  179.380005\n",
       "2792 2021-12-30  178.199997\n",
       "\n",
       "[500 rows x 2 columns]"
      ]
     },
     "execution_count": 23,
     "metadata": {},
     "output_type": "execute_result"
    }
   ],
   "source": [
    "apple_test"
   ]
  },
  {
   "cell_type": "code",
   "execution_count": null,
   "id": "5458d088",
   "metadata": {},
   "outputs": [],
   "source": []
  },
  {
   "cell_type": "code",
   "execution_count": null,
   "id": "24a08b10",
   "metadata": {},
   "outputs": [],
   "source": []
  },
  {
   "cell_type": "code",
   "execution_count": null,
   "id": "4f1e0f22",
   "metadata": {},
   "outputs": [],
   "source": []
  },
  {
   "cell_type": "code",
   "execution_count": 24,
   "id": "4a60205e",
   "metadata": {
    "scrolled": true
   },
   "outputs": [
    {
     "name": "stderr",
     "output_type": "stream",
     "text": [
      "/Users/ziyuan/opt/anaconda3/lib/python3.9/site-packages/statsmodels/tsa/statespace/sarimax.py:966: UserWarning: Non-stationary starting autoregressive parameters found. Using zeros as starting parameters.\n",
      "  warn('Non-stationary starting autoregressive parameters'\n",
      "/Users/ziyuan/opt/anaconda3/lib/python3.9/site-packages/statsmodels/tsa/statespace/sarimax.py:978: UserWarning: Non-invertible starting MA parameters found. Using zeros as starting parameters.\n",
      "  warn('Non-invertible starting MA parameters found.'\n",
      "/Users/ziyuan/opt/anaconda3/lib/python3.9/site-packages/statsmodels/base/model.py:566: ConvergenceWarning: Maximum Likelihood optimization failed to converge. Check mle_retvals\n",
      "  warnings.warn(\"Maximum Likelihood optimization failed to \"\n"
     ]
    }
   ],
   "source": [
    "# ARIMA Model(order=(p,d,q))\n",
    "model_arima = ARIMA(apple_train.Close, order=(5,1,3)).fit()"
   ]
  },
  {
   "cell_type": "code",
   "execution_count": 25,
   "id": "7949d210",
   "metadata": {},
   "outputs": [
    {
     "name": "stdout",
     "output_type": "stream",
     "text": [
      "                               SARIMAX Results                                \n",
      "==============================================================================\n",
      "Dep. Variable:                  Close   No. Observations:                 2293\n",
      "Model:                 ARIMA(5, 1, 3)   Log Likelihood               -1670.625\n",
      "Date:                Sat, 26 Nov 2022   AIC                           3359.250\n",
      "Time:                        23:54:33   BIC                           3410.884\n",
      "Sample:                             0   HQIC                          3378.078\n",
      "                               - 2293                                         \n",
      "Covariance Type:                  opg                                         \n",
      "==============================================================================\n",
      "                 coef    std err          z      P>|z|      [0.025      0.975]\n",
      "------------------------------------------------------------------------------\n",
      "ar.L1         -0.6701      0.032    -21.198      0.000      -0.732      -0.608\n",
      "ar.L2          0.7297      0.023     32.036      0.000       0.685       0.774\n",
      "ar.L3          0.8143      0.033     24.733      0.000       0.750       0.879\n",
      "ar.L4          0.0270      0.017      1.559      0.119      -0.007       0.061\n",
      "ar.L5          0.0940      0.014      6.483      0.000       0.066       0.122\n",
      "ma.L1          0.6885      0.030     22.813      0.000       0.629       0.748\n",
      "ma.L2         -0.7679      0.014    -56.034      0.000      -0.795      -0.741\n",
      "ma.L3         -0.8936      0.028    -31.723      0.000      -0.949      -0.838\n",
      "sigma2         0.2512      0.004     66.543      0.000       0.244       0.259\n",
      "===================================================================================\n",
      "Ljung-Box (L1) (Q):                   0.00   Jarque-Bera (JB):              4560.33\n",
      "Prob(Q):                              0.99   Prob(JB):                         0.00\n",
      "Heteroskedasticity (H):               5.41   Skew:                            -0.44\n",
      "Prob(H) (two-sided):                  0.00   Kurtosis:                         9.85\n",
      "===================================================================================\n",
      "\n",
      "Warnings:\n",
      "[1] Covariance matrix calculated using the outer product of gradients (complex-step).\n"
     ]
    }
   ],
   "source": [
    "print(model_arima.summary())"
   ]
  },
  {
   "cell_type": "code",
   "execution_count": 27,
   "id": "61c642e8",
   "metadata": {
    "scrolled": false
   },
   "outputs": [
    {
     "data": {
      "image/png": "[encoded data removed]",
      "text/plain": [
       "<Figure size 1440x720 with 1 Axes>"
      ]
     },
     "metadata": {},
     "output_type": "display_data"
    }
   ],
   "source": [
    "plt.figure(figsize=(20,10))\n",
    "\n",
    "\n",
    "plt.plot(apple_train.Date[-800:], \n",
    "         apple_train.Close[-800:],\n",
    "         'b',\n",
    "         label=\"Training Data\")\n",
    "\n",
    "\n",
    "## We can get the fitted values with fittedvalues\n",
    "plt.plot(apple_train.Date[-800:], \n",
    "         model_arima.fittedvalues[-800:],\n",
    "         'g--',\n",
    "         label=\"ARIMA(5,1,3) Fit\")\n",
    "\n",
    "plt.plot(apple_test.Date[:], \n",
    "         apple_test.Close[:],\n",
    "         'r',\n",
    "         label=\"Test Data\")\n",
    "\n",
    "## We can get the forecast with .forecast(h)\n",
    "plt.plot(apple_test.Date[:], \n",
    "         model_arima.forecast(len(apple_test)),\n",
    "         'r--o',\n",
    "         label=\"ARIMA(5,1,3) Forecast\")\n",
    "\n",
    "plt.xlabel(\"Date\", fontsize=18)\n",
    "plt.ylabel(\"Index\", fontsize=18)\n",
    "\n",
    "plt.xticks(fontsize=14)\n",
    "plt.yticks(fontsize=14)\n",
    "\n",
    "plt.legend(fontsize=14, loc=2)\n",
    "\n",
    "plt.show()"
   ]
  },
  {
   "cell_type": "code",
   "execution_count": 28,
   "id": "bf82c344",
   "metadata": {
    "scrolled": true
   },
   "outputs": [
    {
     "data": {
      "text/plain": [
       "2293     74.676457\n",
       "2294     74.836582\n",
       "2295     74.938400\n",
       "2296     75.097474\n",
       "2297     75.164582\n",
       "           ...    \n",
       "2788    118.232166\n",
       "2789    118.294647\n",
       "2790    118.357047\n",
       "2791    118.419365\n",
       "2792    118.481602\n",
       "Name: predicted_mean, Length: 500, dtype: float64"
      ]
     },
     "execution_count": 28,
     "metadata": {},
     "output_type": "execute_result"
    }
   ],
   "source": [
    "model_arima.forecast(len(apple_test))"
   ]
  },
  {
   "cell_type": "code",
   "execution_count": 29,
   "id": "9b948377",
   "metadata": {},
   "outputs": [
    {
     "data": {
      "text/plain": [
       "500     19.923900\n",
       "501     20.049885\n",
       "502     20.429520\n",
       "503     21.055705\n",
       "504     20.818171\n",
       "          ...    \n",
       "2288    72.969317\n",
       "2289    73.518125\n",
       "2290    75.229707\n",
       "2291    74.309951\n",
       "2292    75.147107\n",
       "Name: predicted_mean, Length: 1793, dtype: float64"
      ]
     },
     "execution_count": 29,
     "metadata": {},
     "output_type": "execute_result"
    }
   ],
   "source": [
    "model_arima.predict(len(apple_test))"
   ]
  },
  {
   "cell_type": "code",
   "execution_count": 31,
   "id": "d8feefb1",
   "metadata": {},
   "outputs": [],
   "source": [
    "def mean_absolute_percentage_error(y_true, y_pred): \n",
    "    y_true, y_pred = np.array(y_true), np.array(y_pred)\n",
    "    return np.mean(np.abs((y_true - y_pred) / y_true))"
   ]
  },
  {
   "cell_type": "code",
   "execution_count": 33,
   "id": "3ae9dc2f",
   "metadata": {},
   "outputs": [
    {
     "data": {
      "text/plain": [
       "0.6445744131730017"
      ]
     },
     "execution_count": 33,
     "metadata": {},
     "output_type": "execute_result"
    }
   ],
   "source": [
    "mape_arima = mean_absolute_percentage_error(apple_train[['Close']].values, \n",
    "                                            model_arima.predict(len(apple_test)))\n",
    "mape_arima"
   ]
  },
  {
   "cell_type": "code",
   "execution_count": null,
   "id": "ed1754fc",
   "metadata": {},
   "outputs": [],
   "source": []
  },
  {
   "cell_type": "code",
   "execution_count": null,
   "id": "cc698325",
   "metadata": {},
   "outputs": [],
   "source": []
  },
  {
   "cell_type": "code",
   "execution_count": null,
   "id": "22f9ff83",
   "metadata": {},
   "outputs": [],
   "source": []
  }
 ],
 "metadata": {
  "kernelspec": {
   "display_name": "Python 3 (ipykernel)",
   "language": "python",
   "name": "python3"
  },
  "language_info": {
   "codemirror_mode": {
    "name": "ipython",
    "version": 3
   },
   "file_extension": ".py",
   "mimetype": "text/x-python",
   "name": "python",
   "nbconvert_exporter": "python",
   "pygments_lexer": "ipython3",
   "version": "3.9.12"
  }
 },
 "nbformat": 4,
 "nbformat_minor": 5
}
