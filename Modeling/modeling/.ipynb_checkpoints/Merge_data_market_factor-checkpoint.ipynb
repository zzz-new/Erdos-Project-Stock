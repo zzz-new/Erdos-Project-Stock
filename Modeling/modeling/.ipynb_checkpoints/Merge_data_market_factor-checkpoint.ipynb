{
 "cells": [
  {
   "cell_type": "code",
   "execution_count": 4,
   "id": "495306af",
   "metadata": {},
   "outputs": [],
   "source": [
    "# apple stock history. https://finance.yahoo.com/quote/AAPL/history?p=AAPL\n",
    "\n",
    "\n",
    "# Macroeconomic Factors\n",
    "\n",
    "# 1yr Treasury rate. https://www.macrotrends.net/2492/1-year-treasury-rate-yield-chart\n",
    "# 10yr Treasury rate. https://www.macrotrends.net/2016/10-year-treasury-bond-rate-yield-chart\n",
    "# Fed Funds Rate (daily data). https://www.macrotrends.net/2015/fed-funds-rate-historical-chart\n",
    "# GDP (absolute value). https://fred.stlouisfed.org/series/GDP\n",
    "# GDP growth (yearly). https://data.worldbank.org/indicator/NY.GDP.MKTP.KD.ZG?locations=US\n",
    "## GDP growth (quarterly). https://data.oecd.org/gdp/real-gdp-forecast.htm\n",
    "# CPI (monthly). https://fred.stlouisfed.org/series/CPIAUCSL\n",
    "## Treasury bill. https://home.treasury.gov/interest-rates-data-csv-archive\n",
    "## Fed Funds Effective Rate (monthly). https://fred.stlouisfed.org/series/FEDFUNDS\n",
    "\n",
    "\n",
    "# Financial Factors\n",
    "\n",
    "# Gross Profit. https://www.macrotrends.net/stocks/charts/AAPL/apple/gross-profit\n",
    "# P/E. https://www.macrotrends.net/stocks/charts/AAPL/apple/pe-ratio\n",
    "# P/S. https://www.macrotrends.net/stocks/charts/AAPL/apple/ps-ratio\n",
    "\n",
    "\n",
    "# Market Factors\n",
    "\n",
    "# Dow Jones Industrial Avg. https://www.macrotrends.net/1319/dow-jones-100-year-historical-chart\n",
    "# S&P500. https://www.kaggle.com/datasets/andrewmvd/sp-500-stocks"
   ]
  },
  {
   "cell_type": "code",
   "execution_count": 1,
   "id": "947ff421",
   "metadata": {},
   "outputs": [],
   "source": [
    "import pandas as pd\n",
    "import matplotlib.pyplot as plt\n",
    "import numpy as np\n",
    "from datetime import datetime, timedelta\n",
    "from seaborn import set_style"
   ]
  },
  {
   "cell_type": "code",
   "execution_count": 2,
   "id": "edca61c1",
   "metadata": {},
   "outputs": [],
   "source": [
    "set_style(\"whitegrid\")"
   ]
  },
  {
   "cell_type": "markdown",
   "id": "422260d8",
   "metadata": {},
   "source": [
    "## Load apple data"
   ]
  },
  {
   "cell_type": "code",
   "execution_count": 3,
   "id": "1d0f90a8",
   "metadata": {
    "scrolled": false
   },
   "outputs": [
    {
     "data": {
      "text/plain": [
       "'/Users/ziyuan/Library/CloudStorage/OneDrive-WashingtonUniversityinSt.Louis/Machine_Learning/Erdos_Bootcamp/Project/modeling/modeling'"
      ]
     },
     "execution_count": 3,
     "metadata": {},
     "output_type": "execute_result"
    }
   ],
   "source": [
    "pwd"
   ]
  },
  {
   "cell_type": "code",
   "execution_count": 4,
   "id": "1844be90",
   "metadata": {},
   "outputs": [],
   "source": [
    "apple_raw=pd.read_csv('../../Dataset/AAPL.csv')"
   ]
  },
  {
   "cell_type": "code",
   "execution_count": 5,
   "id": "49e0951f",
   "metadata": {},
   "outputs": [],
   "source": [
    "apple_raw[\"Date\"] = pd.to_datetime(apple_raw[\"Date\"])"
   ]
  },
  {
   "cell_type": "code",
   "execution_count": 6,
   "id": "6b674966",
   "metadata": {},
   "outputs": [],
   "source": [
    "apple_raw=apple_raw.drop(columns=['Open','High','Low','Adj Close'])"
   ]
  },
  {
   "cell_type": "code",
   "execution_count": 7,
   "id": "161d8e9c",
   "metadata": {},
   "outputs": [
    {
     "data": {
      "text/html": [
       "<div>\n",
       "<style scoped>\n",
       "    .dataframe tbody tr th:only-of-type {\n",
       "        vertical-align: middle;\n",
       "    }\n",
       "\n",
       "    .dataframe tbody tr th {\n",
       "        vertical-align: top;\n",
       "    }\n",
       "\n",
       "    .dataframe thead th {\n",
       "        text-align: right;\n",
       "    }\n",
       "</style>\n",
       "<table border=\"1\" class=\"dataframe\">\n",
       "  <thead>\n",
       "    <tr style=\"text-align: right;\">\n",
       "      <th></th>\n",
       "      <th>Date</th>\n",
       "      <th>Close</th>\n",
       "      <th>Volume</th>\n",
       "    </tr>\n",
       "  </thead>\n",
       "  <tbody>\n",
       "    <tr>\n",
       "      <th>0</th>\n",
       "      <td>2010-11-26</td>\n",
       "      <td>11.250000</td>\n",
       "      <td>237585600</td>\n",
       "    </tr>\n",
       "    <tr>\n",
       "      <th>1</th>\n",
       "      <td>2010-11-29</td>\n",
       "      <td>11.316786</td>\n",
       "      <td>445785200</td>\n",
       "    </tr>\n",
       "    <tr>\n",
       "      <th>2</th>\n",
       "      <td>2010-11-30</td>\n",
       "      <td>11.112500</td>\n",
       "      <td>501858000</td>\n",
       "    </tr>\n",
       "    <tr>\n",
       "      <th>3</th>\n",
       "      <td>2010-12-01</td>\n",
       "      <td>11.300000</td>\n",
       "      <td>461750800</td>\n",
       "    </tr>\n",
       "    <tr>\n",
       "      <th>4</th>\n",
       "      <td>2010-12-02</td>\n",
       "      <td>11.362500</td>\n",
       "      <td>462837200</td>\n",
       "    </tr>\n",
       "    <tr>\n",
       "      <th>...</th>\n",
       "      <td>...</td>\n",
       "      <td>...</td>\n",
       "      <td>...</td>\n",
       "    </tr>\n",
       "    <tr>\n",
       "      <th>3016</th>\n",
       "      <td>2022-11-18</td>\n",
       "      <td>151.289993</td>\n",
       "      <td>74794600</td>\n",
       "    </tr>\n",
       "    <tr>\n",
       "      <th>3017</th>\n",
       "      <td>2022-11-21</td>\n",
       "      <td>148.009995</td>\n",
       "      <td>58724100</td>\n",
       "    </tr>\n",
       "    <tr>\n",
       "      <th>3018</th>\n",
       "      <td>2022-11-22</td>\n",
       "      <td>150.179993</td>\n",
       "      <td>51804100</td>\n",
       "    </tr>\n",
       "    <tr>\n",
       "      <th>3019</th>\n",
       "      <td>2022-11-23</td>\n",
       "      <td>151.070007</td>\n",
       "      <td>58301400</td>\n",
       "    </tr>\n",
       "    <tr>\n",
       "      <th>3020</th>\n",
       "      <td>2022-11-25</td>\n",
       "      <td>148.110001</td>\n",
       "      <td>35195900</td>\n",
       "    </tr>\n",
       "  </tbody>\n",
       "</table>\n",
       "<p>3021 rows × 3 columns</p>\n",
       "</div>"
      ],
      "text/plain": [
       "           Date       Close     Volume\n",
       "0    2010-11-26   11.250000  237585600\n",
       "1    2010-11-29   11.316786  445785200\n",
       "2    2010-11-30   11.112500  501858000\n",
       "3    2010-12-01   11.300000  461750800\n",
       "4    2010-12-02   11.362500  462837200\n",
       "...         ...         ...        ...\n",
       "3016 2022-11-18  151.289993   74794600\n",
       "3017 2022-11-21  148.009995   58724100\n",
       "3018 2022-11-22  150.179993   51804100\n",
       "3019 2022-11-23  151.070007   58301400\n",
       "3020 2022-11-25  148.110001   35195900\n",
       "\n",
       "[3021 rows x 3 columns]"
      ]
     },
     "execution_count": 7,
     "metadata": {},
     "output_type": "execute_result"
    }
   ],
   "source": [
    "apple_raw"
   ]
  },
  {
   "cell_type": "code",
   "execution_count": null,
   "id": "be614886",
   "metadata": {},
   "outputs": [],
   "source": []
  },
  {
   "cell_type": "markdown",
   "id": "db016e15",
   "metadata": {},
   "source": [
    "## Market Factors"
   ]
  },
  {
   "cell_type": "code",
   "execution_count": 16,
   "id": "40567719",
   "metadata": {
    "scrolled": true
   },
   "outputs": [
    {
     "data": {
      "text/html": [
       "<div>\n",
       "<style scoped>\n",
       "    .dataframe tbody tr th:only-of-type {\n",
       "        vertical-align: middle;\n",
       "    }\n",
       "\n",
       "    .dataframe tbody tr th {\n",
       "        vertical-align: top;\n",
       "    }\n",
       "\n",
       "    .dataframe thead th {\n",
       "        text-align: right;\n",
       "    }\n",
       "</style>\n",
       "<table border=\"1\" class=\"dataframe\">\n",
       "  <thead>\n",
       "    <tr style=\"text-align: right;\">\n",
       "      <th></th>\n",
       "      <th>Date</th>\n",
       "      <th>Dow_Jones</th>\n",
       "    </tr>\n",
       "  </thead>\n",
       "  <tbody>\n",
       "    <tr>\n",
       "      <th>0</th>\n",
       "      <td>11/30/09</td>\n",
       "      <td>10344.84</td>\n",
       "    </tr>\n",
       "    <tr>\n",
       "      <th>1</th>\n",
       "      <td>12/1/09</td>\n",
       "      <td>10471.58</td>\n",
       "    </tr>\n",
       "    <tr>\n",
       "      <th>2</th>\n",
       "      <td>12/2/09</td>\n",
       "      <td>10452.68</td>\n",
       "    </tr>\n",
       "  </tbody>\n",
       "</table>\n",
       "</div>"
      ],
      "text/plain": [
       "       Date   Dow_Jones\n",
       "0  11/30/09    10344.84\n",
       "1   12/1/09    10471.58\n",
       "2   12/2/09    10452.68"
      ]
     },
     "execution_count": 16,
     "metadata": {},
     "output_type": "execute_result"
    }
   ],
   "source": [
    "DJ_raw=pd.read_csv('../../Dataset/Market_Factor/Dow_Jones.csv')\n",
    "DJ_raw.head(3)"
   ]
  },
  {
   "cell_type": "code",
   "execution_count": 17,
   "id": "aaf56886",
   "metadata": {
    "scrolled": true
   },
   "outputs": [],
   "source": [
    "DJ_raw[\"Date\"] = pd.to_datetime(DJ_raw[\"Date\"])"
   ]
  },
  {
   "cell_type": "code",
   "execution_count": 18,
   "id": "9de4409a",
   "metadata": {
    "scrolled": true
   },
   "outputs": [],
   "source": [
    "DJ_raw=DJ_raw.sort_values(by=['Date'])"
   ]
  },
  {
   "cell_type": "code",
   "execution_count": 19,
   "id": "4503b909",
   "metadata": {
    "scrolled": true
   },
   "outputs": [
    {
     "data": {
      "text/html": [
       "<div>\n",
       "<style scoped>\n",
       "    .dataframe tbody tr th:only-of-type {\n",
       "        vertical-align: middle;\n",
       "    }\n",
       "\n",
       "    .dataframe tbody tr th {\n",
       "        vertical-align: top;\n",
       "    }\n",
       "\n",
       "    .dataframe thead th {\n",
       "        text-align: right;\n",
       "    }\n",
       "</style>\n",
       "<table border=\"1\" class=\"dataframe\">\n",
       "  <thead>\n",
       "    <tr style=\"text-align: right;\">\n",
       "      <th></th>\n",
       "      <th>Date</th>\n",
       "      <th>Dow_Jones</th>\n",
       "    </tr>\n",
       "  </thead>\n",
       "  <tbody>\n",
       "    <tr>\n",
       "      <th>0</th>\n",
       "      <td>2009-11-30</td>\n",
       "      <td>10344.84</td>\n",
       "    </tr>\n",
       "    <tr>\n",
       "      <th>1</th>\n",
       "      <td>2009-12-01</td>\n",
       "      <td>10471.58</td>\n",
       "    </tr>\n",
       "    <tr>\n",
       "      <th>2</th>\n",
       "      <td>2009-12-02</td>\n",
       "      <td>10452.68</td>\n",
       "    </tr>\n",
       "  </tbody>\n",
       "</table>\n",
       "</div>"
      ],
      "text/plain": [
       "        Date   Dow_Jones\n",
       "0 2009-11-30    10344.84\n",
       "1 2009-12-01    10471.58\n",
       "2 2009-12-02    10452.68"
      ]
     },
     "execution_count": 19,
     "metadata": {},
     "output_type": "execute_result"
    }
   ],
   "source": [
    "DJ_raw.head(3)"
   ]
  },
  {
   "cell_type": "code",
   "execution_count": null,
   "id": "44c264b4",
   "metadata": {},
   "outputs": [],
   "source": []
  },
  {
   "cell_type": "code",
   "execution_count": null,
   "id": "2b02830c",
   "metadata": {},
   "outputs": [],
   "source": []
  },
  {
   "cell_type": "code",
   "execution_count": 20,
   "id": "1e279f0a",
   "metadata": {},
   "outputs": [
    {
     "data": {
      "text/html": [
       "<div>\n",
       "<style scoped>\n",
       "    .dataframe tbody tr th:only-of-type {\n",
       "        vertical-align: middle;\n",
       "    }\n",
       "\n",
       "    .dataframe tbody tr th {\n",
       "        vertical-align: top;\n",
       "    }\n",
       "\n",
       "    .dataframe thead th {\n",
       "        text-align: right;\n",
       "    }\n",
       "</style>\n",
       "<table border=\"1\" class=\"dataframe\">\n",
       "  <thead>\n",
       "    <tr style=\"text-align: right;\">\n",
       "      <th></th>\n",
       "      <th>Date</th>\n",
       "      <th>SP500</th>\n",
       "    </tr>\n",
       "  </thead>\n",
       "  <tbody>\n",
       "    <tr>\n",
       "      <th>0</th>\n",
       "      <td>11/12/12</td>\n",
       "      <td>1380.03</td>\n",
       "    </tr>\n",
       "    <tr>\n",
       "      <th>1</th>\n",
       "      <td>11/13/12</td>\n",
       "      <td>1374.53</td>\n",
       "    </tr>\n",
       "    <tr>\n",
       "      <th>2</th>\n",
       "      <td>11/14/12</td>\n",
       "      <td>1355.49</td>\n",
       "    </tr>\n",
       "  </tbody>\n",
       "</table>\n",
       "</div>"
      ],
      "text/plain": [
       "       Date    SP500\n",
       "0  11/12/12  1380.03\n",
       "1  11/13/12  1374.53\n",
       "2  11/14/12  1355.49"
      ]
     },
     "execution_count": 20,
     "metadata": {},
     "output_type": "execute_result"
    }
   ],
   "source": [
    "SP500_raw=pd.read_csv('../../Dataset/Market_Factor/sp500_index.csv')\n",
    "SP500_raw.head(3)"
   ]
  },
  {
   "cell_type": "code",
   "execution_count": 21,
   "id": "e7f35b20",
   "metadata": {
    "scrolled": true
   },
   "outputs": [],
   "source": [
    "SP500_raw[\"Date\"] = pd.to_datetime(SP500_raw[\"Date\"])"
   ]
  },
  {
   "cell_type": "code",
   "execution_count": 22,
   "id": "bf83ac37",
   "metadata": {
    "scrolled": true
   },
   "outputs": [],
   "source": [
    "SP500_raw=SP500_raw.sort_values(by=['Date'])"
   ]
  },
  {
   "cell_type": "code",
   "execution_count": 23,
   "id": "9954492d",
   "metadata": {
    "scrolled": true
   },
   "outputs": [
    {
     "data": {
      "text/html": [
       "<div>\n",
       "<style scoped>\n",
       "    .dataframe tbody tr th:only-of-type {\n",
       "        vertical-align: middle;\n",
       "    }\n",
       "\n",
       "    .dataframe tbody tr th {\n",
       "        vertical-align: top;\n",
       "    }\n",
       "\n",
       "    .dataframe thead th {\n",
       "        text-align: right;\n",
       "    }\n",
       "</style>\n",
       "<table border=\"1\" class=\"dataframe\">\n",
       "  <thead>\n",
       "    <tr style=\"text-align: right;\">\n",
       "      <th></th>\n",
       "      <th>Date</th>\n",
       "      <th>SP500</th>\n",
       "    </tr>\n",
       "  </thead>\n",
       "  <tbody>\n",
       "    <tr>\n",
       "      <th>0</th>\n",
       "      <td>2012-11-12</td>\n",
       "      <td>1380.03</td>\n",
       "    </tr>\n",
       "    <tr>\n",
       "      <th>1</th>\n",
       "      <td>2012-11-13</td>\n",
       "      <td>1374.53</td>\n",
       "    </tr>\n",
       "    <tr>\n",
       "      <th>2</th>\n",
       "      <td>2012-11-14</td>\n",
       "      <td>1355.49</td>\n",
       "    </tr>\n",
       "  </tbody>\n",
       "</table>\n",
       "</div>"
      ],
      "text/plain": [
       "        Date    SP500\n",
       "0 2012-11-12  1380.03\n",
       "1 2012-11-13  1374.53\n",
       "2 2012-11-14  1355.49"
      ]
     },
     "execution_count": 23,
     "metadata": {},
     "output_type": "execute_result"
    }
   ],
   "source": [
    "SP500_raw.head(3)"
   ]
  },
  {
   "cell_type": "code",
   "execution_count": null,
   "id": "bbb5f677",
   "metadata": {},
   "outputs": [],
   "source": []
  },
  {
   "cell_type": "markdown",
   "id": "9481d5a3",
   "metadata": {},
   "source": [
    "## Market Factor Merge"
   ]
  },
  {
   "cell_type": "code",
   "execution_count": 24,
   "id": "7b6bc116",
   "metadata": {},
   "outputs": [
    {
     "name": "stdout",
     "output_type": "stream",
     "text": [
      "[Timestamp('2009-11-30 00:00:00'), Timestamp('2022-12-16 00:00:00')]\n",
      "[Timestamp('2012-11-12 00:00:00'), Timestamp('2022-11-11 00:00:00')]\n"
     ]
    }
   ],
   "source": [
    "fin_fac_list = [DJ_raw, SP500_raw]\n",
    "\n",
    "for item in fin_fac_list:\n",
    "    print([item.Date[0],item.Date[len(item)-1]])"
   ]
  },
  {
   "cell_type": "code",
   "execution_count": null,
   "id": "402e6b0b",
   "metadata": {},
   "outputs": [],
   "source": []
  },
  {
   "cell_type": "code",
   "execution_count": 25,
   "id": "a93e8be7",
   "metadata": {},
   "outputs": [
    {
     "data": {
      "text/html": [
       "<div>\n",
       "<style scoped>\n",
       "    .dataframe tbody tr th:only-of-type {\n",
       "        vertical-align: middle;\n",
       "    }\n",
       "\n",
       "    .dataframe tbody tr th {\n",
       "        vertical-align: top;\n",
       "    }\n",
       "\n",
       "    .dataframe thead th {\n",
       "        text-align: right;\n",
       "    }\n",
       "</style>\n",
       "<table border=\"1\" class=\"dataframe\">\n",
       "  <thead>\n",
       "    <tr style=\"text-align: right;\">\n",
       "      <th></th>\n",
       "      <th>Date</th>\n",
       "      <th>Close</th>\n",
       "      <th>Volume</th>\n",
       "      <th>Dow_Jones</th>\n",
       "    </tr>\n",
       "  </thead>\n",
       "  <tbody>\n",
       "    <tr>\n",
       "      <th>0</th>\n",
       "      <td>2010-11-26</td>\n",
       "      <td>11.250000</td>\n",
       "      <td>237585600</td>\n",
       "      <td>11091.87</td>\n",
       "    </tr>\n",
       "    <tr>\n",
       "      <th>1</th>\n",
       "      <td>2010-11-29</td>\n",
       "      <td>11.316786</td>\n",
       "      <td>445785200</td>\n",
       "      <td>11052.49</td>\n",
       "    </tr>\n",
       "    <tr>\n",
       "      <th>2</th>\n",
       "      <td>2010-11-30</td>\n",
       "      <td>11.112500</td>\n",
       "      <td>501858000</td>\n",
       "      <td>11006.02</td>\n",
       "    </tr>\n",
       "    <tr>\n",
       "      <th>3</th>\n",
       "      <td>2010-12-01</td>\n",
       "      <td>11.300000</td>\n",
       "      <td>461750800</td>\n",
       "      <td>11255.78</td>\n",
       "    </tr>\n",
       "    <tr>\n",
       "      <th>4</th>\n",
       "      <td>2010-12-02</td>\n",
       "      <td>11.362500</td>\n",
       "      <td>462837200</td>\n",
       "      <td>11362.41</td>\n",
       "    </tr>\n",
       "    <tr>\n",
       "      <th>...</th>\n",
       "      <td>...</td>\n",
       "      <td>...</td>\n",
       "      <td>...</td>\n",
       "      <td>...</td>\n",
       "    </tr>\n",
       "    <tr>\n",
       "      <th>3016</th>\n",
       "      <td>2022-11-18</td>\n",
       "      <td>151.289993</td>\n",
       "      <td>74794600</td>\n",
       "      <td>33745.69</td>\n",
       "    </tr>\n",
       "    <tr>\n",
       "      <th>3017</th>\n",
       "      <td>2022-11-21</td>\n",
       "      <td>148.009995</td>\n",
       "      <td>58724100</td>\n",
       "      <td>33700.28</td>\n",
       "    </tr>\n",
       "    <tr>\n",
       "      <th>3018</th>\n",
       "      <td>2022-11-22</td>\n",
       "      <td>150.179993</td>\n",
       "      <td>51804100</td>\n",
       "      <td>34098.10</td>\n",
       "    </tr>\n",
       "    <tr>\n",
       "      <th>3019</th>\n",
       "      <td>2022-11-23</td>\n",
       "      <td>151.070007</td>\n",
       "      <td>58301400</td>\n",
       "      <td>34194.06</td>\n",
       "    </tr>\n",
       "    <tr>\n",
       "      <th>3020</th>\n",
       "      <td>2022-11-25</td>\n",
       "      <td>148.110001</td>\n",
       "      <td>35195900</td>\n",
       "      <td>34347.03</td>\n",
       "    </tr>\n",
       "  </tbody>\n",
       "</table>\n",
       "<p>3021 rows × 4 columns</p>\n",
       "</div>"
      ],
      "text/plain": [
       "           Date       Close     Volume   Dow_Jones\n",
       "0    2010-11-26   11.250000  237585600    11091.87\n",
       "1    2010-11-29   11.316786  445785200    11052.49\n",
       "2    2010-11-30   11.112500  501858000    11006.02\n",
       "3    2010-12-01   11.300000  461750800    11255.78\n",
       "4    2010-12-02   11.362500  462837200    11362.41\n",
       "...         ...         ...        ...         ...\n",
       "3016 2022-11-18  151.289993   74794600    33745.69\n",
       "3017 2022-11-21  148.009995   58724100    33700.28\n",
       "3018 2022-11-22  150.179993   51804100    34098.10\n",
       "3019 2022-11-23  151.070007   58301400    34194.06\n",
       "3020 2022-11-25  148.110001   35195900    34347.03\n",
       "\n",
       "[3021 rows x 4 columns]"
      ]
     },
     "execution_count": 25,
     "metadata": {},
     "output_type": "execute_result"
    }
   ],
   "source": [
    "merge_test1 = pd.merge_asof(apple_raw, DJ_raw, on='Date')\n",
    "merge_test1"
   ]
  },
  {
   "cell_type": "code",
   "execution_count": null,
   "id": "42607009",
   "metadata": {},
   "outputs": [],
   "source": []
  },
  {
   "cell_type": "code",
   "execution_count": 26,
   "id": "00db2925",
   "metadata": {},
   "outputs": [
    {
     "data": {
      "text/html": [
       "<div>\n",
       "<style scoped>\n",
       "    .dataframe tbody tr th:only-of-type {\n",
       "        vertical-align: middle;\n",
       "    }\n",
       "\n",
       "    .dataframe tbody tr th {\n",
       "        vertical-align: top;\n",
       "    }\n",
       "\n",
       "    .dataframe thead th {\n",
       "        text-align: right;\n",
       "    }\n",
       "</style>\n",
       "<table border=\"1\" class=\"dataframe\">\n",
       "  <thead>\n",
       "    <tr style=\"text-align: right;\">\n",
       "      <th></th>\n",
       "      <th>Date</th>\n",
       "      <th>Close</th>\n",
       "      <th>Volume</th>\n",
       "      <th>Dow_Jones</th>\n",
       "      <th>SP500</th>\n",
       "    </tr>\n",
       "  </thead>\n",
       "  <tbody>\n",
       "    <tr>\n",
       "      <th>0</th>\n",
       "      <td>2010-11-26</td>\n",
       "      <td>11.250000</td>\n",
       "      <td>237585600</td>\n",
       "      <td>11091.87</td>\n",
       "      <td>NaN</td>\n",
       "    </tr>\n",
       "    <tr>\n",
       "      <th>1</th>\n",
       "      <td>2010-11-29</td>\n",
       "      <td>11.316786</td>\n",
       "      <td>445785200</td>\n",
       "      <td>11052.49</td>\n",
       "      <td>NaN</td>\n",
       "    </tr>\n",
       "    <tr>\n",
       "      <th>2</th>\n",
       "      <td>2010-11-30</td>\n",
       "      <td>11.112500</td>\n",
       "      <td>501858000</td>\n",
       "      <td>11006.02</td>\n",
       "      <td>NaN</td>\n",
       "    </tr>\n",
       "    <tr>\n",
       "      <th>3</th>\n",
       "      <td>2010-12-01</td>\n",
       "      <td>11.300000</td>\n",
       "      <td>461750800</td>\n",
       "      <td>11255.78</td>\n",
       "      <td>NaN</td>\n",
       "    </tr>\n",
       "    <tr>\n",
       "      <th>4</th>\n",
       "      <td>2010-12-02</td>\n",
       "      <td>11.362500</td>\n",
       "      <td>462837200</td>\n",
       "      <td>11362.41</td>\n",
       "      <td>NaN</td>\n",
       "    </tr>\n",
       "    <tr>\n",
       "      <th>...</th>\n",
       "      <td>...</td>\n",
       "      <td>...</td>\n",
       "      <td>...</td>\n",
       "      <td>...</td>\n",
       "      <td>...</td>\n",
       "    </tr>\n",
       "    <tr>\n",
       "      <th>3016</th>\n",
       "      <td>2022-11-18</td>\n",
       "      <td>151.289993</td>\n",
       "      <td>74794600</td>\n",
       "      <td>33745.69</td>\n",
       "      <td>3992.93</td>\n",
       "    </tr>\n",
       "    <tr>\n",
       "      <th>3017</th>\n",
       "      <td>2022-11-21</td>\n",
       "      <td>148.009995</td>\n",
       "      <td>58724100</td>\n",
       "      <td>33700.28</td>\n",
       "      <td>3992.93</td>\n",
       "    </tr>\n",
       "    <tr>\n",
       "      <th>3018</th>\n",
       "      <td>2022-11-22</td>\n",
       "      <td>150.179993</td>\n",
       "      <td>51804100</td>\n",
       "      <td>34098.10</td>\n",
       "      <td>3992.93</td>\n",
       "    </tr>\n",
       "    <tr>\n",
       "      <th>3019</th>\n",
       "      <td>2022-11-23</td>\n",
       "      <td>151.070007</td>\n",
       "      <td>58301400</td>\n",
       "      <td>34194.06</td>\n",
       "      <td>3992.93</td>\n",
       "    </tr>\n",
       "    <tr>\n",
       "      <th>3020</th>\n",
       "      <td>2022-11-25</td>\n",
       "      <td>148.110001</td>\n",
       "      <td>35195900</td>\n",
       "      <td>34347.03</td>\n",
       "      <td>3992.93</td>\n",
       "    </tr>\n",
       "  </tbody>\n",
       "</table>\n",
       "<p>3021 rows × 5 columns</p>\n",
       "</div>"
      ],
      "text/plain": [
       "           Date       Close     Volume   Dow_Jones    SP500\n",
       "0    2010-11-26   11.250000  237585600    11091.87      NaN\n",
       "1    2010-11-29   11.316786  445785200    11052.49      NaN\n",
       "2    2010-11-30   11.112500  501858000    11006.02      NaN\n",
       "3    2010-12-01   11.300000  461750800    11255.78      NaN\n",
       "4    2010-12-02   11.362500  462837200    11362.41      NaN\n",
       "...         ...         ...        ...         ...      ...\n",
       "3016 2022-11-18  151.289993   74794600    33745.69  3992.93\n",
       "3017 2022-11-21  148.009995   58724100    33700.28  3992.93\n",
       "3018 2022-11-22  150.179993   51804100    34098.10  3992.93\n",
       "3019 2022-11-23  151.070007   58301400    34194.06  3992.93\n",
       "3020 2022-11-25  148.110001   35195900    34347.03  3992.93\n",
       "\n",
       "[3021 rows x 5 columns]"
      ]
     },
     "execution_count": 26,
     "metadata": {},
     "output_type": "execute_result"
    }
   ],
   "source": [
    "merge_test2 = pd.merge_asof(merge_test1, SP500_raw, on='Date')\n",
    "merge_test2"
   ]
  },
  {
   "cell_type": "code",
   "execution_count": null,
   "id": "3ffcecbb",
   "metadata": {},
   "outputs": [],
   "source": []
  },
  {
   "cell_type": "code",
   "execution_count": 28,
   "id": "9f1d7f49",
   "metadata": {},
   "outputs": [],
   "source": [
    "merge_test2 = merge_test2.dropna(subset=['SP500'])"
   ]
  },
  {
   "cell_type": "code",
   "execution_count": null,
   "id": "3d50a95e",
   "metadata": {},
   "outputs": [],
   "source": []
  },
  {
   "cell_type": "code",
   "execution_count": 29,
   "id": "bd571183",
   "metadata": {
    "scrolled": true
   },
   "outputs": [],
   "source": [
    "merge_test2.to_csv('../../Dataset/merge_data_market_factor.csv', index=False)"
   ]
  },
  {
   "cell_type": "code",
   "execution_count": null,
   "id": "12b4c31f",
   "metadata": {},
   "outputs": [],
   "source": []
  }
 ],
 "metadata": {
  "kernelspec": {
   "display_name": "Python 3 (ipykernel)",
   "language": "python",
   "name": "python3"
  },
  "language_info": {
   "codemirror_mode": {
    "name": "ipython",
    "version": 3
   },
   "file_extension": ".py",
   "mimetype": "text/x-python",
   "name": "python",
   "nbconvert_exporter": "python",
   "pygments_lexer": "ipython3",
   "version": "3.9.12"
  }
 },
 "nbformat": 4,
 "nbformat_minor": 5
}
