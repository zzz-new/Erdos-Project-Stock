{
 "cells": [
  {
   "cell_type": "code",
   "execution_count": null,
   "id": "88d0f297",
   "metadata": {},
   "outputs": [],
   "source": [
    "'''\n",
    "v2. Clear up code.\n",
    "'''"
   ]
  },
  {
   "cell_type": "code",
   "execution_count": 1,
   "id": "bcaddd26",
   "metadata": {},
   "outputs": [],
   "source": [
    "import pandas as pd\n",
    "import matplotlib.pyplot as plt\n",
    "import numpy as np\n",
    "import seaborn as sns\n",
    "from datetime import datetime, timedelta\n",
    "from seaborn import set_style\n",
    "from sklearn.metrics import mean_squared_error\n",
    "from sklearn.preprocessing import MinMaxScaler"
   ]
  },
  {
   "cell_type": "code",
   "execution_count": 2,
   "id": "2157f2d6",
   "metadata": {},
   "outputs": [
    {
     "name": "stderr",
     "output_type": "stream",
     "text": [
      "2022-12-09 00:40:33.351585: I tensorflow/core/platform/cpu_feature_guard.cc:193] This TensorFlow binary is optimized with oneAPI Deep Neural Network Library (oneDNN) to use the following CPU instructions in performance-critical operations:  AVX2 FMA\n",
      "To enable them in other operations, rebuild TensorFlow with the appropriate compiler flags.\n"
     ]
    }
   ],
   "source": [
    "import keras\n",
    "from keras.models import Sequential\n",
    "from keras.layers import Dense\n",
    "from keras.layers import LSTM, Bidirectional\n",
    "from keras.layers import Dropout"
   ]
  },
  {
   "cell_type": "code",
   "execution_count": 3,
   "id": "42fe782d",
   "metadata": {},
   "outputs": [],
   "source": [
    "set_style(\"whitegrid\")"
   ]
  },
  {
   "cell_type": "markdown",
   "id": "28feb9be",
   "metadata": {},
   "source": [
    "## Load data"
   ]
  },
  {
   "cell_type": "code",
   "execution_count": 4,
   "id": "4aaafc16",
   "metadata": {
    "scrolled": true
   },
   "outputs": [
    {
     "data": {
      "text/plain": [
       "'/Users/ziyuan/Library/CloudStorage/OneDrive-WashingtonUniversityinSt.Louis/Machine_Learning/Erdos_Bootcamp/Project/modeling/modeling'"
      ]
     },
     "execution_count": 4,
     "metadata": {},
     "output_type": "execute_result"
    }
   ],
   "source": [
    "pwd"
   ]
  },
  {
   "cell_type": "code",
   "execution_count": 5,
   "id": "efc1e594",
   "metadata": {},
   "outputs": [],
   "source": [
    "apple_raw=pd.read_csv('../../Dataset/merge_data_all_factor.csv')"
   ]
  },
  {
   "cell_type": "code",
   "execution_count": 6,
   "id": "94970865",
   "metadata": {},
   "outputs": [],
   "source": [
    "apple_raw[\"Date\"] = pd.to_datetime(apple_raw[\"Date\"])"
   ]
  },
  {
   "cell_type": "code",
   "execution_count": 7,
   "id": "c0e43a71",
   "metadata": {
    "scrolled": true
   },
   "outputs": [
    {
     "data": {
      "text/html": [
       "<div>\n",
       "<style scoped>\n",
       "    .dataframe tbody tr th:only-of-type {\n",
       "        vertical-align: middle;\n",
       "    }\n",
       "\n",
       "    .dataframe tbody tr th {\n",
       "        vertical-align: top;\n",
       "    }\n",
       "\n",
       "    .dataframe thead th {\n",
       "        text-align: right;\n",
       "    }\n",
       "</style>\n",
       "<table border=\"1\" class=\"dataframe\">\n",
       "  <thead>\n",
       "    <tr style=\"text-align: right;\">\n",
       "      <th></th>\n",
       "      <th>Date</th>\n",
       "      <th>Close</th>\n",
       "      <th>Volume</th>\n",
       "      <th>Dow_Jones</th>\n",
       "      <th>SP500</th>\n",
       "      <th>Gross_Profit</th>\n",
       "      <th>ROE</th>\n",
       "      <th>PE_ratio</th>\n",
       "      <th>PS_ratio</th>\n",
       "      <th>tnote</th>\n",
       "      <th>tbill</th>\n",
       "      <th>Fed_rate</th>\n",
       "      <th>GDP</th>\n",
       "      <th>GDP_growth</th>\n",
       "      <th>CPI</th>\n",
       "    </tr>\n",
       "  </thead>\n",
       "  <tbody>\n",
       "    <tr>\n",
       "      <th>0</th>\n",
       "      <td>2012-11-12</td>\n",
       "      <td>19.386786</td>\n",
       "      <td>515802000</td>\n",
       "      <td>12815.08</td>\n",
       "      <td>1380.03</td>\n",
       "      <td>14401</td>\n",
       "      <td>0.40</td>\n",
       "      <td>12.93</td>\n",
       "      <td>3.45</td>\n",
       "      <td>1.61</td>\n",
       "      <td>0.18</td>\n",
       "      <td>0.16</td>\n",
       "      <td>16420.386</td>\n",
       "      <td>2.280688</td>\n",
       "      <td>231.249</td>\n",
       "    </tr>\n",
       "    <tr>\n",
       "      <th>1</th>\n",
       "      <td>2012-11-13</td>\n",
       "      <td>19.389286</td>\n",
       "      <td>532949200</td>\n",
       "      <td>12756.18</td>\n",
       "      <td>1374.53</td>\n",
       "      <td>14401</td>\n",
       "      <td>0.40</td>\n",
       "      <td>12.93</td>\n",
       "      <td>3.45</td>\n",
       "      <td>1.59</td>\n",
       "      <td>0.18</td>\n",
       "      <td>0.16</td>\n",
       "      <td>16420.386</td>\n",
       "      <td>2.280688</td>\n",
       "      <td>231.249</td>\n",
       "    </tr>\n",
       "    <tr>\n",
       "      <th>2</th>\n",
       "      <td>2012-11-14</td>\n",
       "      <td>19.174286</td>\n",
       "      <td>477170400</td>\n",
       "      <td>12570.95</td>\n",
       "      <td>1355.49</td>\n",
       "      <td>14401</td>\n",
       "      <td>0.40</td>\n",
       "      <td>12.93</td>\n",
       "      <td>3.45</td>\n",
       "      <td>1.59</td>\n",
       "      <td>0.18</td>\n",
       "      <td>0.16</td>\n",
       "      <td>16420.386</td>\n",
       "      <td>2.280688</td>\n",
       "      <td>231.249</td>\n",
       "    </tr>\n",
       "    <tr>\n",
       "      <th>3</th>\n",
       "      <td>2012-11-15</td>\n",
       "      <td>18.772142</td>\n",
       "      <td>789910800</td>\n",
       "      <td>12542.38</td>\n",
       "      <td>1353.33</td>\n",
       "      <td>14401</td>\n",
       "      <td>0.40</td>\n",
       "      <td>12.93</td>\n",
       "      <td>3.45</td>\n",
       "      <td>1.58</td>\n",
       "      <td>0.17</td>\n",
       "      <td>0.16</td>\n",
       "      <td>16420.386</td>\n",
       "      <td>2.280688</td>\n",
       "      <td>231.249</td>\n",
       "    </tr>\n",
       "    <tr>\n",
       "      <th>4</th>\n",
       "      <td>2012-11-16</td>\n",
       "      <td>18.845715</td>\n",
       "      <td>1266893600</td>\n",
       "      <td>12588.31</td>\n",
       "      <td>1359.88</td>\n",
       "      <td>14401</td>\n",
       "      <td>0.40</td>\n",
       "      <td>12.93</td>\n",
       "      <td>3.45</td>\n",
       "      <td>1.58</td>\n",
       "      <td>0.16</td>\n",
       "      <td>0.16</td>\n",
       "      <td>16420.386</td>\n",
       "      <td>2.280688</td>\n",
       "      <td>231.249</td>\n",
       "    </tr>\n",
       "    <tr>\n",
       "      <th>...</th>\n",
       "      <td>...</td>\n",
       "      <td>...</td>\n",
       "      <td>...</td>\n",
       "      <td>...</td>\n",
       "      <td>...</td>\n",
       "      <td>...</td>\n",
       "      <td>...</td>\n",
       "      <td>...</td>\n",
       "      <td>...</td>\n",
       "      <td>...</td>\n",
       "      <td>...</td>\n",
       "      <td>...</td>\n",
       "      <td>...</td>\n",
       "      <td>...</td>\n",
       "      <td>...</td>\n",
       "    </tr>\n",
       "    <tr>\n",
       "      <th>2523</th>\n",
       "      <td>2022-11-18</td>\n",
       "      <td>151.289993</td>\n",
       "      <td>74794600</td>\n",
       "      <td>33745.69</td>\n",
       "      <td>3992.93</td>\n",
       "      <td>38095</td>\n",
       "      <td>1.61</td>\n",
       "      <td>22.58</td>\n",
       "      <td>5.74</td>\n",
       "      <td>3.82</td>\n",
       "      <td>4.74</td>\n",
       "      <td>3.83</td>\n",
       "      <td>25663.289</td>\n",
       "      <td>1.800000</td>\n",
       "      <td>298.062</td>\n",
       "    </tr>\n",
       "    <tr>\n",
       "      <th>2524</th>\n",
       "      <td>2022-11-21</td>\n",
       "      <td>148.009995</td>\n",
       "      <td>58724100</td>\n",
       "      <td>33700.28</td>\n",
       "      <td>3992.93</td>\n",
       "      <td>38095</td>\n",
       "      <td>1.61</td>\n",
       "      <td>22.58</td>\n",
       "      <td>5.74</td>\n",
       "      <td>3.83</td>\n",
       "      <td>4.75</td>\n",
       "      <td>3.83</td>\n",
       "      <td>25663.289</td>\n",
       "      <td>1.800000</td>\n",
       "      <td>298.062</td>\n",
       "    </tr>\n",
       "    <tr>\n",
       "      <th>2525</th>\n",
       "      <td>2022-11-22</td>\n",
       "      <td>150.179993</td>\n",
       "      <td>51804100</td>\n",
       "      <td>34098.10</td>\n",
       "      <td>3992.93</td>\n",
       "      <td>38095</td>\n",
       "      <td>1.61</td>\n",
       "      <td>22.58</td>\n",
       "      <td>5.74</td>\n",
       "      <td>3.76</td>\n",
       "      <td>4.79</td>\n",
       "      <td>3.83</td>\n",
       "      <td>25663.289</td>\n",
       "      <td>1.800000</td>\n",
       "      <td>298.062</td>\n",
       "    </tr>\n",
       "    <tr>\n",
       "      <th>2526</th>\n",
       "      <td>2022-11-23</td>\n",
       "      <td>151.070007</td>\n",
       "      <td>58301400</td>\n",
       "      <td>34194.06</td>\n",
       "      <td>3992.93</td>\n",
       "      <td>38095</td>\n",
       "      <td>1.61</td>\n",
       "      <td>22.58</td>\n",
       "      <td>5.74</td>\n",
       "      <td>3.71</td>\n",
       "      <td>4.75</td>\n",
       "      <td>3.83</td>\n",
       "      <td>25663.289</td>\n",
       "      <td>1.800000</td>\n",
       "      <td>298.062</td>\n",
       "    </tr>\n",
       "    <tr>\n",
       "      <th>2527</th>\n",
       "      <td>2022-11-25</td>\n",
       "      <td>148.110001</td>\n",
       "      <td>35195900</td>\n",
       "      <td>34347.03</td>\n",
       "      <td>3992.93</td>\n",
       "      <td>38095</td>\n",
       "      <td>1.61</td>\n",
       "      <td>22.58</td>\n",
       "      <td>5.74</td>\n",
       "      <td>3.71</td>\n",
       "      <td>4.75</td>\n",
       "      <td>3.83</td>\n",
       "      <td>25663.289</td>\n",
       "      <td>1.800000</td>\n",
       "      <td>298.062</td>\n",
       "    </tr>\n",
       "  </tbody>\n",
       "</table>\n",
       "<p>2528 rows × 15 columns</p>\n",
       "</div>"
      ],
      "text/plain": [
       "           Date       Close      Volume  Dow_Jones    SP500  Gross_Profit  \\\n",
       "0    2012-11-12   19.386786   515802000   12815.08  1380.03         14401   \n",
       "1    2012-11-13   19.389286   532949200   12756.18  1374.53         14401   \n",
       "2    2012-11-14   19.174286   477170400   12570.95  1355.49         14401   \n",
       "3    2012-11-15   18.772142   789910800   12542.38  1353.33         14401   \n",
       "4    2012-11-16   18.845715  1266893600   12588.31  1359.88         14401   \n",
       "...         ...         ...         ...        ...      ...           ...   \n",
       "2523 2022-11-18  151.289993    74794600   33745.69  3992.93         38095   \n",
       "2524 2022-11-21  148.009995    58724100   33700.28  3992.93         38095   \n",
       "2525 2022-11-22  150.179993    51804100   34098.10  3992.93         38095   \n",
       "2526 2022-11-23  151.070007    58301400   34194.06  3992.93         38095   \n",
       "2527 2022-11-25  148.110001    35195900   34347.03  3992.93         38095   \n",
       "\n",
       "       ROE  PE_ratio  PS_ratio  tnote  tbill  Fed_rate        GDP  GDP_growth  \\\n",
       "0     0.40     12.93      3.45   1.61   0.18      0.16  16420.386    2.280688   \n",
       "1     0.40     12.93      3.45   1.59   0.18      0.16  16420.386    2.280688   \n",
       "2     0.40     12.93      3.45   1.59   0.18      0.16  16420.386    2.280688   \n",
       "3     0.40     12.93      3.45   1.58   0.17      0.16  16420.386    2.280688   \n",
       "4     0.40     12.93      3.45   1.58   0.16      0.16  16420.386    2.280688   \n",
       "...    ...       ...       ...    ...    ...       ...        ...         ...   \n",
       "2523  1.61     22.58      5.74   3.82   4.74      3.83  25663.289    1.800000   \n",
       "2524  1.61     22.58      5.74   3.83   4.75      3.83  25663.289    1.800000   \n",
       "2525  1.61     22.58      5.74   3.76   4.79      3.83  25663.289    1.800000   \n",
       "2526  1.61     22.58      5.74   3.71   4.75      3.83  25663.289    1.800000   \n",
       "2527  1.61     22.58      5.74   3.71   4.75      3.83  25663.289    1.800000   \n",
       "\n",
       "          CPI  \n",
       "0     231.249  \n",
       "1     231.249  \n",
       "2     231.249  \n",
       "3     231.249  \n",
       "4     231.249  \n",
       "...       ...  \n",
       "2523  298.062  \n",
       "2524  298.062  \n",
       "2525  298.062  \n",
       "2526  298.062  \n",
       "2527  298.062  \n",
       "\n",
       "[2528 rows x 15 columns]"
      ]
     },
     "execution_count": 7,
     "metadata": {},
     "output_type": "execute_result"
    }
   ],
   "source": [
    "apple_raw"
   ]
  },
  {
   "cell_type": "code",
   "execution_count": 9,
   "id": "52563469",
   "metadata": {},
   "outputs": [],
   "source": [
    "# starting from ~2016.1\n",
    "apple_raw= apple_raw.iloc[800:]"
   ]
  },
  {
   "cell_type": "markdown",
   "id": "18b02c2b",
   "metadata": {},
   "source": [
    "### Train-test split"
   ]
  },
  {
   "cell_type": "code",
   "execution_count": 10,
   "id": "2a569556",
   "metadata": {},
   "outputs": [],
   "source": [
    "train_split_ratio=0.75"
   ]
  },
  {
   "cell_type": "code",
   "execution_count": 11,
   "id": "7623417b",
   "metadata": {},
   "outputs": [
    {
     "name": "stdout",
     "output_type": "stream",
     "text": [
      "len_total:1728 len_train:1296 len_test:432\n"
     ]
    }
   ],
   "source": [
    "# split dataset into train and test\n",
    "len_total=apple_raw.shape[0]\n",
    "len_train=int(len_total*train_split_ratio)\n",
    "len_test = len_total - len_train\n",
    "print(f\"len_total:{len_total}\", f\"len_train:{len_train}\", f\"len_test:{len_total - len_train}\")"
   ]
  },
  {
   "cell_type": "code",
   "execution_count": 12,
   "id": "99a48924",
   "metadata": {},
   "outputs": [
    {
     "data": {
      "image/png": "[encoded data removed]",
      "text/plain": [
       "<Figure size 1440x720 with 1 Axes>"
      ]
     },
     "metadata": {},
     "output_type": "display_data"
    }
   ],
   "source": [
    "plt.figure(figsize=(20,10))\n",
    "\n",
    "\n",
    "plt.plot(apple_raw.Date[:len_train], \n",
    "         apple_raw.Close[:len_train],\n",
    "         'b',\n",
    "         label=\"Training Data\")\n",
    "\n",
    "plt.plot(apple_raw.Date[len_train:], \n",
    "         apple_raw.Close[len_train:],\n",
    "         'r',\n",
    "         label=\"Training Data\")\n",
    "\n",
    "\n",
    "plt.xlabel(\"Date\", fontsize=18)\n",
    "plt.ylabel(\"Apple\", fontsize=18)\n",
    "\n",
    "plt.xticks(fontsize=14)\n",
    "plt.yticks(fontsize=14)\n",
    "\n",
    "plt.legend(fontsize=14, loc=2)\n",
    "\n",
    "plt.show()"
   ]
  },
  {
   "cell_type": "code",
   "execution_count": null,
   "id": "785835d3",
   "metadata": {},
   "outputs": [],
   "source": []
  },
  {
   "cell_type": "code",
   "execution_count": 13,
   "id": "883d76b8",
   "metadata": {},
   "outputs": [],
   "source": [
    "# CPI, ROE, Volumn\n",
    "feature_list = ['Close','ROE','PE_ratio','PS_ratio','Gross_Profit','SP500','Dow_Jones','CPI','GDP']"
   ]
  },
  {
   "cell_type": "code",
   "execution_count": 14,
   "id": "498671ed",
   "metadata": {
    "scrolled": true
   },
   "outputs": [],
   "source": [
    "# pick the \"Close\" column\n",
    "# need to reshape as (len, 1)\n",
    "apple_raw_all = np.array(apple_raw[feature_list].iloc[:])\n",
    "apple_raw_train = np.array(apple_raw[feature_list].iloc[:len_train])\n",
    "apple_raw_test = np.array(apple_raw[feature_list].iloc[len_train:])"
   ]
  },
  {
   "cell_type": "code",
   "execution_count": 15,
   "id": "2b0f27da",
   "metadata": {},
   "outputs": [
    {
     "data": {
      "text/plain": [
       "[(1728, 9), (1296, 9), (432, 9)]"
      ]
     },
     "execution_count": 15,
     "metadata": {},
     "output_type": "execute_result"
    }
   ],
   "source": [
    "[np.shape(apple_raw_all), np.shape(apple_raw_train), np.shape(apple_raw_test)]"
   ]
  },
  {
   "cell_type": "code",
   "execution_count": null,
   "id": "dc1f411d",
   "metadata": {},
   "outputs": [],
   "source": []
  },
  {
   "cell_type": "markdown",
   "id": "398f04f7",
   "metadata": {},
   "source": [
    "### Scaling and transformation"
   ]
  },
  {
   "cell_type": "code",
   "execution_count": 16,
   "id": "b3763642",
   "metadata": {},
   "outputs": [],
   "source": [
    "scale = MinMaxScaler(feature_range = (0,1))\n",
    "\n",
    "apple_raw_train_scaled = scale.fit_transform(apple_raw_train)\n",
    "apple_raw_test_scaled = scale.fit_transform(apple_raw_test)"
   ]
  },
  {
   "cell_type": "code",
   "execution_count": 30,
   "id": "3126f1e2",
   "metadata": {},
   "outputs": [],
   "source": [
    "# scale = MinMaxScaler(feature_range = (0,1))\n",
    "\n",
    "# apple_raw_scaled = scale.fit_transform(apple_raw_all)\n",
    "# apple_raw_train_scaled = apple_raw_scaled[:len_train]\n",
    "# apple_raw_test_scaled = apple_raw_scaled[len_train:]"
   ]
  },
  {
   "cell_type": "code",
   "execution_count": null,
   "id": "9fcf942f",
   "metadata": {},
   "outputs": [],
   "source": []
  },
  {
   "cell_type": "code",
   "execution_count": 17,
   "id": "6254857c",
   "metadata": {},
   "outputs": [],
   "source": [
    "# set window, use previous __ days as input to calculate the next day output\n",
    "window = 45"
   ]
  },
  {
   "cell_type": "code",
   "execution_count": 18,
   "id": "b08ee43f",
   "metadata": {},
   "outputs": [],
   "source": [
    "x_train = []\n",
    "y_train = []\n",
    "\n",
    "for i in range(window, len_train):\n",
    "    x_train.append(apple_raw_train_scaled[i-window:i, :])  # every x_train[i] is an array of len window=60\n",
    "    y_train.append(apple_raw_train_scaled[i,:])            # every y_train[i] is a number of len 1\n",
    "    \n",
    "x_train,y_train = np.array(x_train),np.array(y_train)"
   ]
  },
  {
   "cell_type": "code",
   "execution_count": null,
   "id": "3b91f88f",
   "metadata": {},
   "outputs": [],
   "source": []
  },
  {
   "cell_type": "code",
   "execution_count": 19,
   "id": "20916609",
   "metadata": {
    "scrolled": true
   },
   "outputs": [],
   "source": [
    "# reshape for LSTM input as (len of training set,  len of each input, len of each output)\n",
    "# each timestep is a feature tensor\n",
    "x_train = np.reshape(x_train, (x_train.shape[0], x_train.shape[1], x_train.shape[2]))"
   ]
  },
  {
   "cell_type": "code",
   "execution_count": 20,
   "id": "bc88e7b3",
   "metadata": {},
   "outputs": [
    {
     "data": {
      "text/plain": [
       "(1251, 45, 9)"
      ]
     },
     "execution_count": 20,
     "metadata": {},
     "output_type": "execute_result"
    }
   ],
   "source": [
    "x_train.shape"
   ]
  },
  {
   "cell_type": "code",
   "execution_count": 21,
   "id": "1ddb04cf",
   "metadata": {},
   "outputs": [
    {
     "data": {
      "text/plain": [
       "(1251, 9)"
      ]
     },
     "execution_count": 21,
     "metadata": {},
     "output_type": "execute_result"
    }
   ],
   "source": [
    "y_train.shape"
   ]
  },
  {
   "cell_type": "code",
   "execution_count": null,
   "id": "97578d61",
   "metadata": {},
   "outputs": [],
   "source": []
  },
  {
   "cell_type": "code",
   "execution_count": 22,
   "id": "48fcef61",
   "metadata": {},
   "outputs": [],
   "source": [
    "# do the same for x_test\n",
    "x_test = []\n",
    "\n",
    "for i in range(window, len_test):\n",
    "    x_test.append(apple_raw_test_scaled[i-window:i, :])\n",
    "    \n",
    "x_test = np.array(x_test)"
   ]
  },
  {
   "cell_type": "code",
   "execution_count": 23,
   "id": "fec1b404",
   "metadata": {},
   "outputs": [],
   "source": [
    "x_test = np.reshape(x_test, (x_test.shape[0],x_test.shape[1], x_test.shape[2]))"
   ]
  },
  {
   "cell_type": "code",
   "execution_count": 24,
   "id": "250fda9c",
   "metadata": {},
   "outputs": [
    {
     "data": {
      "text/plain": [
       "[(387, 45, 9), 432]"
      ]
     },
     "execution_count": 24,
     "metadata": {},
     "output_type": "execute_result"
    }
   ],
   "source": [
    "[x_test.shape, len_test]"
   ]
  },
  {
   "cell_type": "code",
   "execution_count": null,
   "id": "3b89f905",
   "metadata": {},
   "outputs": [],
   "source": []
  },
  {
   "cell_type": "code",
   "execution_count": 25,
   "id": "5aca7bc6",
   "metadata": {},
   "outputs": [
    {
     "data": {
      "text/plain": [
       "array([[0.01310389, 0.14285714, 0.        , ..., 0.02114896, 0.01141124,\n",
       "        0.        ],\n",
       "       [0.01337343, 0.14285714, 0.        , ..., 0.00633328, 0.01141124,\n",
       "        0.        ],\n",
       "       [0.01235747, 0.14285714, 0.        , ..., 0.01322405, 0.01141124,\n",
       "        0.        ],\n",
       "       ...,\n",
       "       [0.81696034, 1.        , 1.        , ..., 0.96119857, 1.        ,\n",
       "        1.        ],\n",
       "       [0.80775451, 1.        , 1.        , ..., 0.98879255, 1.        ,\n",
       "        1.        ],\n",
       "       [0.82417579, 1.        , 1.        , ..., 1.        , 1.        ,\n",
       "        1.        ]])"
      ]
     },
     "execution_count": 25,
     "metadata": {},
     "output_type": "execute_result"
    }
   ],
   "source": [
    "apple_raw_train_scaled"
   ]
  },
  {
   "cell_type": "code",
   "execution_count": 26,
   "id": "e49c821e",
   "metadata": {},
   "outputs": [
    {
     "data": {
      "text/plain": [
       "array([[0.01819348, 0.        , 1.        , ..., 0.50198907, 0.        ,\n",
       "        0.        ],\n",
       "       [0.06585085, 0.        , 1.        , ..., 0.52364091, 0.        ,\n",
       "        0.        ],\n",
       "       [0.09128963, 0.        , 1.        , ..., 0.50784851, 0.        ,\n",
       "        0.        ],\n",
       "       ...,\n",
       "       [0.48752205, 1.        , 0.00691244, ..., 0.66540709, 1.        ,\n",
       "        1.        ],\n",
       "       [0.50185169, 1.        , 0.00691244, ..., 0.67729195, 1.        ,\n",
       "        1.        ],\n",
       "       [0.45419421, 1.        , 0.00691244, ..., 0.69623762, 1.        ,\n",
       "        1.        ]])"
      ]
     },
     "execution_count": 26,
     "metadata": {},
     "output_type": "execute_result"
    }
   ],
   "source": [
    "apple_raw_test_scaled"
   ]
  },
  {
   "cell_type": "code",
   "execution_count": null,
   "id": "73546c89",
   "metadata": {},
   "outputs": [],
   "source": []
  },
  {
   "cell_type": "markdown",
   "id": "0bcf7618",
   "metadata": {},
   "source": [
    "## build and compile RNN"
   ]
  },
  {
   "cell_type": "code",
   "execution_count": 32,
   "id": "22e45bc7",
   "metadata": {},
   "outputs": [],
   "source": [
    "keras.backend.clear_session()"
   ]
  },
  {
   "cell_type": "code",
   "execution_count": 27,
   "id": "7d512413",
   "metadata": {
    "scrolled": true
   },
   "outputs": [
    {
     "name": "stderr",
     "output_type": "stream",
     "text": [
      "2022-12-09 00:42:30.481296: I tensorflow/core/platform/cpu_feature_guard.cc:193] This TensorFlow binary is optimized with oneAPI Deep Neural Network Library (oneDNN) to use the following CPU instructions in performance-critical operations:  AVX2 FMA\n",
      "To enable them in other operations, rebuild TensorFlow with the appropriate compiler flags.\n"
     ]
    }
   ],
   "source": [
    "rnn = Sequential()"
   ]
  },
  {
   "cell_type": "code",
   "execution_count": 43,
   "id": "2f5ec91a",
   "metadata": {},
   "outputs": [],
   "source": [
    "# rnn.add(LSTM(units = 50, return_sequences = True, input_shape = (x_train.shape[1],x_train.shape[2])))\n",
    "# rnn.add(Dropout(0.2))"
   ]
  },
  {
   "cell_type": "code",
   "execution_count": 28,
   "id": "24e4323d",
   "metadata": {
    "scrolled": true
   },
   "outputs": [],
   "source": [
    "rnn.add(Bidirectional(LSTM(64, return_sequences=True),input_shape=(x_train.shape[1],\n",
    "                                                                   x_train.shape[2])))"
   ]
  },
  {
   "cell_type": "code",
   "execution_count": 29,
   "id": "049c6800",
   "metadata": {},
   "outputs": [],
   "source": [
    "rnn.add(LSTM(units = 50, return_sequences = True))\n",
    "rnn.add(Dropout(0.2))"
   ]
  },
  {
   "cell_type": "code",
   "execution_count": 30,
   "id": "81ee4021",
   "metadata": {
    "scrolled": true
   },
   "outputs": [],
   "source": [
    "rnn.add(LSTM(units = 50, return_sequences = True))\n",
    "rnn.add(Dropout(0.2))"
   ]
  },
  {
   "cell_type": "code",
   "execution_count": 31,
   "id": "c22544ea",
   "metadata": {
    "scrolled": true
   },
   "outputs": [],
   "source": [
    "# rnn.add(LSTM(units = 50,return_sequences = True))\n",
    "# rnn.add(Dropout(0.2))"
   ]
  },
  {
   "cell_type": "code",
   "execution_count": 32,
   "id": "d5c86cb0",
   "metadata": {
    "scrolled": true
   },
   "outputs": [],
   "source": [
    "rnn.add(LSTM(units = 50))\n",
    "rnn.add(Dropout(0.2))"
   ]
  },
  {
   "cell_type": "code",
   "execution_count": 33,
   "id": "fa8a1abd",
   "metadata": {},
   "outputs": [],
   "source": [
    "rnn.add(Dense(units = x_train.shape[2]))"
   ]
  },
  {
   "cell_type": "code",
   "execution_count": 34,
   "id": "ca97f0ef",
   "metadata": {
    "scrolled": false
   },
   "outputs": [
    {
     "name": "stdout",
     "output_type": "stream",
     "text": [
      "Model: \"sequential\"\n",
      "_________________________________________________________________\n",
      " Layer (type)                Output Shape              Param #   \n",
      "=================================================================\n",
      " bidirectional (Bidirectiona  (None, 45, 128)          37888     \n",
      " l)                                                              \n",
      "                                                                 \n",
      " lstm_1 (LSTM)               (None, 45, 50)            35800     \n",
      "                                                                 \n",
      " dropout (Dropout)           (None, 45, 50)            0         \n",
      "                                                                 \n",
      " lstm_2 (LSTM)               (None, 45, 50)            20200     \n",
      "                                                                 \n",
      " dropout_1 (Dropout)         (None, 45, 50)            0         \n",
      "                                                                 \n",
      " lstm_3 (LSTM)               (None, 50)                20200     \n",
      "                                                                 \n",
      " dropout_2 (Dropout)         (None, 50)                0         \n",
      "                                                                 \n",
      " dense (Dense)               (None, 9)                 459       \n",
      "                                                                 \n",
      "=================================================================\n",
      "Total params: 114,547\n",
      "Trainable params: 114,547\n",
      "Non-trainable params: 0\n",
      "_________________________________________________________________\n"
     ]
    }
   ],
   "source": [
    "rnn.summary()"
   ]
  },
  {
   "cell_type": "code",
   "execution_count": 35,
   "id": "7a3aefb4",
   "metadata": {},
   "outputs": [],
   "source": [
    "rnn.compile(optimizer = 'adam', loss = 'mse', metrics=['accuracy'])"
   ]
  },
  {
   "cell_type": "code",
   "execution_count": 36,
   "id": "519e7b0f",
   "metadata": {
    "scrolled": true
   },
   "outputs": [
    {
     "name": "stdout",
     "output_type": "stream",
     "text": [
      "Epoch 1/50\n",
      "40/40 [==============================] - 15s 135ms/step - loss: 0.0469 - accuracy: 0.2718\n",
      "Epoch 2/50\n",
      "40/40 [==============================] - 5s 114ms/step - loss: 0.0160 - accuracy: 0.4021\n",
      "Epoch 3/50\n",
      "40/40 [==============================] - 5s 120ms/step - loss: 0.0134 - accuracy: 0.4428\n",
      "Epoch 4/50\n",
      "40/40 [==============================] - 5s 122ms/step - loss: 0.0113 - accuracy: 0.5052\n",
      "Epoch 5/50\n",
      "40/40 [==============================] - 7s 170ms/step - loss: 0.0094 - accuracy: 0.5292\n",
      "Epoch 6/50\n",
      "40/40 [==============================] - 9s 226ms/step - loss: 0.0090 - accuracy: 0.5492\n",
      "Epoch 7/50\n",
      "40/40 [==============================] - 9s 217ms/step - loss: 0.0082 - accuracy: 0.5667\n",
      "Epoch 8/50\n",
      "40/40 [==============================] - 6s 148ms/step - loss: 0.0071 - accuracy: 0.6251\n",
      "Epoch 9/50\n",
      "40/40 [==============================] - 6s 144ms/step - loss: 0.0064 - accuracy: 0.6283\n",
      "Epoch 10/50\n",
      "40/40 [==============================] - 7s 177ms/step - loss: 0.0060 - accuracy: 0.6627\n",
      "Epoch 11/50\n",
      "40/40 [==============================] - 5s 122ms/step - loss: 0.0061 - accuracy: 0.6475\n",
      "Epoch 12/50\n",
      "40/40 [==============================] - 5s 121ms/step - loss: 0.0054 - accuracy: 0.6651\n",
      "Epoch 13/50\n",
      "40/40 [==============================] - 4s 108ms/step - loss: 0.0054 - accuracy: 0.6691\n",
      "Epoch 14/50\n",
      "40/40 [==============================] - 4s 110ms/step - loss: 0.0052 - accuracy: 0.6954\n",
      "Epoch 15/50\n",
      "40/40 [==============================] - 5s 116ms/step - loss: 0.0050 - accuracy: 0.6739\n",
      "Epoch 16/50\n",
      "40/40 [==============================] - 4s 112ms/step - loss: 0.0053 - accuracy: 0.6930\n",
      "Epoch 17/50\n",
      "40/40 [==============================] - 5s 132ms/step - loss: 0.0046 - accuracy: 0.7210\n",
      "Epoch 18/50\n",
      "40/40 [==============================] - 6s 157ms/step - loss: 0.0047 - accuracy: 0.7226\n",
      "Epoch 19/50\n",
      "40/40 [==============================] - 5s 133ms/step - loss: 0.0045 - accuracy: 0.7186\n",
      "Epoch 20/50\n",
      "40/40 [==============================] - 5s 136ms/step - loss: 0.0043 - accuracy: 0.7234\n",
      "Epoch 21/50\n",
      "40/40 [==============================] - 4s 111ms/step - loss: 0.0040 - accuracy: 0.7130\n",
      "Epoch 22/50\n",
      "40/40 [==============================] - 5s 119ms/step - loss: 0.0041 - accuracy: 0.7482\n",
      "Epoch 23/50\n",
      "40/40 [==============================] - 5s 130ms/step - loss: 0.0039 - accuracy: 0.7378\n",
      "Epoch 24/50\n",
      "40/40 [==============================] - 5s 120ms/step - loss: 0.0040 - accuracy: 0.7218\n",
      "Epoch 25/50\n",
      "40/40 [==============================] - 5s 124ms/step - loss: 0.0038 - accuracy: 0.7250\n",
      "Epoch 26/50\n",
      "40/40 [==============================] - 5s 127ms/step - loss: 0.0039 - accuracy: 0.7394\n",
      "Epoch 27/50\n",
      "40/40 [==============================] - 5s 121ms/step - loss: 0.0033 - accuracy: 0.7514\n",
      "Epoch 28/50\n",
      "40/40 [==============================] - 5s 119ms/step - loss: 0.0038 - accuracy: 0.7298\n",
      "Epoch 29/50\n",
      "40/40 [==============================] - 8s 190ms/step - loss: 0.0037 - accuracy: 0.7498\n",
      "Epoch 30/50\n",
      "40/40 [==============================] - 6s 140ms/step - loss: 0.0032 - accuracy: 0.7418\n",
      "Epoch 31/50\n",
      "40/40 [==============================] - 8s 200ms/step - loss: 0.0036 - accuracy: 0.7394\n",
      "Epoch 32/50\n",
      "40/40 [==============================] - 6s 142ms/step - loss: 0.0031 - accuracy: 0.7370\n",
      "Epoch 33/50\n",
      "40/40 [==============================] - 5s 116ms/step - loss: 0.0029 - accuracy: 0.7570\n",
      "Epoch 34/50\n",
      "40/40 [==============================] - 4s 104ms/step - loss: 0.0031 - accuracy: 0.7658\n",
      "Epoch 35/50\n",
      "40/40 [==============================] - 4s 101ms/step - loss: 0.0030 - accuracy: 0.7498\n",
      "Epoch 36/50\n",
      "40/40 [==============================] - 4s 103ms/step - loss: 0.0029 - accuracy: 0.7474\n",
      "Epoch 37/50\n",
      "40/40 [==============================] - 4s 101ms/step - loss: 0.0052 - accuracy: 0.7146\n",
      "Epoch 38/50\n",
      "40/40 [==============================] - 6s 140ms/step - loss: 0.0033 - accuracy: 0.7514\n",
      "Epoch 39/50\n",
      "40/40 [==============================] - 5s 123ms/step - loss: 0.0031 - accuracy: 0.7426\n",
      "Epoch 40/50\n",
      "40/40 [==============================] - 6s 148ms/step - loss: 0.0031 - accuracy: 0.7522\n",
      "Epoch 41/50\n",
      "40/40 [==============================] - 6s 161ms/step - loss: 0.0028 - accuracy: 0.7602\n",
      "Epoch 42/50\n",
      "40/40 [==============================] - 8s 206ms/step - loss: 0.0028 - accuracy: 0.7602\n",
      "Epoch 43/50\n",
      "40/40 [==============================] - 10s 242ms/step - loss: 0.0027 - accuracy: 0.7682\n",
      "Epoch 44/50\n",
      "40/40 [==============================] - 8s 205ms/step - loss: 0.0036 - accuracy: 0.7442\n",
      "Epoch 45/50\n",
      "40/40 [==============================] - 8s 189ms/step - loss: 0.0031 - accuracy: 0.7642\n",
      "Epoch 46/50\n",
      "40/40 [==============================] - 6s 152ms/step - loss: 0.0028 - accuracy: 0.7754\n",
      "Epoch 47/50\n",
      "40/40 [==============================] - 7s 169ms/step - loss: 0.0027 - accuracy: 0.7762\n",
      "Epoch 48/50\n",
      "40/40 [==============================] - 7s 164ms/step - loss: 0.0027 - accuracy: 0.7738\n",
      "Epoch 49/50\n",
      "40/40 [==============================] - 8s 206ms/step - loss: 0.0026 - accuracy: 0.7922\n",
      "Epoch 50/50\n",
      "40/40 [==============================] - 6s 144ms/step - loss: 0.0026 - accuracy: 0.7882\n"
     ]
    },
    {
     "data": {
      "text/plain": [
       "<keras.callbacks.History at 0x7fc45de393a0>"
      ]
     },
     "execution_count": 36,
     "metadata": {},
     "output_type": "execute_result"
    }
   ],
   "source": [
    "# multiple features \n",
    "rnn.fit(x_train,y_train,epochs = 50, batch_size = 32)"
   ]
  },
  {
   "cell_type": "code",
   "execution_count": 67,
   "id": "5bb57d5a",
   "metadata": {
    "scrolled": false
   },
   "outputs": [
    {
     "name": "stderr",
     "output_type": "stream",
     "text": [
      "WARNING:absl:Found untraced functions such as lstm_cell_3_layer_call_fn, lstm_cell_3_layer_call_and_return_conditional_losses, lstm_cell_4_layer_call_fn, lstm_cell_4_layer_call_and_return_conditional_losses, lstm_cell_1_layer_call_fn while saving (showing 5 of 8). These functions will not be directly callable after loading.\n"
     ]
    },
    {
     "name": "stdout",
     "output_type": "stream",
     "text": [
      "INFO:tensorflow:Assets written to: apple_rnn_models/lstm_multifeature_scale_all_bi64_50_50_3/assets\n"
     ]
    },
    {
     "name": "stderr",
     "output_type": "stream",
     "text": [
      "INFO:tensorflow:Assets written to: apple_rnn_models/lstm_multifeature_scale_all_bi64_50_50_3/assets\n"
     ]
    }
   ],
   "source": [
    "rnn.save('apple_rnn_models/lstm_multifeature_scale_all_bi64_50_50_3')"
   ]
  },
  {
   "cell_type": "code",
   "execution_count": null,
   "id": "e5ed1455",
   "metadata": {},
   "outputs": [],
   "source": []
  },
  {
   "cell_type": "code",
   "execution_count": null,
   "id": "b82428d8",
   "metadata": {},
   "outputs": [],
   "source": []
  },
  {
   "cell_type": "code",
   "execution_count": 55,
   "id": "584ce639",
   "metadata": {},
   "outputs": [],
   "source": [
    "# y_price_test = apple_raw_test[window:][:,0].reshape(-1,1)\n",
    "\n",
    "# y_scale = MinMaxScaler(feature_range = (0,1))\n",
    "\n",
    "# y_scaler=y_scale.fit_transform(y_price_test)\n",
    "\n",
    "# y_scale.inverse_transform(y_scaler)"
   ]
  },
  {
   "cell_type": "code",
   "execution_count": 37,
   "id": "d988e63a",
   "metadata": {
    "scrolled": true
   },
   "outputs": [
    {
     "name": "stdout",
     "output_type": "stream",
     "text": [
      "13/13 [==============================] - 3s 39ms/step\n"
     ]
    }
   ],
   "source": [
    "LSTM_predict_scale = rnn.predict(x_test)"
   ]
  },
  {
   "cell_type": "code",
   "execution_count": 38,
   "id": "52b7afda",
   "metadata": {
    "scrolled": true
   },
   "outputs": [
    {
     "data": {
      "text/plain": [
       "array([[0.2764866 , 0.13548864, 0.3459813 , ..., 0.5152828 , 0.346372  ,\n",
       "        0.31097224],\n",
       "       [0.2714182 , 0.13400987, 0.34262213, ..., 0.51217055, 0.34437555,\n",
       "        0.3092053 ],\n",
       "       [0.26494557, 0.13302611, 0.34105906, ..., 0.506714  , 0.34121045,\n",
       "        0.30922526],\n",
       "       ...,\n",
       "       [0.3279159 , 0.71748334, 0.141007  , ..., 0.6979697 , 0.9578616 ,\n",
       "        0.81171197],\n",
       "       [0.33084232, 0.7156863 , 0.1442353 , ..., 0.7021345 , 0.9591654 ,\n",
       "        0.8196131 ],\n",
       "       [0.33383924, 0.71393985, 0.14750944, ..., 0.70613456, 0.96043044,\n",
       "        0.8273087 ]], dtype=float32)"
      ]
     },
     "execution_count": 38,
     "metadata": {},
     "output_type": "execute_result"
    }
   ],
   "source": [
    "LSTM_predict_scale"
   ]
  },
  {
   "cell_type": "code",
   "execution_count": 39,
   "id": "b0b51217",
   "metadata": {
    "scrolled": true
   },
   "outputs": [
    {
     "data": {
      "text/plain": [
       "(387, 9)"
      ]
     },
     "execution_count": 39,
     "metadata": {},
     "output_type": "execute_result"
    }
   ],
   "source": [
    "LSTM_predict_scale.shape"
   ]
  },
  {
   "cell_type": "code",
   "execution_count": 40,
   "id": "53330815",
   "metadata": {
    "scrolled": false
   },
   "outputs": [],
   "source": [
    "LSTM_predict = scale.inverse_transform(LSTM_predict_scale)"
   ]
  },
  {
   "cell_type": "code",
   "execution_count": 41,
   "id": "8996e124",
   "metadata": {
    "scrolled": true
   },
   "outputs": [
    {
     "data": {
      "text/plain": [
       "array([[1.3707259e+02, 1.0048420e+00, 2.6994678e+01, ..., 3.2885977e+04,\n",
       "        2.7647006e+02, 2.3355432e+04],\n",
       "       [1.3675778e+02, 1.0038069e+00, 2.6950939e+01, ..., 3.2860848e+04,\n",
       "        2.7640408e+02, 2.3349516e+04],\n",
       "       [1.3635577e+02, 1.0031183e+00, 2.6930588e+01, ..., 3.2816789e+04,\n",
       "        2.7629953e+02, 2.3349580e+04],\n",
       "       ...,\n",
       "       [1.4026685e+02, 1.4122382e+00, 2.4325911e+01, ..., 3.4361016e+04,\n",
       "        2.9667001e+02, 2.5032629e+04],\n",
       "       [1.4044862e+02, 1.4109803e+00, 2.4367943e+01, ..., 3.4394641e+04,\n",
       "        2.9671307e+02, 2.5059094e+04],\n",
       "       [1.4063477e+02, 1.4097579e+00, 2.4410572e+01, ..., 3.4426938e+04,\n",
       "        2.9675488e+02, 2.5084869e+04]], dtype=float32)"
      ]
     },
     "execution_count": 41,
     "metadata": {},
     "output_type": "execute_result"
    }
   ],
   "source": [
    "LSTM_predict"
   ]
  },
  {
   "cell_type": "code",
   "execution_count": 42,
   "id": "9a8c68ee",
   "metadata": {
    "scrolled": true
   },
   "outputs": [
    {
     "data": {
      "text/plain": [
       "82.5367168802888"
      ]
     },
     "execution_count": 42,
     "metadata": {},
     "output_type": "execute_result"
    }
   ],
   "source": [
    "mse_pred = mean_squared_error(apple_raw.Close[len_train+window:], LSTM_predict[:,0])\n",
    "mse_pred"
   ]
  },
  {
   "cell_type": "code",
   "execution_count": null,
   "id": "50d30582",
   "metadata": {},
   "outputs": [],
   "source": []
  },
  {
   "cell_type": "code",
   "execution_count": null,
   "id": "19d47be8",
   "metadata": {},
   "outputs": [],
   "source": []
  },
  {
   "cell_type": "code",
   "execution_count": 43,
   "id": "067ac306",
   "metadata": {
    "scrolled": true
   },
   "outputs": [
    {
     "data": {
      "text/plain": [
       "[(1251, 45, 9), (387, 45, 9)]"
      ]
     },
     "execution_count": 43,
     "metadata": {},
     "output_type": "execute_result"
    }
   ],
   "source": [
    "[x_train.shape, x_test.shape]"
   ]
  },
  {
   "cell_type": "code",
   "execution_count": 44,
   "id": "90e60afe",
   "metadata": {},
   "outputs": [
    {
     "data": {
      "text/plain": [
       "(45, 9)"
      ]
     },
     "execution_count": 44,
     "metadata": {},
     "output_type": "execute_result"
    }
   ],
   "source": [
    "x_test[0].shape"
   ]
  },
  {
   "cell_type": "code",
   "execution_count": 45,
   "id": "85f93436",
   "metadata": {},
   "outputs": [
    {
     "data": {
      "text/plain": [
       "(387, 45, 9)"
      ]
     },
     "execution_count": 45,
     "metadata": {},
     "output_type": "execute_result"
    }
   ],
   "source": [
    "x_test.shape"
   ]
  },
  {
   "cell_type": "code",
   "execution_count": 46,
   "id": "9fddba73",
   "metadata": {
    "scrolled": true
   },
   "outputs": [
    {
     "name": "stdout",
     "output_type": "stream",
     "text": [
      "0 / 387\n",
      "1/1 [==============================] - 0s 38ms/step\n",
      "1 / 387\n",
      "1/1 [==============================] - 0s 114ms/step\n",
      "2 / 387\n",
      "1/1 [==============================] - 0s 39ms/step\n",
      "3 / 387\n",
      "1/1 [==============================] - 0s 57ms/step\n",
      "4 / 387\n",
      "1/1 [==============================] - 0s 37ms/step\n",
      "5 / 387\n",
      "1/1 [==============================] - 0s 55ms/step\n",
      "6 / 387\n",
      "1/1 [==============================] - 0s 44ms/step\n",
      "7 / 387\n",
      "1/1 [==============================] - 0s 54ms/step\n",
      "8 / 387\n",
      "1/1 [==============================] - 0s 74ms/step\n",
      "9 / 387\n",
      "1/1 [==============================] - 0s 40ms/step\n",
      "10 / 387\n",
      "1/1 [==============================] - 0s 42ms/step\n",
      "11 / 387\n",
      "1/1 [==============================] - 0s 48ms/step\n",
      "12 / 387\n",
      "1/1 [==============================] - 0s 60ms/step\n",
      "13 / 387\n",
      "1/1 [==============================] - 0s 47ms/step\n",
      "14 / 387\n",
      "1/1 [==============================] - 0s 108ms/step\n",
      "15 / 387\n",
      "1/1 [==============================] - 0s 82ms/step\n",
      "16 / 387\n",
      "1/1 [==============================] - 0s 67ms/step\n",
      "17 / 387\n",
      "1/1 [==============================] - 0s 84ms/step\n",
      "18 / 387\n",
      "1/1 [==============================] - 0s 43ms/step\n",
      "19 / 387\n",
      "1/1 [==============================] - 0s 46ms/step\n",
      "20 / 387\n",
      "1/1 [==============================] - 0s 100ms/step\n",
      "21 / 387\n",
      "1/1 [==============================] - 0s 140ms/step\n",
      "22 / 387\n",
      "1/1 [==============================] - 0s 63ms/step\n",
      "23 / 387\n",
      "1/1 [==============================] - 0s 77ms/step\n",
      "24 / 387\n",
      "1/1 [==============================] - 0s 49ms/step\n",
      "25 / 387\n",
      "1/1 [==============================] - 0s 94ms/step\n",
      "26 / 387\n",
      "1/1 [==============================] - 0s 51ms/step\n",
      "27 / 387\n",
      "1/1 [==============================] - 0s 32ms/step\n",
      "28 / 387\n",
      "1/1 [==============================] - 0s 47ms/step\n",
      "29 / 387\n",
      "1/1 [==============================] - 0s 50ms/step\n",
      "30 / 387\n",
      "1/1 [==============================] - 0s 48ms/step\n",
      "31 / 387\n",
      "1/1 [==============================] - 0s 52ms/step\n",
      "32 / 387\n",
      "1/1 [==============================] - 0s 93ms/step\n",
      "33 / 387\n",
      "1/1 [==============================] - 0s 266ms/step\n",
      "34 / 387\n",
      "1/1 [==============================] - 0s 50ms/step\n",
      "35 / 387\n",
      "1/1 [==============================] - 0s 39ms/step\n",
      "36 / 387\n",
      "1/1 [==============================] - 0s 46ms/step\n",
      "37 / 387\n",
      "1/1 [==============================] - 0s 34ms/step\n",
      "38 / 387\n",
      "1/1 [==============================] - 0s 46ms/step\n",
      "39 / 387\n",
      "1/1 [==============================] - 0s 40ms/step\n",
      "40 / 387\n",
      "1/1 [==============================] - 0s 37ms/step\n",
      "41 / 387\n",
      "1/1 [==============================] - 0s 50ms/step\n",
      "42 / 387\n",
      "1/1 [==============================] - 0s 33ms/step\n",
      "43 / 387\n",
      "1/1 [==============================] - 0s 41ms/step\n",
      "44 / 387\n",
      "1/1 [==============================] - 0s 71ms/step\n",
      "45 / 387\n",
      "1/1 [==============================] - 0s 57ms/step\n",
      "46 / 387\n",
      "1/1 [==============================] - 0s 40ms/step\n",
      "47 / 387\n",
      "1/1 [==============================] - 0s 45ms/step\n",
      "48 / 387\n",
      "1/1 [==============================] - 0s 42ms/step\n",
      "49 / 387\n",
      "1/1 [==============================] - 0s 59ms/step\n",
      "50 / 387\n",
      "1/1 [==============================] - 0s 43ms/step\n",
      "51 / 387\n",
      "1/1 [==============================] - 0s 54ms/step\n",
      "52 / 387\n",
      "1/1 [==============================] - 0s 41ms/step\n",
      "53 / 387\n",
      "1/1 [==============================] - 0s 53ms/step\n",
      "54 / 387\n",
      "1/1 [==============================] - 0s 58ms/step\n",
      "55 / 387\n",
      "1/1 [==============================] - 0s 33ms/step\n",
      "56 / 387\n",
      "1/1 [==============================] - 0s 44ms/step\n",
      "57 / 387\n",
      "1/1 [==============================] - 0s 45ms/step\n",
      "58 / 387\n",
      "1/1 [==============================] - 0s 51ms/step\n",
      "59 / 387\n",
      "1/1 [==============================] - 0s 59ms/step\n",
      "60 / 387\n",
      "1/1 [==============================] - 0s 37ms/step\n",
      "61 / 387\n",
      "1/1 [==============================] - 0s 48ms/step\n",
      "62 / 387\n",
      "1/1 [==============================] - 0s 55ms/step\n",
      "63 / 387\n",
      "1/1 [==============================] - 0s 61ms/step\n",
      "64 / 387\n",
      "1/1 [==============================] - 0s 60ms/step\n",
      "65 / 387\n",
      "1/1 [==============================] - 0s 85ms/step\n",
      "66 / 387\n",
      "1/1 [==============================] - 0s 36ms/step\n",
      "67 / 387\n",
      "1/1 [==============================] - 0s 45ms/step\n",
      "68 / 387\n",
      "1/1 [==============================] - 0s 38ms/step\n",
      "69 / 387\n",
      "1/1 [==============================] - 0s 95ms/step\n",
      "70 / 387\n",
      "1/1 [==============================] - 0s 48ms/step\n",
      "71 / 387\n",
      "1/1 [==============================] - 0s 85ms/step\n",
      "72 / 387\n",
      "1/1 [==============================] - 0s 43ms/step\n",
      "73 / 387\n",
      "1/1 [==============================] - 0s 50ms/step\n",
      "74 / 387\n",
      "1/1 [==============================] - 0s 50ms/step\n",
      "75 / 387\n",
      "1/1 [==============================] - 0s 70ms/step\n",
      "76 / 387\n",
      "1/1 [==============================] - 0s 45ms/step\n",
      "77 / 387\n",
      "1/1 [==============================] - 0s 65ms/step\n",
      "78 / 387\n",
      "1/1 [==============================] - 0s 35ms/step\n",
      "79 / 387\n",
      "1/1 [==============================] - 0s 46ms/step\n",
      "80 / 387\n",
      "1/1 [==============================] - 0s 51ms/step\n",
      "81 / 387\n",
      "1/1 [==============================] - 0s 43ms/step\n",
      "82 / 387\n",
      "1/1 [==============================] - 0s 56ms/step\n",
      "83 / 387\n",
      "1/1 [==============================] - 0s 291ms/step\n",
      "84 / 387\n",
      "1/1 [==============================] - 0s 61ms/step\n",
      "85 / 387\n",
      "1/1 [==============================] - 0s 52ms/step\n",
      "86 / 387\n",
      "1/1 [==============================] - 0s 51ms/step\n",
      "87 / 387\n",
      "1/1 [==============================] - 0s 80ms/step\n",
      "88 / 387\n",
      "1/1 [==============================] - 0s 44ms/step\n",
      "89 / 387\n",
      "1/1 [==============================] - 0s 84ms/step\n",
      "90 / 387\n",
      "1/1 [==============================] - 0s 165ms/step\n",
      "91 / 387\n",
      "1/1 [==============================] - 0s 39ms/step\n",
      "92 / 387\n",
      "1/1 [==============================] - 0s 82ms/step\n",
      "93 / 387\n",
      "1/1 [==============================] - 0s 36ms/step\n",
      "94 / 387\n",
      "1/1 [==============================] - 0s 40ms/step\n",
      "95 / 387\n",
      "1/1 [==============================] - 0s 52ms/step\n",
      "96 / 387\n",
      "1/1 [==============================] - 0s 63ms/step\n",
      "97 / 387\n",
      "1/1 [==============================] - 0s 90ms/step\n",
      "98 / 387\n",
      "1/1 [==============================] - 0s 41ms/step\n",
      "99 / 387\n",
      "1/1 [==============================] - 0s 45ms/step\n",
      "100 / 387\n",
      "1/1 [==============================] - 0s 40ms/step\n",
      "101 / 387\n",
      "1/1 [==============================] - 0s 47ms/step\n",
      "102 / 387\n",
      "1/1 [==============================] - 0s 41ms/step\n",
      "103 / 387\n",
      "1/1 [==============================] - 0s 49ms/step\n",
      "104 / 387\n",
      "1/1 [==============================] - 0s 42ms/step\n",
      "105 / 387\n",
      "1/1 [==============================] - 0s 138ms/step\n",
      "106 / 387\n",
      "1/1 [==============================] - 0s 179ms/step\n",
      "107 / 387\n",
      "1/1 [==============================] - 0s 49ms/step\n",
      "108 / 387\n",
      "1/1 [==============================] - 0s 74ms/step\n",
      "109 / 387\n",
      "1/1 [==============================] - 0s 48ms/step\n",
      "110 / 387\n",
      "1/1 [==============================] - 0s 43ms/step\n",
      "111 / 387\n",
      "1/1 [==============================] - 0s 58ms/step\n",
      "112 / 387\n",
      "1/1 [==============================] - 0s 64ms/step\n",
      "113 / 387\n",
      "1/1 [==============================] - 0s 40ms/step\n",
      "114 / 387\n",
      "1/1 [==============================] - 0s 49ms/step\n",
      "115 / 387\n",
      "1/1 [==============================] - 0s 61ms/step\n",
      "116 / 387\n",
      "1/1 [==============================] - 0s 67ms/step\n",
      "117 / 387\n",
      "1/1 [==============================] - 0s 97ms/step\n",
      "118 / 387\n",
      "1/1 [==============================] - 0s 123ms/step\n",
      "119 / 387\n",
      "1/1 [==============================] - 0s 61ms/step\n",
      "120 / 387\n",
      "1/1 [==============================] - 0s 94ms/step\n",
      "121 / 387\n",
      "1/1 [==============================] - 0s 45ms/step\n",
      "122 / 387\n",
      "1/1 [==============================] - 0s 44ms/step\n",
      "123 / 387\n",
      "1/1 [==============================] - 0s 55ms/step\n",
      "124 / 387\n",
      "1/1 [==============================] - 0s 73ms/step\n",
      "125 / 387\n",
      "1/1 [==============================] - 0s 114ms/step\n",
      "126 / 387\n",
      "1/1 [==============================] - 0s 41ms/step\n",
      "127 / 387\n",
      "1/1 [==============================] - 0s 44ms/step\n",
      "128 / 387\n",
      "1/1 [==============================] - 0s 41ms/step\n",
      "129 / 387\n",
      "1/1 [==============================] - 0s 42ms/step\n",
      "130 / 387\n",
      "1/1 [==============================] - 0s 51ms/step\n",
      "131 / 387\n",
      "1/1 [==============================] - 0s 43ms/step\n",
      "132 / 387\n",
      "1/1 [==============================] - 0s 47ms/step\n",
      "133 / 387\n",
      "1/1 [==============================] - 0s 132ms/step\n",
      "134 / 387\n",
      "1/1 [==============================] - 0s 36ms/step\n",
      "135 / 387\n",
      "1/1 [==============================] - 0s 43ms/step\n",
      "136 / 387\n",
      "1/1 [==============================] - 0s 37ms/step\n",
      "137 / 387\n",
      "1/1 [==============================] - 0s 38ms/step\n",
      "138 / 387\n",
      "1/1 [==============================] - 0s 52ms/step\n",
      "139 / 387\n",
      "1/1 [==============================] - 0s 37ms/step\n",
      "140 / 387\n",
      "1/1 [==============================] - 0s 37ms/step\n",
      "141 / 387\n",
      "1/1 [==============================] - 0s 44ms/step\n",
      "142 / 387\n",
      "1/1 [==============================] - 0s 40ms/step\n",
      "143 / 387\n",
      "1/1 [==============================] - 0s 32ms/step\n",
      "144 / 387\n",
      "1/1 [==============================] - 0s 52ms/step\n",
      "145 / 387\n",
      "1/1 [==============================] - 0s 45ms/step\n",
      "146 / 387\n",
      "1/1 [==============================] - 0s 38ms/step\n",
      "147 / 387\n",
      "1/1 [==============================] - 0s 41ms/step\n",
      "148 / 387\n",
      "1/1 [==============================] - 0s 42ms/step\n",
      "149 / 387\n",
      "1/1 [==============================] - 0s 113ms/step\n",
      "150 / 387\n",
      "1/1 [==============================] - 0s 42ms/step\n",
      "151 / 387\n",
      "1/1 [==============================] - 0s 80ms/step\n",
      "152 / 387\n",
      "1/1 [==============================] - 0s 47ms/step\n",
      "153 / 387\n",
      "1/1 [==============================] - 0s 41ms/step\n",
      "154 / 387\n",
      "1/1 [==============================] - 0s 202ms/step\n",
      "155 / 387\n",
      "1/1 [==============================] - 0s 49ms/step\n",
      "156 / 387\n",
      "1/1 [==============================] - 0s 46ms/step\n",
      "157 / 387\n",
      "1/1 [==============================] - 0s 43ms/step\n",
      "158 / 387\n",
      "1/1 [==============================] - 0s 49ms/step\n",
      "159 / 387\n",
      "1/1 [==============================] - 0s 43ms/step\n",
      "160 / 387\n",
      "1/1 [==============================] - 0s 42ms/step\n",
      "161 / 387\n",
      "1/1 [==============================] - 0s 37ms/step\n",
      "162 / 387\n",
      "1/1 [==============================] - 0s 70ms/step\n",
      "163 / 387\n",
      "1/1 [==============================] - 0s 37ms/step\n",
      "164 / 387\n",
      "1/1 [==============================] - 0s 33ms/step\n",
      "165 / 387\n",
      "1/1 [==============================] - 0s 34ms/step\n",
      "166 / 387\n",
      "1/1 [==============================] - 0s 41ms/step\n",
      "167 / 387\n",
      "1/1 [==============================] - 0s 44ms/step\n",
      "168 / 387\n",
      "1/1 [==============================] - 0s 40ms/step\n",
      "169 / 387\n",
      "1/1 [==============================] - 0s 55ms/step\n",
      "170 / 387\n",
      "1/1 [==============================] - 0s 51ms/step\n",
      "171 / 387\n",
      "1/1 [==============================] - 0s 41ms/step\n",
      "172 / 387\n",
      "1/1 [==============================] - 0s 38ms/step\n",
      "173 / 387\n",
      "1/1 [==============================] - 0s 57ms/step\n",
      "174 / 387\n",
      "1/1 [==============================] - 0s 40ms/step\n",
      "175 / 387\n",
      "1/1 [==============================] - 0s 47ms/step\n",
      "176 / 387\n",
      "1/1 [==============================] - 0s 254ms/step\n",
      "177 / 387\n",
      "1/1 [==============================] - 0s 71ms/step\n",
      "178 / 387\n",
      "1/1 [==============================] - 0s 29ms/step\n",
      "179 / 387\n",
      "1/1 [==============================] - 0s 53ms/step\n",
      "180 / 387\n",
      "1/1 [==============================] - 0s 35ms/step\n",
      "181 / 387\n",
      "1/1 [==============================] - 0s 44ms/step\n",
      "182 / 387\n",
      "1/1 [==============================] - 0s 45ms/step\n",
      "183 / 387\n",
      "1/1 [==============================] - 0s 55ms/step\n",
      "184 / 387\n",
      "1/1 [==============================] - 0s 39ms/step\n",
      "185 / 387\n",
      "1/1 [==============================] - 0s 48ms/step\n",
      "186 / 387\n",
      "1/1 [==============================] - 0s 52ms/step\n",
      "187 / 387\n",
      "1/1 [==============================] - 0s 49ms/step\n",
      "188 / 387\n",
      "1/1 [==============================] - 0s 54ms/step\n",
      "189 / 387\n",
      "1/1 [==============================] - 0s 37ms/step\n",
      "190 / 387\n",
      "1/1 [==============================] - 0s 62ms/step\n",
      "191 / 387\n",
      "1/1 [==============================] - 0s 39ms/step\n",
      "192 / 387\n",
      "1/1 [==============================] - 0s 39ms/step\n",
      "193 / 387\n",
      "1/1 [==============================] - 0s 39ms/step\n",
      "194 / 387\n",
      "1/1 [==============================] - 0s 44ms/step\n",
      "195 / 387\n",
      "1/1 [==============================] - 0s 46ms/step\n",
      "196 / 387\n",
      "1/1 [==============================] - 0s 55ms/step\n",
      "197 / 387\n",
      "1/1 [==============================] - 0s 57ms/step\n",
      "198 / 387\n",
      "1/1 [==============================] - 0s 77ms/step\n",
      "199 / 387\n",
      "1/1 [==============================] - 0s 47ms/step\n",
      "200 / 387\n",
      "1/1 [==============================] - 0s 48ms/step\n",
      "201 / 387\n",
      "1/1 [==============================] - 0s 36ms/step\n",
      "202 / 387\n",
      "1/1 [==============================] - 0s 39ms/step\n",
      "203 / 387\n",
      "1/1 [==============================] - 0s 38ms/step\n",
      "204 / 387\n",
      "1/1 [==============================] - 0s 42ms/step\n",
      "205 / 387\n",
      "1/1 [==============================] - 0s 50ms/step\n",
      "206 / 387\n",
      "1/1 [==============================] - 0s 36ms/step\n",
      "207 / 387\n",
      "1/1 [==============================] - 0s 37ms/step\n",
      "208 / 387\n",
      "1/1 [==============================] - 0s 32ms/step\n",
      "209 / 387\n",
      "1/1 [==============================] - 0s 34ms/step\n",
      "210 / 387\n",
      "1/1 [==============================] - 0s 102ms/step\n",
      "211 / 387\n",
      "1/1 [==============================] - 0s 39ms/step\n",
      "212 / 387\n",
      "1/1 [==============================] - 0s 40ms/step\n",
      "213 / 387\n",
      "1/1 [==============================] - 0s 40ms/step\n",
      "214 / 387\n",
      "1/1 [==============================] - 0s 39ms/step\n",
      "215 / 387\n",
      "1/1 [==============================] - 0s 39ms/step\n",
      "216 / 387\n",
      "1/1 [==============================] - 0s 39ms/step\n",
      "217 / 387\n",
      "1/1 [==============================] - 0s 37ms/step\n",
      "218 / 387\n",
      "1/1 [==============================] - 0s 31ms/step\n",
      "219 / 387\n",
      "1/1 [==============================] - 0s 33ms/step\n",
      "220 / 387\n",
      "1/1 [==============================] - 0s 38ms/step\n",
      "221 / 387\n",
      "1/1 [==============================] - 0s 39ms/step\n",
      "222 / 387\n",
      "1/1 [==============================] - 0s 51ms/step\n",
      "223 / 387\n",
      "1/1 [==============================] - 0s 37ms/step\n",
      "224 / 387\n",
      "1/1 [==============================] - 0s 32ms/step\n",
      "225 / 387\n",
      "1/1 [==============================] - 0s 51ms/step\n",
      "226 / 387\n",
      "1/1 [==============================] - 0s 57ms/step\n",
      "227 / 387\n",
      "1/1 [==============================] - 0s 37ms/step\n",
      "228 / 387\n",
      "1/1 [==============================] - 0s 48ms/step\n",
      "229 / 387\n",
      "1/1 [==============================] - 0s 38ms/step\n",
      "230 / 387\n",
      "1/1 [==============================] - 0s 57ms/step\n",
      "231 / 387\n",
      "1/1 [==============================] - 0s 40ms/step\n",
      "232 / 387\n",
      "1/1 [==============================] - 0s 53ms/step\n",
      "233 / 387\n",
      "1/1 [==============================] - 0s 42ms/step\n",
      "234 / 387\n",
      "1/1 [==============================] - 0s 41ms/step\n",
      "235 / 387\n",
      "1/1 [==============================] - 0s 39ms/step\n",
      "236 / 387\n",
      "1/1 [==============================] - 0s 38ms/step\n",
      "237 / 387\n",
      "1/1 [==============================] - 0s 44ms/step\n",
      "238 / 387\n",
      "1/1 [==============================] - 0s 44ms/step\n",
      "239 / 387\n",
      "1/1 [==============================] - 0s 44ms/step\n",
      "240 / 387\n",
      "1/1 [==============================] - 0s 38ms/step\n",
      "241 / 387\n",
      "1/1 [==============================] - 0s 37ms/step\n",
      "242 / 387\n",
      "1/1 [==============================] - 0s 40ms/step\n",
      "243 / 387\n",
      "1/1 [==============================] - 0s 49ms/step\n",
      "244 / 387\n",
      "1/1 [==============================] - 0s 34ms/step\n",
      "245 / 387\n",
      "1/1 [==============================] - 0s 38ms/step\n",
      "246 / 387\n",
      "1/1 [==============================] - 0s 37ms/step\n",
      "247 / 387\n",
      "1/1 [==============================] - 0s 41ms/step\n",
      "248 / 387\n",
      "1/1 [==============================] - 0s 48ms/step\n",
      "249 / 387\n",
      "1/1 [==============================] - 0s 45ms/step\n",
      "250 / 387\n",
      "1/1 [==============================] - 0s 59ms/step\n",
      "251 / 387\n",
      "1/1 [==============================] - 0s 39ms/step\n",
      "252 / 387\n",
      "1/1 [==============================] - 0s 46ms/step\n",
      "253 / 387\n",
      "1/1 [==============================] - 0s 379ms/step\n",
      "254 / 387\n",
      "1/1 [==============================] - 0s 46ms/step\n",
      "255 / 387\n",
      "1/1 [==============================] - 0s 35ms/step\n",
      "256 / 387\n",
      "1/1 [==============================] - 0s 43ms/step\n",
      "257 / 387\n",
      "1/1 [==============================] - 0s 43ms/step\n",
      "258 / 387\n",
      "1/1 [==============================] - 0s 37ms/step\n",
      "259 / 387\n",
      "1/1 [==============================] - 0s 40ms/step\n",
      "260 / 387\n",
      "1/1 [==============================] - 0s 37ms/step\n",
      "261 / 387\n",
      "1/1 [==============================] - 0s 43ms/step\n",
      "262 / 387\n",
      "1/1 [==============================] - 0s 52ms/step\n",
      "263 / 387\n",
      "1/1 [==============================] - 0s 57ms/step\n",
      "264 / 387\n",
      "1/1 [==============================] - 0s 45ms/step\n",
      "265 / 387\n"
     ]
    },
    {
     "name": "stdout",
     "output_type": "stream",
     "text": [
      "1/1 [==============================] - 0s 52ms/step\n",
      "266 / 387\n",
      "1/1 [==============================] - 0s 60ms/step\n",
      "267 / 387\n",
      "1/1 [==============================] - 0s 70ms/step\n",
      "268 / 387\n",
      "1/1 [==============================] - 0s 45ms/step\n",
      "269 / 387\n",
      "1/1 [==============================] - 0s 64ms/step\n",
      "270 / 387\n",
      "1/1 [==============================] - 0s 101ms/step\n",
      "271 / 387\n",
      "1/1 [==============================] - 0s 33ms/step\n",
      "272 / 387\n",
      "1/1 [==============================] - 0s 42ms/step\n",
      "273 / 387\n",
      "1/1 [==============================] - 0s 42ms/step\n",
      "274 / 387\n",
      "1/1 [==============================] - 0s 47ms/step\n",
      "275 / 387\n",
      "1/1 [==============================] - 0s 37ms/step\n",
      "276 / 387\n",
      "1/1 [==============================] - 0s 49ms/step\n",
      "277 / 387\n",
      "1/1 [==============================] - 0s 36ms/step\n",
      "278 / 387\n",
      "1/1 [==============================] - 0s 45ms/step\n",
      "279 / 387\n",
      "1/1 [==============================] - 0s 85ms/step\n",
      "280 / 387\n",
      "1/1 [==============================] - 0s 49ms/step\n",
      "281 / 387\n",
      "1/1 [==============================] - 0s 55ms/step\n",
      "282 / 387\n",
      "1/1 [==============================] - 0s 57ms/step\n",
      "283 / 387\n",
      "1/1 [==============================] - 0s 45ms/step\n",
      "284 / 387\n",
      "1/1 [==============================] - 0s 58ms/step\n",
      "285 / 387\n",
      "1/1 [==============================] - 0s 58ms/step\n",
      "286 / 387\n",
      "1/1 [==============================] - 0s 52ms/step\n",
      "287 / 387\n",
      "1/1 [==============================] - 0s 46ms/step\n",
      "288 / 387\n",
      "1/1 [==============================] - 0s 88ms/step\n",
      "289 / 387\n",
      "1/1 [==============================] - 0s 72ms/step\n",
      "290 / 387\n",
      "1/1 [==============================] - 0s 42ms/step\n",
      "291 / 387\n",
      "1/1 [==============================] - 0s 37ms/step\n",
      "292 / 387\n",
      "1/1 [==============================] - 0s 59ms/step\n",
      "293 / 387\n",
      "1/1 [==============================] - 0s 48ms/step\n",
      "294 / 387\n",
      "1/1 [==============================] - 0s 44ms/step\n",
      "295 / 387\n",
      "1/1 [==============================] - 0s 103ms/step\n",
      "296 / 387\n",
      "1/1 [==============================] - 0s 42ms/step\n",
      "297 / 387\n",
      "1/1 [==============================] - 0s 66ms/step\n",
      "298 / 387\n",
      "1/1 [==============================] - 0s 41ms/step\n",
      "299 / 387\n",
      "1/1 [==============================] - 0s 39ms/step\n",
      "300 / 387\n",
      "1/1 [==============================] - 0s 54ms/step\n",
      "301 / 387\n",
      "1/1 [==============================] - 0s 45ms/step\n",
      "302 / 387\n",
      "1/1 [==============================] - 0s 36ms/step\n",
      "303 / 387\n",
      "1/1 [==============================] - 0s 44ms/step\n",
      "304 / 387\n",
      "1/1 [==============================] - 0s 51ms/step\n",
      "305 / 387\n",
      "1/1 [==============================] - 0s 48ms/step\n",
      "306 / 387\n",
      "1/1 [==============================] - 0s 44ms/step\n",
      "307 / 387\n",
      "1/1 [==============================] - 0s 37ms/step\n",
      "308 / 387\n",
      "1/1 [==============================] - 0s 34ms/step\n",
      "309 / 387\n",
      "1/1 [==============================] - 0s 36ms/step\n",
      "310 / 387\n",
      "1/1 [==============================] - 0s 50ms/step\n",
      "311 / 387\n",
      "1/1 [==============================] - 0s 54ms/step\n",
      "312 / 387\n",
      "1/1 [==============================] - 0s 43ms/step\n",
      "313 / 387\n",
      "1/1 [==============================] - 0s 44ms/step\n",
      "314 / 387\n",
      "1/1 [==============================] - 0s 44ms/step\n",
      "315 / 387\n",
      "1/1 [==============================] - 0s 45ms/step\n",
      "316 / 387\n",
      "1/1 [==============================] - 0s 50ms/step\n",
      "317 / 387\n",
      "1/1 [==============================] - 0s 50ms/step\n",
      "318 / 387\n",
      "1/1 [==============================] - 0s 43ms/step\n",
      "319 / 387\n",
      "1/1 [==============================] - 0s 50ms/step\n",
      "320 / 387\n",
      "1/1 [==============================] - 0s 44ms/step\n",
      "321 / 387\n",
      "1/1 [==============================] - 0s 59ms/step\n",
      "322 / 387\n",
      "1/1 [==============================] - 0s 36ms/step\n",
      "323 / 387\n",
      "1/1 [==============================] - 0s 37ms/step\n",
      "324 / 387\n",
      "1/1 [==============================] - 0s 67ms/step\n",
      "325 / 387\n",
      "1/1 [==============================] - 0s 48ms/step\n",
      "326 / 387\n",
      "1/1 [==============================] - 0s 62ms/step\n",
      "327 / 387\n",
      "1/1 [==============================] - 0s 49ms/step\n",
      "328 / 387\n",
      "1/1 [==============================] - 0s 48ms/step\n",
      "329 / 387\n",
      "1/1 [==============================] - 0s 46ms/step\n",
      "330 / 387\n",
      "1/1 [==============================] - 0s 56ms/step\n",
      "331 / 387\n",
      "1/1 [==============================] - 0s 50ms/step\n",
      "332 / 387\n",
      "1/1 [==============================] - 0s 68ms/step\n",
      "333 / 387\n",
      "1/1 [==============================] - 0s 46ms/step\n",
      "334 / 387\n",
      "1/1 [==============================] - 0s 112ms/step\n",
      "335 / 387\n",
      "1/1 [==============================] - 0s 40ms/step\n",
      "336 / 387\n",
      "1/1 [==============================] - 0s 62ms/step\n",
      "337 / 387\n",
      "1/1 [==============================] - 0s 48ms/step\n",
      "338 / 387\n",
      "1/1 [==============================] - 0s 36ms/step\n",
      "339 / 387\n",
      "1/1 [==============================] - 0s 43ms/step\n",
      "340 / 387\n",
      "1/1 [==============================] - 0s 40ms/step\n",
      "341 / 387\n",
      "1/1 [==============================] - 0s 43ms/step\n",
      "342 / 387\n",
      "1/1 [==============================] - 0s 46ms/step\n",
      "343 / 387\n",
      "1/1 [==============================] - 0s 47ms/step\n",
      "344 / 387\n",
      "1/1 [==============================] - 0s 52ms/step\n",
      "345 / 387\n",
      "1/1 [==============================] - 0s 51ms/step\n",
      "346 / 387\n",
      "1/1 [==============================] - 0s 53ms/step\n",
      "347 / 387\n",
      "1/1 [==============================] - 0s 31ms/step\n",
      "348 / 387\n",
      "1/1 [==============================] - 0s 50ms/step\n",
      "349 / 387\n",
      "1/1 [==============================] - 0s 34ms/step\n",
      "350 / 387\n",
      "1/1 [==============================] - 0s 52ms/step\n",
      "351 / 387\n",
      "1/1 [==============================] - 0s 35ms/step\n",
      "352 / 387\n",
      "1/1 [==============================] - 0s 49ms/step\n",
      "353 / 387\n",
      "1/1 [==============================] - 0s 62ms/step\n",
      "354 / 387\n",
      "1/1 [==============================] - 0s 63ms/step\n",
      "355 / 387\n",
      "1/1 [==============================] - 0s 45ms/step\n",
      "356 / 387\n",
      "1/1 [==============================] - 0s 59ms/step\n",
      "357 / 387\n",
      "1/1 [==============================] - 0s 58ms/step\n",
      "358 / 387\n",
      "1/1 [==============================] - 0s 82ms/step\n",
      "359 / 387\n",
      "1/1 [==============================] - 0s 40ms/step\n",
      "360 / 387\n",
      "1/1 [==============================] - 0s 51ms/step\n",
      "361 / 387\n",
      "1/1 [==============================] - 0s 54ms/step\n",
      "362 / 387\n",
      "1/1 [==============================] - 0s 47ms/step\n",
      "363 / 387\n",
      "1/1 [==============================] - 0s 64ms/step\n",
      "364 / 387\n",
      "1/1 [==============================] - 0s 68ms/step\n",
      "365 / 387\n",
      "1/1 [==============================] - 0s 42ms/step\n",
      "366 / 387\n",
      "1/1 [==============================] - 0s 44ms/step\n",
      "367 / 387\n",
      "1/1 [==============================] - 0s 61ms/step\n",
      "368 / 387\n",
      "1/1 [==============================] - 0s 60ms/step\n",
      "369 / 387\n",
      "1/1 [==============================] - 0s 38ms/step\n",
      "370 / 387\n",
      "1/1 [==============================] - 0s 72ms/step\n",
      "371 / 387\n",
      "1/1 [==============================] - 0s 51ms/step\n",
      "372 / 387\n",
      "1/1 [==============================] - 0s 34ms/step\n",
      "373 / 387\n",
      "1/1 [==============================] - 0s 38ms/step\n",
      "374 / 387\n",
      "1/1 [==============================] - 0s 44ms/step\n",
      "375 / 387\n",
      "1/1 [==============================] - 0s 53ms/step\n",
      "376 / 387\n",
      "1/1 [==============================] - 0s 75ms/step\n",
      "377 / 387\n",
      "1/1 [==============================] - 0s 49ms/step\n",
      "378 / 387\n",
      "1/1 [==============================] - 0s 44ms/step\n",
      "379 / 387\n",
      "1/1 [==============================] - 0s 41ms/step\n",
      "380 / 387\n",
      "1/1 [==============================] - 0s 38ms/step\n",
      "381 / 387\n",
      "1/1 [==============================] - 0s 42ms/step\n",
      "382 / 387\n",
      "1/1 [==============================] - 0s 40ms/step\n",
      "383 / 387\n",
      "1/1 [==============================] - 0s 47ms/step\n",
      "384 / 387\n",
      "1/1 [==============================] - 0s 62ms/step\n",
      "385 / 387\n",
      "1/1 [==============================] - 0s 53ms/step\n",
      "386 / 387\n",
      "1/1 [==============================] - 0s 38ms/step\n"
     ]
    }
   ],
   "source": [
    "# initialize pred_window\n",
    "\n",
    "back = 30\n",
    "\n",
    "pred_window = np.array([x_test[0]])\n",
    "#pred_window = np.array([x_train[-back]])  \n",
    "forecast_result = np.empty((0,x_train.shape[2]), float)\n",
    "#len_window = 60\n",
    "\n",
    "\n",
    "# forecast the future price\n",
    "for i in range(len(x_test)):\n",
    "    print(i,'/',len(x_test))\n",
    "    forecast = rnn.predict(pred_window)\n",
    "    \n",
    "    forecast_result = np.append(forecast_result, forecast, axis=0)\n",
    "\n",
    "    # update pred_window\n",
    "    pred_window = np.append(pred_window[0][1:], forecast, axis=0).reshape(1,\n",
    "                                                                          window,\n",
    "                                                                          pred_window.shape[2])"
   ]
  },
  {
   "cell_type": "code",
   "execution_count": 47,
   "id": "258d4b9a",
   "metadata": {
    "scrolled": false
   },
   "outputs": [
    {
     "data": {
      "text/plain": [
       "array([[0.27648658, 0.13548863, 0.34598124, ..., 0.51528275, 0.34637201,\n",
       "        0.31097224],\n",
       "       [0.27223355, 0.13458443, 0.34718615, ..., 0.51230592, 0.345945  ,\n",
       "        0.31617948],\n",
       "       [0.26891875, 0.13375944, 0.34957057, ..., 0.51027679, 0.34675682,\n",
       "        0.32225218],\n",
       "       ...,\n",
       "       [0.95604748, 1.04043305, 1.06781471, ..., 0.96031153, 0.96715599,\n",
       "        0.99897349],\n",
       "       [0.95604736, 1.04043305, 1.06781483, ..., 0.96031153, 0.96715599,\n",
       "        0.99897349],\n",
       "       [0.95604742, 1.04043305, 1.06781471, ..., 0.96031153, 0.96715593,\n",
       "        0.99897343]])"
      ]
     },
     "execution_count": 47,
     "metadata": {},
     "output_type": "execute_result"
    }
   ],
   "source": [
    "forecast_result"
   ]
  },
  {
   "cell_type": "code",
   "execution_count": 48,
   "id": "b3fd2ab5",
   "metadata": {
    "scrolled": true
   },
   "outputs": [],
   "source": [
    "LSTM_forecast = scale.inverse_transform(forecast_result)"
   ]
  },
  {
   "cell_type": "code",
   "execution_count": 49,
   "id": "838c1c97",
   "metadata": {},
   "outputs": [
    {
     "data": {
      "text/plain": [
       "array([[1.37072581e+02, 1.00484204e+00, 2.69946757e+01, ...,\n",
       "        3.28859751e+04, 2.76470053e+02, 2.33554326e+04],\n",
       "       [1.36808426e+02, 1.00420910e+00, 2.70103636e+01, ...,\n",
       "        3.28619397e+04, 2.76455947e+02, 2.33728739e+04],\n",
       "       [1.36602544e+02, 1.00363161e+00, 2.70414089e+01, ...,\n",
       "        3.28455563e+04, 2.76482765e+02, 2.33932140e+04],\n",
       "       ...,\n",
       "       [1.79280104e+02, 1.63830313e+00, 3.63929475e+01, ...,\n",
       "        3.64791998e+04, 2.96977031e+02, 2.56598508e+04],\n",
       "       [1.79280097e+02, 1.63830313e+00, 3.63929490e+01, ...,\n",
       "        3.64791998e+04, 2.96977031e+02, 2.56598508e+04],\n",
       "       [1.79280100e+02, 1.63830313e+00, 3.63929475e+01, ...,\n",
       "        3.64791998e+04, 2.96977029e+02, 2.56598506e+04]])"
      ]
     },
     "execution_count": 49,
     "metadata": {},
     "output_type": "execute_result"
    }
   ],
   "source": [
    "LSTM_forecast"
   ]
  },
  {
   "cell_type": "code",
   "execution_count": null,
   "id": "b191381a",
   "metadata": {},
   "outputs": [],
   "source": []
  },
  {
   "cell_type": "markdown",
   "id": "708dfc06",
   "metadata": {},
   "source": [
    "## Results and plots"
   ]
  },
  {
   "cell_type": "code",
   "execution_count": 64,
   "id": "2ae2987a",
   "metadata": {
    "scrolled": true
   },
   "outputs": [
    {
     "name": "stdout",
     "output_type": "stream",
     "text": [
      "len_total:3021 len_train:2265 len_test:756\n"
     ]
    }
   ],
   "source": [
    "print(f\"len_total:{len_total}\", f\"len_train:{len_train}\", f\"len_test:{len_total - len_train}\")"
   ]
  },
  {
   "cell_type": "code",
   "execution_count": 50,
   "id": "dfffb71e",
   "metadata": {
    "scrolled": false
   },
   "outputs": [
    {
     "data": {
      "image/png": "[encoded data removed]",
      "text/plain": [
       "<Figure size 1440x720 with 1 Axes>"
      ]
     },
     "metadata": {},
     "output_type": "display_data"
    }
   ],
   "source": [
    "plt.figure(figsize=(20,10))\n",
    "\n",
    "\n",
    "plt.plot(apple_raw.Date[:len_train], \n",
    "         apple_raw.Close[:len_train],\n",
    "         'b',\n",
    "         label=\"Training Data\")\n",
    "\n",
    "\n",
    "plt.plot(apple_raw.Date[len_train:], \n",
    "         apple_raw.Close[len_train:],\n",
    "         'r',\n",
    "         label=\"Test Data\")\n",
    "\n",
    "\n",
    "plt.plot(apple_raw.Date[len_train+window:], \n",
    "         LSTM_forecast[:,0],\n",
    "         'g--o',\n",
    "         label=\"LSTM\")\n",
    "\n",
    "\n",
    "plt.xlabel(\"Date\", fontsize=18)\n",
    "plt.ylabel(\"Apple\", fontsize=18)\n",
    "\n",
    "plt.xticks(fontsize=14)\n",
    "plt.yticks(fontsize=14)\n",
    "\n",
    "plt.legend(fontsize=14, loc=2)\n",
    "\n",
    "plt.show()"
   ]
  },
  {
   "cell_type": "code",
   "execution_count": 51,
   "id": "aed7f30a",
   "metadata": {
    "scrolled": true
   },
   "outputs": [],
   "source": [
    "mse= mean_squared_error(apple_raw.Close[len_train+window:], LSTM_forecast[:,0])"
   ]
  },
  {
   "cell_type": "code",
   "execution_count": 52,
   "id": "bb81f87a",
   "metadata": {},
   "outputs": [
    {
     "data": {
      "text/plain": [
       "540.3273243632041"
      ]
     },
     "execution_count": 52,
     "metadata": {},
     "output_type": "execute_result"
    }
   ],
   "source": [
    "mse"
   ]
  },
  {
   "cell_type": "code",
   "execution_count": null,
   "id": "3ad267fb",
   "metadata": {},
   "outputs": [],
   "source": []
  }
 ],
 "metadata": {
  "kernelspec": {
   "display_name": "Python 3 (ipykernel)",
   "language": "python",
   "name": "python3"
  },
  "language_info": {
   "codemirror_mode": {
    "name": "ipython",
    "version": 3
   },
   "file_extension": ".py",
   "mimetype": "text/x-python",
   "name": "python",
   "nbconvert_exporter": "python",
   "pygments_lexer": "ipython3",
   "version": "3.9.12"
  }
 },
 "nbformat": 4,
 "nbformat_minor": 5
}
