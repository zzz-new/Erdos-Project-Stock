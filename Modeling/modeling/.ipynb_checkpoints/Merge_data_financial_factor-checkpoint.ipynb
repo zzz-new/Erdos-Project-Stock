{
 "cells": [
  {
   "cell_type": "code",
   "execution_count": 4,
   "id": "495306af",
   "metadata": {},
   "outputs": [],
   "source": [
    "# apple stock history. https://finance.yahoo.com/quote/AAPL/history?p=AAPL\n",
    "\n",
    "\n",
    "# Macroeconomic Factors\n",
    "\n",
    "# 1yr Treasury rate. https://www.macrotrends.net/2492/1-year-treasury-rate-yield-chart\n",
    "# 10yr Treasury rate. https://www.macrotrends.net/2016/10-year-treasury-bond-rate-yield-chart\n",
    "# Fed Funds Rate (daily data). https://www.macrotrends.net/2015/fed-funds-rate-historical-chart\n",
    "# GDP (absolute value). https://fred.stlouisfed.org/series/GDP\n",
    "# GDP growth (yearly). https://data.worldbank.org/indicator/NY.GDP.MKTP.KD.ZG?locations=US\n",
    "## GDP growth (quarterly). https://data.oecd.org/gdp/real-gdp-forecast.htm\n",
    "# CPI (monthly). https://fred.stlouisfed.org/series/CPIAUCSL\n",
    "## Treasury bill. https://home.treasury.gov/interest-rates-data-csv-archive\n",
    "## Fed Funds Effective Rate (monthly). https://fred.stlouisfed.org/series/FEDFUNDS\n",
    "\n",
    "\n",
    "# Financial Factors\n",
    "\n",
    "# Gross Profit. https://www.macrotrends.net/stocks/charts/AAPL/apple/gross-profit\n",
    "# P/E. https://www.macrotrends.net/stocks/charts/AAPL/apple/pe-ratio\n",
    "# P/S. https://www.macrotrends.net/stocks/charts/AAPL/apple/ps-ratio\n",
    "\n",
    "\n",
    "# Market Factors\n",
    "\n",
    "# Dow Jones Industrial Avg. https://www.macrotrends.net/1319/dow-jones-100-year-historical-chart\n",
    "# S&P500. https://www.kaggle.com/datasets/andrewmvd/sp-500-stocks"
   ]
  },
  {
   "cell_type": "code",
   "execution_count": 1,
   "id": "947ff421",
   "metadata": {},
   "outputs": [],
   "source": [
    "import pandas as pd\n",
    "import matplotlib.pyplot as plt\n",
    "import numpy as np\n",
    "\n",
    "from datetime import datetime, timedelta\n",
    "from seaborn import set_style\n",
    "set_style(\"whitegrid\")\n",
    "from seaborn import set_style"
   ]
  },
  {
   "cell_type": "code",
   "execution_count": 2,
   "id": "edca61c1",
   "metadata": {},
   "outputs": [],
   "source": [
    "set_style(\"whitegrid\")"
   ]
  },
  {
   "cell_type": "markdown",
   "id": "422260d8",
   "metadata": {},
   "source": [
    "## Load apple data"
   ]
  },
  {
   "cell_type": "code",
   "execution_count": 3,
   "id": "1d0f90a8",
   "metadata": {
    "scrolled": false
   },
   "outputs": [
    {
     "data": {
      "text/plain": [
       "'/Users/ziyuan/Library/CloudStorage/OneDrive-WashingtonUniversityinSt.Louis/Machine_Learning/Erdos_Bootcamp/Project/modeling/modeling'"
      ]
     },
     "execution_count": 3,
     "metadata": {},
     "output_type": "execute_result"
    }
   ],
   "source": [
    "pwd"
   ]
  },
  {
   "cell_type": "code",
   "execution_count": 4,
   "id": "1844be90",
   "metadata": {},
   "outputs": [],
   "source": [
    "apple_raw=pd.read_csv('../../Dataset/AAPL.csv')"
   ]
  },
  {
   "cell_type": "code",
   "execution_count": 5,
   "id": "49e0951f",
   "metadata": {},
   "outputs": [],
   "source": [
    "apple_raw[\"Date\"] = pd.to_datetime(apple_raw[\"Date\"])"
   ]
  },
  {
   "cell_type": "code",
   "execution_count": 6,
   "id": "6b674966",
   "metadata": {},
   "outputs": [],
   "source": [
    "apple_raw=apple_raw.drop(columns=['Open','High','Low','Adj Close','Volume'])"
   ]
  },
  {
   "cell_type": "code",
   "execution_count": 7,
   "id": "161d8e9c",
   "metadata": {},
   "outputs": [
    {
     "data": {
      "text/html": [
       "<div>\n",
       "<style scoped>\n",
       "    .dataframe tbody tr th:only-of-type {\n",
       "        vertical-align: middle;\n",
       "    }\n",
       "\n",
       "    .dataframe tbody tr th {\n",
       "        vertical-align: top;\n",
       "    }\n",
       "\n",
       "    .dataframe thead th {\n",
       "        text-align: right;\n",
       "    }\n",
       "</style>\n",
       "<table border=\"1\" class=\"dataframe\">\n",
       "  <thead>\n",
       "    <tr style=\"text-align: right;\">\n",
       "      <th></th>\n",
       "      <th>Date</th>\n",
       "      <th>Close</th>\n",
       "    </tr>\n",
       "  </thead>\n",
       "  <tbody>\n",
       "    <tr>\n",
       "      <th>0</th>\n",
       "      <td>2010-11-26</td>\n",
       "      <td>11.250000</td>\n",
       "    </tr>\n",
       "    <tr>\n",
       "      <th>1</th>\n",
       "      <td>2010-11-29</td>\n",
       "      <td>11.316786</td>\n",
       "    </tr>\n",
       "    <tr>\n",
       "      <th>2</th>\n",
       "      <td>2010-11-30</td>\n",
       "      <td>11.112500</td>\n",
       "    </tr>\n",
       "    <tr>\n",
       "      <th>3</th>\n",
       "      <td>2010-12-01</td>\n",
       "      <td>11.300000</td>\n",
       "    </tr>\n",
       "    <tr>\n",
       "      <th>4</th>\n",
       "      <td>2010-12-02</td>\n",
       "      <td>11.362500</td>\n",
       "    </tr>\n",
       "    <tr>\n",
       "      <th>...</th>\n",
       "      <td>...</td>\n",
       "      <td>...</td>\n",
       "    </tr>\n",
       "    <tr>\n",
       "      <th>3016</th>\n",
       "      <td>2022-11-18</td>\n",
       "      <td>151.289993</td>\n",
       "    </tr>\n",
       "    <tr>\n",
       "      <th>3017</th>\n",
       "      <td>2022-11-21</td>\n",
       "      <td>148.009995</td>\n",
       "    </tr>\n",
       "    <tr>\n",
       "      <th>3018</th>\n",
       "      <td>2022-11-22</td>\n",
       "      <td>150.179993</td>\n",
       "    </tr>\n",
       "    <tr>\n",
       "      <th>3019</th>\n",
       "      <td>2022-11-23</td>\n",
       "      <td>151.070007</td>\n",
       "    </tr>\n",
       "    <tr>\n",
       "      <th>3020</th>\n",
       "      <td>2022-11-25</td>\n",
       "      <td>148.110001</td>\n",
       "    </tr>\n",
       "  </tbody>\n",
       "</table>\n",
       "<p>3021 rows × 2 columns</p>\n",
       "</div>"
      ],
      "text/plain": [
       "           Date       Close\n",
       "0    2010-11-26   11.250000\n",
       "1    2010-11-29   11.316786\n",
       "2    2010-11-30   11.112500\n",
       "3    2010-12-01   11.300000\n",
       "4    2010-12-02   11.362500\n",
       "...         ...         ...\n",
       "3016 2022-11-18  151.289993\n",
       "3017 2022-11-21  148.009995\n",
       "3018 2022-11-22  150.179993\n",
       "3019 2022-11-23  151.070007\n",
       "3020 2022-11-25  148.110001\n",
       "\n",
       "[3021 rows x 2 columns]"
      ]
     },
     "execution_count": 7,
     "metadata": {},
     "output_type": "execute_result"
    }
   ],
   "source": [
    "apple_raw"
   ]
  },
  {
   "cell_type": "code",
   "execution_count": null,
   "id": "be614886",
   "metadata": {},
   "outputs": [],
   "source": []
  },
  {
   "cell_type": "markdown",
   "id": "db016e15",
   "metadata": {},
   "source": [
    "## Financial factors"
   ]
  },
  {
   "cell_type": "code",
   "execution_count": 8,
   "id": "40567719",
   "metadata": {},
   "outputs": [
    {
     "data": {
      "text/html": [
       "<div>\n",
       "<style scoped>\n",
       "    .dataframe tbody tr th:only-of-type {\n",
       "        vertical-align: middle;\n",
       "    }\n",
       "\n",
       "    .dataframe tbody tr th {\n",
       "        vertical-align: top;\n",
       "    }\n",
       "\n",
       "    .dataframe thead th {\n",
       "        text-align: right;\n",
       "    }\n",
       "</style>\n",
       "<table border=\"1\" class=\"dataframe\">\n",
       "  <thead>\n",
       "    <tr style=\"text-align: right;\">\n",
       "      <th></th>\n",
       "      <th>Date</th>\n",
       "      <th>Gross_Profit</th>\n",
       "    </tr>\n",
       "  </thead>\n",
       "  <tbody>\n",
       "    <tr>\n",
       "      <th>0</th>\n",
       "      <td>9/30/22</td>\n",
       "      <td>38095</td>\n",
       "    </tr>\n",
       "    <tr>\n",
       "      <th>1</th>\n",
       "      <td>6/30/22</td>\n",
       "      <td>35885</td>\n",
       "    </tr>\n",
       "    <tr>\n",
       "      <th>2</th>\n",
       "      <td>3/31/22</td>\n",
       "      <td>42559</td>\n",
       "    </tr>\n",
       "  </tbody>\n",
       "</table>\n",
       "</div>"
      ],
      "text/plain": [
       "      Date  Gross_Profit\n",
       "0  9/30/22         38095\n",
       "1  6/30/22         35885\n",
       "2  3/31/22         42559"
      ]
     },
     "execution_count": 8,
     "metadata": {},
     "output_type": "execute_result"
    }
   ],
   "source": [
    "gross_profit_raw=pd.read_csv('../../Dataset/Financial_Factor/Gross_Profit.csv')\n",
    "gross_profit_raw.head(3)"
   ]
  },
  {
   "cell_type": "code",
   "execution_count": 9,
   "id": "aaf56886",
   "metadata": {
    "scrolled": true
   },
   "outputs": [],
   "source": [
    "gross_profit_raw[\"Date\"] = pd.to_datetime(gross_profit_raw[\"Date\"])"
   ]
  },
  {
   "cell_type": "code",
   "execution_count": 10,
   "id": "9de4409a",
   "metadata": {
    "scrolled": true
   },
   "outputs": [],
   "source": [
    "gross_profit_raw=gross_profit_raw.sort_values(by=['Date'])"
   ]
  },
  {
   "cell_type": "code",
   "execution_count": 11,
   "id": "4503b909",
   "metadata": {
    "scrolled": true
   },
   "outputs": [
    {
     "data": {
      "text/html": [
       "<div>\n",
       "<style scoped>\n",
       "    .dataframe tbody tr th:only-of-type {\n",
       "        vertical-align: middle;\n",
       "    }\n",
       "\n",
       "    .dataframe tbody tr th {\n",
       "        vertical-align: top;\n",
       "    }\n",
       "\n",
       "    .dataframe thead th {\n",
       "        text-align: right;\n",
       "    }\n",
       "</style>\n",
       "<table border=\"1\" class=\"dataframe\">\n",
       "  <thead>\n",
       "    <tr style=\"text-align: right;\">\n",
       "      <th></th>\n",
       "      <th>Date</th>\n",
       "      <th>Gross_Profit</th>\n",
       "    </tr>\n",
       "  </thead>\n",
       "  <tbody>\n",
       "    <tr>\n",
       "      <th>54</th>\n",
       "      <td>2009-03-31</td>\n",
       "      <td>3627</td>\n",
       "    </tr>\n",
       "    <tr>\n",
       "      <th>53</th>\n",
       "      <td>2009-06-30</td>\n",
       "      <td>3983</td>\n",
       "    </tr>\n",
       "    <tr>\n",
       "      <th>52</th>\n",
       "      <td>2009-09-30</td>\n",
       "      <td>5105</td>\n",
       "    </tr>\n",
       "  </tbody>\n",
       "</table>\n",
       "</div>"
      ],
      "text/plain": [
       "         Date  Gross_Profit\n",
       "54 2009-03-31          3627\n",
       "53 2009-06-30          3983\n",
       "52 2009-09-30          5105"
      ]
     },
     "execution_count": 11,
     "metadata": {},
     "output_type": "execute_result"
    }
   ],
   "source": [
    "gross_profit_raw.head(3)"
   ]
  },
  {
   "cell_type": "code",
   "execution_count": null,
   "id": "44c264b4",
   "metadata": {},
   "outputs": [],
   "source": []
  },
  {
   "cell_type": "code",
   "execution_count": null,
   "id": "2b02830c",
   "metadata": {},
   "outputs": [],
   "source": []
  },
  {
   "cell_type": "code",
   "execution_count": 12,
   "id": "1e279f0a",
   "metadata": {},
   "outputs": [
    {
     "data": {
      "text/html": [
       "<div>\n",
       "<style scoped>\n",
       "    .dataframe tbody tr th:only-of-type {\n",
       "        vertical-align: middle;\n",
       "    }\n",
       "\n",
       "    .dataframe tbody tr th {\n",
       "        vertical-align: top;\n",
       "    }\n",
       "\n",
       "    .dataframe thead th {\n",
       "        text-align: right;\n",
       "    }\n",
       "</style>\n",
       "<table border=\"1\" class=\"dataframe\">\n",
       "  <thead>\n",
       "    <tr style=\"text-align: right;\">\n",
       "      <th></th>\n",
       "      <th>Date</th>\n",
       "      <th>TTM Net Income</th>\n",
       "      <th>Shareholder's Equity</th>\n",
       "      <th>ROE</th>\n",
       "      <th>Unnamed: 4</th>\n",
       "      <th>Net_Inc</th>\n",
       "      <th>SH_equity</th>\n",
       "    </tr>\n",
       "  </thead>\n",
       "  <tbody>\n",
       "    <tr>\n",
       "      <th>0</th>\n",
       "      <td>9/30/22</td>\n",
       "      <td>$99.80B</td>\n",
       "      <td>$50.67B</td>\n",
       "      <td>1.61</td>\n",
       "      <td>NaN</td>\n",
       "      <td>99.80</td>\n",
       "      <td>50.67</td>\n",
       "    </tr>\n",
       "    <tr>\n",
       "      <th>1</th>\n",
       "      <td>6/30/22</td>\n",
       "      <td>$99.63B</td>\n",
       "      <td>$58.11B</td>\n",
       "      <td>1.53</td>\n",
       "      <td>NaN</td>\n",
       "      <td>99.63</td>\n",
       "      <td>58.11</td>\n",
       "    </tr>\n",
       "    <tr>\n",
       "      <th>2</th>\n",
       "      <td>3/31/22</td>\n",
       "      <td>$101.94B</td>\n",
       "      <td>$67.40B</td>\n",
       "      <td>1.53</td>\n",
       "      <td>NaN</td>\n",
       "      <td>101.94</td>\n",
       "      <td>67.40</td>\n",
       "    </tr>\n",
       "  </tbody>\n",
       "</table>\n",
       "</div>"
      ],
      "text/plain": [
       "      Date TTM Net Income Shareholder's Equity   ROE  Unnamed: 4  Net_Inc  \\\n",
       "0  9/30/22        $99.80B              $50.67B  1.61         NaN    99.80   \n",
       "1  6/30/22        $99.63B              $58.11B  1.53         NaN    99.63   \n",
       "2  3/31/22       $101.94B              $67.40B  1.53         NaN   101.94   \n",
       "\n",
       "   SH_equity  \n",
       "0      50.67  \n",
       "1      58.11  \n",
       "2      67.40  "
      ]
     },
     "execution_count": 12,
     "metadata": {},
     "output_type": "execute_result"
    }
   ],
   "source": [
    "roe_raw=pd.read_csv('../../Dataset/Financial_Factor/ROE.csv')\n",
    "roe_raw.head(3)"
   ]
  },
  {
   "cell_type": "code",
   "execution_count": 13,
   "id": "e7f35b20",
   "metadata": {
    "scrolled": true
   },
   "outputs": [],
   "source": [
    "roe_raw[\"Date\"] = pd.to_datetime(roe_raw[\"Date\"])"
   ]
  },
  {
   "cell_type": "code",
   "execution_count": 14,
   "id": "bf83ac37",
   "metadata": {
    "scrolled": true
   },
   "outputs": [],
   "source": [
    "roe_raw=roe_raw.sort_values(by=['Date'])"
   ]
  },
  {
   "cell_type": "code",
   "execution_count": 15,
   "id": "9954492d",
   "metadata": {
    "scrolled": true
   },
   "outputs": [
    {
     "data": {
      "text/html": [
       "<div>\n",
       "<style scoped>\n",
       "    .dataframe tbody tr th:only-of-type {\n",
       "        vertical-align: middle;\n",
       "    }\n",
       "\n",
       "    .dataframe tbody tr th {\n",
       "        vertical-align: top;\n",
       "    }\n",
       "\n",
       "    .dataframe thead th {\n",
       "        text-align: right;\n",
       "    }\n",
       "</style>\n",
       "<table border=\"1\" class=\"dataframe\">\n",
       "  <thead>\n",
       "    <tr style=\"text-align: right;\">\n",
       "      <th></th>\n",
       "      <th>Date</th>\n",
       "      <th>TTM Net Income</th>\n",
       "      <th>Shareholder's Equity</th>\n",
       "      <th>ROE</th>\n",
       "      <th>Unnamed: 4</th>\n",
       "      <th>Net_Inc</th>\n",
       "      <th>SH_equity</th>\n",
       "    </tr>\n",
       "  </thead>\n",
       "  <tbody>\n",
       "    <tr>\n",
       "      <th>51</th>\n",
       "      <td>2009-12-31</td>\n",
       "      <td>$9.36B</td>\n",
       "      <td>$35.77B</td>\n",
       "      <td>0.32</td>\n",
       "      <td>NaN</td>\n",
       "      <td>9.36</td>\n",
       "      <td>35.77</td>\n",
       "    </tr>\n",
       "    <tr>\n",
       "      <th>50</th>\n",
       "      <td>2010-03-31</td>\n",
       "      <td>$10.81B</td>\n",
       "      <td>$39.35B</td>\n",
       "      <td>0.33</td>\n",
       "      <td>NaN</td>\n",
       "      <td>10.81</td>\n",
       "      <td>39.35</td>\n",
       "    </tr>\n",
       "    <tr>\n",
       "      <th>49</th>\n",
       "      <td>2010-06-30</td>\n",
       "      <td>$12.24B</td>\n",
       "      <td>$43.11B</td>\n",
       "      <td>0.33</td>\n",
       "      <td>NaN</td>\n",
       "      <td>12.24</td>\n",
       "      <td>43.11</td>\n",
       "    </tr>\n",
       "  </tbody>\n",
       "</table>\n",
       "</div>"
      ],
      "text/plain": [
       "         Date TTM Net Income Shareholder's Equity   ROE  Unnamed: 4  Net_Inc  \\\n",
       "51 2009-12-31         $9.36B              $35.77B  0.32         NaN     9.36   \n",
       "50 2010-03-31        $10.81B              $39.35B  0.33         NaN    10.81   \n",
       "49 2010-06-30        $12.24B              $43.11B  0.33         NaN    12.24   \n",
       "\n",
       "    SH_equity  \n",
       "51      35.77  \n",
       "50      39.35  \n",
       "49      43.11  "
      ]
     },
     "execution_count": 15,
     "metadata": {},
     "output_type": "execute_result"
    }
   ],
   "source": [
    "roe_raw.head(3)"
   ]
  },
  {
   "cell_type": "code",
   "execution_count": 16,
   "id": "00a41096",
   "metadata": {},
   "outputs": [],
   "source": [
    "roe_raw = roe_raw.drop(columns=['TTM Net Income', 'Shareholder\\'s Equity', 'Unnamed: 4', 'Net_Inc', 'SH_equity'])"
   ]
  },
  {
   "cell_type": "code",
   "execution_count": 17,
   "id": "bde1f36a",
   "metadata": {
    "scrolled": true
   },
   "outputs": [
    {
     "data": {
      "text/html": [
       "<div>\n",
       "<style scoped>\n",
       "    .dataframe tbody tr th:only-of-type {\n",
       "        vertical-align: middle;\n",
       "    }\n",
       "\n",
       "    .dataframe tbody tr th {\n",
       "        vertical-align: top;\n",
       "    }\n",
       "\n",
       "    .dataframe thead th {\n",
       "        text-align: right;\n",
       "    }\n",
       "</style>\n",
       "<table border=\"1\" class=\"dataframe\">\n",
       "  <thead>\n",
       "    <tr style=\"text-align: right;\">\n",
       "      <th></th>\n",
       "      <th>Date</th>\n",
       "      <th>ROE</th>\n",
       "    </tr>\n",
       "  </thead>\n",
       "  <tbody>\n",
       "    <tr>\n",
       "      <th>51</th>\n",
       "      <td>2009-12-31</td>\n",
       "      <td>0.32</td>\n",
       "    </tr>\n",
       "    <tr>\n",
       "      <th>50</th>\n",
       "      <td>2010-03-31</td>\n",
       "      <td>0.33</td>\n",
       "    </tr>\n",
       "    <tr>\n",
       "      <th>49</th>\n",
       "      <td>2010-06-30</td>\n",
       "      <td>0.33</td>\n",
       "    </tr>\n",
       "  </tbody>\n",
       "</table>\n",
       "</div>"
      ],
      "text/plain": [
       "         Date   ROE\n",
       "51 2009-12-31  0.32\n",
       "50 2010-03-31  0.33\n",
       "49 2010-06-30  0.33"
      ]
     },
     "execution_count": 17,
     "metadata": {},
     "output_type": "execute_result"
    }
   ],
   "source": [
    "roe_raw.head(3)"
   ]
  },
  {
   "cell_type": "code",
   "execution_count": null,
   "id": "8650e23f",
   "metadata": {},
   "outputs": [],
   "source": []
  },
  {
   "cell_type": "code",
   "execution_count": null,
   "id": "916ebe9b",
   "metadata": {},
   "outputs": [],
   "source": []
  },
  {
   "cell_type": "code",
   "execution_count": 18,
   "id": "2642550f",
   "metadata": {},
   "outputs": [
    {
     "data": {
      "text/html": [
       "<div>\n",
       "<style scoped>\n",
       "    .dataframe tbody tr th:only-of-type {\n",
       "        vertical-align: middle;\n",
       "    }\n",
       "\n",
       "    .dataframe tbody tr th {\n",
       "        vertical-align: top;\n",
       "    }\n",
       "\n",
       "    .dataframe thead th {\n",
       "        text-align: right;\n",
       "    }\n",
       "</style>\n",
       "<table border=\"1\" class=\"dataframe\">\n",
       "  <thead>\n",
       "    <tr style=\"text-align: right;\">\n",
       "      <th></th>\n",
       "      <th>Date</th>\n",
       "      <th>PE_ratio</th>\n",
       "      <th>PS_ratio</th>\n",
       "      <th>Unnamed: 3</th>\n",
       "      <th>Unnamed: 4</th>\n",
       "      <th>Unnamed: 5</th>\n",
       "      <th>Unnamed: 6</th>\n",
       "      <th>Unnamed: 7</th>\n",
       "      <th>Unnamed: 8</th>\n",
       "    </tr>\n",
       "  </thead>\n",
       "  <tbody>\n",
       "    <tr>\n",
       "      <th>0</th>\n",
       "      <td>9/30/22</td>\n",
       "      <td>22.58</td>\n",
       "      <td>5.74</td>\n",
       "      <td>NaN</td>\n",
       "      <td>NaN</td>\n",
       "      <td>NaN</td>\n",
       "      <td>NaN</td>\n",
       "      <td>NaN</td>\n",
       "      <td>NaN</td>\n",
       "    </tr>\n",
       "    <tr>\n",
       "      <th>1</th>\n",
       "      <td>6/30/22</td>\n",
       "      <td>22.49</td>\n",
       "      <td>5.81</td>\n",
       "      <td>NaN</td>\n",
       "      <td>NaN</td>\n",
       "      <td>NaN</td>\n",
       "      <td>NaN</td>\n",
       "      <td>NaN</td>\n",
       "      <td>NaN</td>\n",
       "    </tr>\n",
       "    <tr>\n",
       "      <th>2</th>\n",
       "      <td>3/31/22</td>\n",
       "      <td>28.22</td>\n",
       "      <td>7.48</td>\n",
       "      <td>NaN</td>\n",
       "      <td>NaN</td>\n",
       "      <td>NaN</td>\n",
       "      <td>NaN</td>\n",
       "      <td>NaN</td>\n",
       "      <td>NaN</td>\n",
       "    </tr>\n",
       "  </tbody>\n",
       "</table>\n",
       "</div>"
      ],
      "text/plain": [
       "      Date  PE_ratio  PS_ratio  Unnamed: 3  Unnamed: 4  Unnamed: 5  \\\n",
       "0  9/30/22     22.58      5.74         NaN         NaN         NaN   \n",
       "1  6/30/22     22.49      5.81         NaN         NaN         NaN   \n",
       "2  3/31/22     28.22      7.48         NaN         NaN         NaN   \n",
       "\n",
       "   Unnamed: 6  Unnamed: 7  Unnamed: 8  \n",
       "0         NaN         NaN         NaN  \n",
       "1         NaN         NaN         NaN  \n",
       "2         NaN         NaN         NaN  "
      ]
     },
     "execution_count": 18,
     "metadata": {},
     "output_type": "execute_result"
    }
   ],
   "source": [
    "pe_ps_raw=pd.read_csv('../../Dataset/Financial_Factor/PE_PS.csv')\n",
    "pe_ps_raw.head(3)"
   ]
  },
  {
   "cell_type": "code",
   "execution_count": 19,
   "id": "da9efae6",
   "metadata": {},
   "outputs": [],
   "source": [
    "pe_ps_raw[\"Date\"] = pd.to_datetime(pe_ps_raw[\"Date\"])"
   ]
  },
  {
   "cell_type": "code",
   "execution_count": 20,
   "id": "cef57c87",
   "metadata": {},
   "outputs": [],
   "source": [
    "pe_ps_raw=pe_ps_raw.sort_values(by=['Date'])"
   ]
  },
  {
   "cell_type": "code",
   "execution_count": 21,
   "id": "5b2da98e",
   "metadata": {},
   "outputs": [],
   "source": [
    "pe_ps_raw = pe_ps_raw.drop(columns=['Unnamed: 3', 'Unnamed: 4', 'Unnamed: 5', \n",
    "                                    'Unnamed: 6', 'Unnamed: 7', 'Unnamed: 8'])"
   ]
  },
  {
   "cell_type": "code",
   "execution_count": 22,
   "id": "7c04799e",
   "metadata": {},
   "outputs": [
    {
     "data": {
      "text/html": [
       "<div>\n",
       "<style scoped>\n",
       "    .dataframe tbody tr th:only-of-type {\n",
       "        vertical-align: middle;\n",
       "    }\n",
       "\n",
       "    .dataframe tbody tr th {\n",
       "        vertical-align: top;\n",
       "    }\n",
       "\n",
       "    .dataframe thead th {\n",
       "        text-align: right;\n",
       "    }\n",
       "</style>\n",
       "<table border=\"1\" class=\"dataframe\">\n",
       "  <thead>\n",
       "    <tr style=\"text-align: right;\">\n",
       "      <th></th>\n",
       "      <th>Date</th>\n",
       "      <th>PE_ratio</th>\n",
       "      <th>PS_ratio</th>\n",
       "    </tr>\n",
       "  </thead>\n",
       "  <tbody>\n",
       "    <tr>\n",
       "      <th>51</th>\n",
       "      <td>2009-12-31</td>\n",
       "      <td>20.74</td>\n",
       "      <td>3.50</td>\n",
       "    </tr>\n",
       "    <tr>\n",
       "      <th>50</th>\n",
       "      <td>2010-03-31</td>\n",
       "      <td>19.70</td>\n",
       "      <td>3.59</td>\n",
       "    </tr>\n",
       "    <tr>\n",
       "      <th>49</th>\n",
       "      <td>2010-06-30</td>\n",
       "      <td>17.39</td>\n",
       "      <td>3.45</td>\n",
       "    </tr>\n",
       "  </tbody>\n",
       "</table>\n",
       "</div>"
      ],
      "text/plain": [
       "         Date  PE_ratio  PS_ratio\n",
       "51 2009-12-31     20.74      3.50\n",
       "50 2010-03-31     19.70      3.59\n",
       "49 2010-06-30     17.39      3.45"
      ]
     },
     "execution_count": 22,
     "metadata": {},
     "output_type": "execute_result"
    }
   ],
   "source": [
    "pe_ps_raw.head(3)"
   ]
  },
  {
   "cell_type": "code",
   "execution_count": null,
   "id": "d083795e",
   "metadata": {},
   "outputs": [],
   "source": []
  },
  {
   "cell_type": "markdown",
   "id": "9481d5a3",
   "metadata": {},
   "source": [
    "## Financial Factor Merge"
   ]
  },
  {
   "cell_type": "code",
   "execution_count": 23,
   "id": "7b6bc116",
   "metadata": {},
   "outputs": [
    {
     "name": "stdout",
     "output_type": "stream",
     "text": [
      "[Timestamp('2022-09-30 00:00:00'), Timestamp('2009-03-31 00:00:00')]\n",
      "[Timestamp('2022-09-30 00:00:00'), Timestamp('2009-12-31 00:00:00')]\n",
      "[Timestamp('2022-09-30 00:00:00'), Timestamp('2009-12-31 00:00:00')]\n"
     ]
    }
   ],
   "source": [
    "fin_fac_list = [gross_profit_raw, roe_raw, pe_ps_raw]\n",
    "\n",
    "for item in fin_fac_list:\n",
    "    print([item.Date[0],item.Date[len(item)-1]])"
   ]
  },
  {
   "cell_type": "code",
   "execution_count": null,
   "id": "402e6b0b",
   "metadata": {},
   "outputs": [],
   "source": []
  },
  {
   "cell_type": "code",
   "execution_count": 24,
   "id": "a93e8be7",
   "metadata": {},
   "outputs": [
    {
     "data": {
      "text/html": [
       "<div>\n",
       "<style scoped>\n",
       "    .dataframe tbody tr th:only-of-type {\n",
       "        vertical-align: middle;\n",
       "    }\n",
       "\n",
       "    .dataframe tbody tr th {\n",
       "        vertical-align: top;\n",
       "    }\n",
       "\n",
       "    .dataframe thead th {\n",
       "        text-align: right;\n",
       "    }\n",
       "</style>\n",
       "<table border=\"1\" class=\"dataframe\">\n",
       "  <thead>\n",
       "    <tr style=\"text-align: right;\">\n",
       "      <th></th>\n",
       "      <th>Date</th>\n",
       "      <th>Close</th>\n",
       "      <th>Gross_Profit</th>\n",
       "    </tr>\n",
       "  </thead>\n",
       "  <tbody>\n",
       "    <tr>\n",
       "      <th>0</th>\n",
       "      <td>2010-11-26</td>\n",
       "      <td>11.250000</td>\n",
       "      <td>7512</td>\n",
       "    </tr>\n",
       "    <tr>\n",
       "      <th>1</th>\n",
       "      <td>2010-11-29</td>\n",
       "      <td>11.316786</td>\n",
       "      <td>7512</td>\n",
       "    </tr>\n",
       "    <tr>\n",
       "      <th>2</th>\n",
       "      <td>2010-11-30</td>\n",
       "      <td>11.112500</td>\n",
       "      <td>7512</td>\n",
       "    </tr>\n",
       "    <tr>\n",
       "      <th>3</th>\n",
       "      <td>2010-12-01</td>\n",
       "      <td>11.300000</td>\n",
       "      <td>7512</td>\n",
       "    </tr>\n",
       "    <tr>\n",
       "      <th>4</th>\n",
       "      <td>2010-12-02</td>\n",
       "      <td>11.362500</td>\n",
       "      <td>7512</td>\n",
       "    </tr>\n",
       "    <tr>\n",
       "      <th>...</th>\n",
       "      <td>...</td>\n",
       "      <td>...</td>\n",
       "      <td>...</td>\n",
       "    </tr>\n",
       "    <tr>\n",
       "      <th>3016</th>\n",
       "      <td>2022-11-18</td>\n",
       "      <td>151.289993</td>\n",
       "      <td>38095</td>\n",
       "    </tr>\n",
       "    <tr>\n",
       "      <th>3017</th>\n",
       "      <td>2022-11-21</td>\n",
       "      <td>148.009995</td>\n",
       "      <td>38095</td>\n",
       "    </tr>\n",
       "    <tr>\n",
       "      <th>3018</th>\n",
       "      <td>2022-11-22</td>\n",
       "      <td>150.179993</td>\n",
       "      <td>38095</td>\n",
       "    </tr>\n",
       "    <tr>\n",
       "      <th>3019</th>\n",
       "      <td>2022-11-23</td>\n",
       "      <td>151.070007</td>\n",
       "      <td>38095</td>\n",
       "    </tr>\n",
       "    <tr>\n",
       "      <th>3020</th>\n",
       "      <td>2022-11-25</td>\n",
       "      <td>148.110001</td>\n",
       "      <td>38095</td>\n",
       "    </tr>\n",
       "  </tbody>\n",
       "</table>\n",
       "<p>3021 rows × 3 columns</p>\n",
       "</div>"
      ],
      "text/plain": [
       "           Date       Close  Gross_Profit\n",
       "0    2010-11-26   11.250000          7512\n",
       "1    2010-11-29   11.316786          7512\n",
       "2    2010-11-30   11.112500          7512\n",
       "3    2010-12-01   11.300000          7512\n",
       "4    2010-12-02   11.362500          7512\n",
       "...         ...         ...           ...\n",
       "3016 2022-11-18  151.289993         38095\n",
       "3017 2022-11-21  148.009995         38095\n",
       "3018 2022-11-22  150.179993         38095\n",
       "3019 2022-11-23  151.070007         38095\n",
       "3020 2022-11-25  148.110001         38095\n",
       "\n",
       "[3021 rows x 3 columns]"
      ]
     },
     "execution_count": 24,
     "metadata": {},
     "output_type": "execute_result"
    }
   ],
   "source": [
    "merge_test1 = pd.merge_asof(apple_raw, gross_profit_raw, on='Date')\n",
    "merge_test1"
   ]
  },
  {
   "cell_type": "code",
   "execution_count": null,
   "id": "42607009",
   "metadata": {},
   "outputs": [],
   "source": []
  },
  {
   "cell_type": "code",
   "execution_count": 25,
   "id": "00db2925",
   "metadata": {},
   "outputs": [
    {
     "data": {
      "text/html": [
       "<div>\n",
       "<style scoped>\n",
       "    .dataframe tbody tr th:only-of-type {\n",
       "        vertical-align: middle;\n",
       "    }\n",
       "\n",
       "    .dataframe tbody tr th {\n",
       "        vertical-align: top;\n",
       "    }\n",
       "\n",
       "    .dataframe thead th {\n",
       "        text-align: right;\n",
       "    }\n",
       "</style>\n",
       "<table border=\"1\" class=\"dataframe\">\n",
       "  <thead>\n",
       "    <tr style=\"text-align: right;\">\n",
       "      <th></th>\n",
       "      <th>Date</th>\n",
       "      <th>Close</th>\n",
       "      <th>Gross_Profit</th>\n",
       "      <th>ROE</th>\n",
       "    </tr>\n",
       "  </thead>\n",
       "  <tbody>\n",
       "    <tr>\n",
       "      <th>0</th>\n",
       "      <td>2010-11-26</td>\n",
       "      <td>11.250000</td>\n",
       "      <td>7512</td>\n",
       "      <td>0.34</td>\n",
       "    </tr>\n",
       "    <tr>\n",
       "      <th>1</th>\n",
       "      <td>2010-11-29</td>\n",
       "      <td>11.316786</td>\n",
       "      <td>7512</td>\n",
       "      <td>0.34</td>\n",
       "    </tr>\n",
       "    <tr>\n",
       "      <th>2</th>\n",
       "      <td>2010-11-30</td>\n",
       "      <td>11.112500</td>\n",
       "      <td>7512</td>\n",
       "      <td>0.34</td>\n",
       "    </tr>\n",
       "    <tr>\n",
       "      <th>3</th>\n",
       "      <td>2010-12-01</td>\n",
       "      <td>11.300000</td>\n",
       "      <td>7512</td>\n",
       "      <td>0.34</td>\n",
       "    </tr>\n",
       "    <tr>\n",
       "      <th>4</th>\n",
       "      <td>2010-12-02</td>\n",
       "      <td>11.362500</td>\n",
       "      <td>7512</td>\n",
       "      <td>0.34</td>\n",
       "    </tr>\n",
       "    <tr>\n",
       "      <th>...</th>\n",
       "      <td>...</td>\n",
       "      <td>...</td>\n",
       "      <td>...</td>\n",
       "      <td>...</td>\n",
       "    </tr>\n",
       "    <tr>\n",
       "      <th>3016</th>\n",
       "      <td>2022-11-18</td>\n",
       "      <td>151.289993</td>\n",
       "      <td>38095</td>\n",
       "      <td>1.61</td>\n",
       "    </tr>\n",
       "    <tr>\n",
       "      <th>3017</th>\n",
       "      <td>2022-11-21</td>\n",
       "      <td>148.009995</td>\n",
       "      <td>38095</td>\n",
       "      <td>1.61</td>\n",
       "    </tr>\n",
       "    <tr>\n",
       "      <th>3018</th>\n",
       "      <td>2022-11-22</td>\n",
       "      <td>150.179993</td>\n",
       "      <td>38095</td>\n",
       "      <td>1.61</td>\n",
       "    </tr>\n",
       "    <tr>\n",
       "      <th>3019</th>\n",
       "      <td>2022-11-23</td>\n",
       "      <td>151.070007</td>\n",
       "      <td>38095</td>\n",
       "      <td>1.61</td>\n",
       "    </tr>\n",
       "    <tr>\n",
       "      <th>3020</th>\n",
       "      <td>2022-11-25</td>\n",
       "      <td>148.110001</td>\n",
       "      <td>38095</td>\n",
       "      <td>1.61</td>\n",
       "    </tr>\n",
       "  </tbody>\n",
       "</table>\n",
       "<p>3021 rows × 4 columns</p>\n",
       "</div>"
      ],
      "text/plain": [
       "           Date       Close  Gross_Profit   ROE\n",
       "0    2010-11-26   11.250000          7512  0.34\n",
       "1    2010-11-29   11.316786          7512  0.34\n",
       "2    2010-11-30   11.112500          7512  0.34\n",
       "3    2010-12-01   11.300000          7512  0.34\n",
       "4    2010-12-02   11.362500          7512  0.34\n",
       "...         ...         ...           ...   ...\n",
       "3016 2022-11-18  151.289993         38095  1.61\n",
       "3017 2022-11-21  148.009995         38095  1.61\n",
       "3018 2022-11-22  150.179993         38095  1.61\n",
       "3019 2022-11-23  151.070007         38095  1.61\n",
       "3020 2022-11-25  148.110001         38095  1.61\n",
       "\n",
       "[3021 rows x 4 columns]"
      ]
     },
     "execution_count": 25,
     "metadata": {},
     "output_type": "execute_result"
    }
   ],
   "source": [
    "merge_test2 = pd.merge_asof(merge_test1, roe_raw, on='Date')\n",
    "merge_test2"
   ]
  },
  {
   "cell_type": "code",
   "execution_count": null,
   "id": "3ffcecbb",
   "metadata": {},
   "outputs": [],
   "source": []
  },
  {
   "cell_type": "code",
   "execution_count": 26,
   "id": "ee0be8c8",
   "metadata": {},
   "outputs": [
    {
     "data": {
      "text/html": [
       "<div>\n",
       "<style scoped>\n",
       "    .dataframe tbody tr th:only-of-type {\n",
       "        vertical-align: middle;\n",
       "    }\n",
       "\n",
       "    .dataframe tbody tr th {\n",
       "        vertical-align: top;\n",
       "    }\n",
       "\n",
       "    .dataframe thead th {\n",
       "        text-align: right;\n",
       "    }\n",
       "</style>\n",
       "<table border=\"1\" class=\"dataframe\">\n",
       "  <thead>\n",
       "    <tr style=\"text-align: right;\">\n",
       "      <th></th>\n",
       "      <th>Date</th>\n",
       "      <th>Close</th>\n",
       "      <th>Gross_Profit</th>\n",
       "      <th>ROE</th>\n",
       "      <th>PE_ratio</th>\n",
       "      <th>PS_ratio</th>\n",
       "    </tr>\n",
       "  </thead>\n",
       "  <tbody>\n",
       "    <tr>\n",
       "      <th>0</th>\n",
       "      <td>2010-11-26</td>\n",
       "      <td>11.250000</td>\n",
       "      <td>7512</td>\n",
       "      <td>0.34</td>\n",
       "      <td>15.96</td>\n",
       "      <td>3.43</td>\n",
       "    </tr>\n",
       "    <tr>\n",
       "      <th>1</th>\n",
       "      <td>2010-11-29</td>\n",
       "      <td>11.316786</td>\n",
       "      <td>7512</td>\n",
       "      <td>0.34</td>\n",
       "      <td>15.96</td>\n",
       "      <td>3.43</td>\n",
       "    </tr>\n",
       "    <tr>\n",
       "      <th>2</th>\n",
       "      <td>2010-11-30</td>\n",
       "      <td>11.112500</td>\n",
       "      <td>7512</td>\n",
       "      <td>0.34</td>\n",
       "      <td>15.96</td>\n",
       "      <td>3.43</td>\n",
       "    </tr>\n",
       "    <tr>\n",
       "      <th>3</th>\n",
       "      <td>2010-12-01</td>\n",
       "      <td>11.300000</td>\n",
       "      <td>7512</td>\n",
       "      <td>0.34</td>\n",
       "      <td>15.96</td>\n",
       "      <td>3.43</td>\n",
       "    </tr>\n",
       "    <tr>\n",
       "      <th>4</th>\n",
       "      <td>2010-12-02</td>\n",
       "      <td>11.362500</td>\n",
       "      <td>7512</td>\n",
       "      <td>0.34</td>\n",
       "      <td>15.96</td>\n",
       "      <td>3.43</td>\n",
       "    </tr>\n",
       "    <tr>\n",
       "      <th>...</th>\n",
       "      <td>...</td>\n",
       "      <td>...</td>\n",
       "      <td>...</td>\n",
       "      <td>...</td>\n",
       "      <td>...</td>\n",
       "      <td>...</td>\n",
       "    </tr>\n",
       "    <tr>\n",
       "      <th>3016</th>\n",
       "      <td>2022-11-18</td>\n",
       "      <td>151.289993</td>\n",
       "      <td>38095</td>\n",
       "      <td>1.61</td>\n",
       "      <td>22.58</td>\n",
       "      <td>5.74</td>\n",
       "    </tr>\n",
       "    <tr>\n",
       "      <th>3017</th>\n",
       "      <td>2022-11-21</td>\n",
       "      <td>148.009995</td>\n",
       "      <td>38095</td>\n",
       "      <td>1.61</td>\n",
       "      <td>22.58</td>\n",
       "      <td>5.74</td>\n",
       "    </tr>\n",
       "    <tr>\n",
       "      <th>3018</th>\n",
       "      <td>2022-11-22</td>\n",
       "      <td>150.179993</td>\n",
       "      <td>38095</td>\n",
       "      <td>1.61</td>\n",
       "      <td>22.58</td>\n",
       "      <td>5.74</td>\n",
       "    </tr>\n",
       "    <tr>\n",
       "      <th>3019</th>\n",
       "      <td>2022-11-23</td>\n",
       "      <td>151.070007</td>\n",
       "      <td>38095</td>\n",
       "      <td>1.61</td>\n",
       "      <td>22.58</td>\n",
       "      <td>5.74</td>\n",
       "    </tr>\n",
       "    <tr>\n",
       "      <th>3020</th>\n",
       "      <td>2022-11-25</td>\n",
       "      <td>148.110001</td>\n",
       "      <td>38095</td>\n",
       "      <td>1.61</td>\n",
       "      <td>22.58</td>\n",
       "      <td>5.74</td>\n",
       "    </tr>\n",
       "  </tbody>\n",
       "</table>\n",
       "<p>3021 rows × 6 columns</p>\n",
       "</div>"
      ],
      "text/plain": [
       "           Date       Close  Gross_Profit   ROE  PE_ratio  PS_ratio\n",
       "0    2010-11-26   11.250000          7512  0.34     15.96      3.43\n",
       "1    2010-11-29   11.316786          7512  0.34     15.96      3.43\n",
       "2    2010-11-30   11.112500          7512  0.34     15.96      3.43\n",
       "3    2010-12-01   11.300000          7512  0.34     15.96      3.43\n",
       "4    2010-12-02   11.362500          7512  0.34     15.96      3.43\n",
       "...         ...         ...           ...   ...       ...       ...\n",
       "3016 2022-11-18  151.289993         38095  1.61     22.58      5.74\n",
       "3017 2022-11-21  148.009995         38095  1.61     22.58      5.74\n",
       "3018 2022-11-22  150.179993         38095  1.61     22.58      5.74\n",
       "3019 2022-11-23  151.070007         38095  1.61     22.58      5.74\n",
       "3020 2022-11-25  148.110001         38095  1.61     22.58      5.74\n",
       "\n",
       "[3021 rows x 6 columns]"
      ]
     },
     "execution_count": 26,
     "metadata": {},
     "output_type": "execute_result"
    }
   ],
   "source": [
    "merge_test3 = pd.merge_asof(merge_test2, pe_ps_raw, on='Date')\n",
    "merge_test3"
   ]
  },
  {
   "cell_type": "code",
   "execution_count": null,
   "id": "3d50a95e",
   "metadata": {},
   "outputs": [],
   "source": []
  },
  {
   "cell_type": "code",
   "execution_count": 27,
   "id": "bd571183",
   "metadata": {
    "scrolled": true
   },
   "outputs": [],
   "source": [
    "merge_test3.to_csv('../../Dataset/merge_data_fin_factor.csv', index=False)"
   ]
  },
  {
   "cell_type": "code",
   "execution_count": null,
   "id": "12b4c31f",
   "metadata": {},
   "outputs": [],
   "source": []
  }
 ],
 "metadata": {
  "kernelspec": {
   "display_name": "Python 3 (ipykernel)",
   "language": "python",
   "name": "python3"
  },
  "language_info": {
   "codemirror_mode": {
    "name": "ipython",
    "version": 3
   },
   "file_extension": ".py",
   "mimetype": "text/x-python",
   "name": "python",
   "nbconvert_exporter": "python",
   "pygments_lexer": "ipython3",
   "version": "3.9.12"
  }
 },
 "nbformat": 4,
 "nbformat_minor": 5
}
