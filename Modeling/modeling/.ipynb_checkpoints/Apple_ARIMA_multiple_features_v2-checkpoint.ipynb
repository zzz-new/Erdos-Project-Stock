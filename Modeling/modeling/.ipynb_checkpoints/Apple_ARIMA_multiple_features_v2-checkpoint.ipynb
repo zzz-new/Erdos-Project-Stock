{
 "cells": [
  {
   "cell_type": "code",
   "execution_count": null,
   "id": "0df11a69",
   "metadata": {},
   "outputs": [],
   "source": [
    "'''\n",
    "v2. Predict Apple using ARIMA model\n",
    "  + Dynamic Regression with [tnote, tbill, Fed_rate, GDP, GDP_growth, CPI]\n",
    "\n",
    "'''"
   ]
  },
  {
   "cell_type": "code",
   "execution_count": null,
   "id": "92dae534",
   "metadata": {},
   "outputs": [],
   "source": []
  },
  {
   "cell_type": "code",
   "execution_count": 22,
   "id": "947ff421",
   "metadata": {},
   "outputs": [],
   "source": [
    "import pandas as pd\n",
    "import matplotlib.pyplot as plt\n",
    "import numpy as np\n",
    "import seaborn as sns\n",
    "from datetime import datetime, timedelta\n",
    "from seaborn import set_style"
   ]
  },
  {
   "cell_type": "code",
   "execution_count": 23,
   "id": "cdb69ce4",
   "metadata": {
    "scrolled": true
   },
   "outputs": [],
   "source": [
    "## Import SARIMAX from tsa.api\n",
    "from statsmodels.tsa.arima.model import ARIMA"
   ]
  },
  {
   "cell_type": "code",
   "execution_count": 43,
   "id": "1407a4bb",
   "metadata": {},
   "outputs": [],
   "source": [
    "from sklearn.metrics import mean_squared_error"
   ]
  },
  {
   "cell_type": "code",
   "execution_count": 24,
   "id": "edca61c1",
   "metadata": {},
   "outputs": [],
   "source": [
    "set_style(\"whitegrid\")"
   ]
  },
  {
   "cell_type": "code",
   "execution_count": null,
   "id": "78ed5226",
   "metadata": {},
   "outputs": [],
   "source": []
  },
  {
   "cell_type": "markdown",
   "id": "f034fc24",
   "metadata": {},
   "source": [
    "## Load data"
   ]
  },
  {
   "cell_type": "code",
   "execution_count": 4,
   "id": "1d0f90a8",
   "metadata": {
    "scrolled": true
   },
   "outputs": [
    {
     "data": {
      "text/plain": [
       "'/Users/ziyuan/Library/CloudStorage/OneDrive-WashingtonUniversityinSt.Louis/Machine_Learning/Erdos_Bootcamp/Project/modeling/modeling'"
      ]
     },
     "execution_count": 4,
     "metadata": {},
     "output_type": "execute_result"
    }
   ],
   "source": [
    "pwd"
   ]
  },
  {
   "cell_type": "code",
   "execution_count": 1,
   "id": "3789082b",
   "metadata": {},
   "outputs": [
    {
     "ename": "NameError",
     "evalue": "name 'pd' is not defined",
     "output_type": "error",
     "traceback": [
      "\u001b[0;31m---------------------------------------------------------------------------\u001b[0m",
      "\u001b[0;31mNameError\u001b[0m                                 Traceback (most recent call last)",
      "Input \u001b[0;32mIn [1]\u001b[0m, in \u001b[0;36m<cell line: 1>\u001b[0;34m()\u001b[0m\n\u001b[0;32m----> 1\u001b[0m apple_raw\u001b[38;5;241m=\u001b[39m\u001b[43mpd\u001b[49m\u001b[38;5;241m.\u001b[39mread_csv(\u001b[38;5;124m'\u001b[39m\u001b[38;5;124m../../Dataset/AAPL.csv\u001b[39m\u001b[38;5;124m'\u001b[39m)\n",
      "\u001b[0;31mNameError\u001b[0m: name 'pd' is not defined"
     ]
    }
   ],
   "source": [
    "apple_raw=pd.read_csv('../../Dataset/AAPL.csv')"
   ]
  },
  {
   "cell_type": "code",
   "execution_count": null,
   "id": "76c916a3",
   "metadata": {},
   "outputs": [],
   "source": [
    "apple_raw[\"Date\"] = pd.to_datetime(apple_raw[\"Date\"])"
   ]
  },
  {
   "cell_type": "code",
   "execution_count": 7,
   "id": "2702e230",
   "metadata": {},
   "outputs": [],
   "source": [
    "apple_raw=apple_raw.drop(columns=['Open','High','Low','Adj Close','Volume'])"
   ]
  },
  {
   "cell_type": "code",
   "execution_count": 8,
   "id": "d81ef104",
   "metadata": {},
   "outputs": [
    {
     "data": {
      "text/html": [
       "<div>\n",
       "<style scoped>\n",
       "    .dataframe tbody tr th:only-of-type {\n",
       "        vertical-align: middle;\n",
       "    }\n",
       "\n",
       "    .dataframe tbody tr th {\n",
       "        vertical-align: top;\n",
       "    }\n",
       "\n",
       "    .dataframe thead th {\n",
       "        text-align: right;\n",
       "    }\n",
       "</style>\n",
       "<table border=\"1\" class=\"dataframe\">\n",
       "  <thead>\n",
       "    <tr style=\"text-align: right;\">\n",
       "      <th></th>\n",
       "      <th>Date</th>\n",
       "      <th>Close</th>\n",
       "    </tr>\n",
       "  </thead>\n",
       "  <tbody>\n",
       "    <tr>\n",
       "      <th>0</th>\n",
       "      <td>2010-11-26</td>\n",
       "      <td>11.250000</td>\n",
       "    </tr>\n",
       "    <tr>\n",
       "      <th>1</th>\n",
       "      <td>2010-11-29</td>\n",
       "      <td>11.316786</td>\n",
       "    </tr>\n",
       "    <tr>\n",
       "      <th>2</th>\n",
       "      <td>2010-11-30</td>\n",
       "      <td>11.112500</td>\n",
       "    </tr>\n",
       "    <tr>\n",
       "      <th>3</th>\n",
       "      <td>2010-12-01</td>\n",
       "      <td>11.300000</td>\n",
       "    </tr>\n",
       "    <tr>\n",
       "      <th>4</th>\n",
       "      <td>2010-12-02</td>\n",
       "      <td>11.362500</td>\n",
       "    </tr>\n",
       "    <tr>\n",
       "      <th>...</th>\n",
       "      <td>...</td>\n",
       "      <td>...</td>\n",
       "    </tr>\n",
       "    <tr>\n",
       "      <th>3016</th>\n",
       "      <td>2022-11-18</td>\n",
       "      <td>151.289993</td>\n",
       "    </tr>\n",
       "    <tr>\n",
       "      <th>3017</th>\n",
       "      <td>2022-11-21</td>\n",
       "      <td>148.009995</td>\n",
       "    </tr>\n",
       "    <tr>\n",
       "      <th>3018</th>\n",
       "      <td>2022-11-22</td>\n",
       "      <td>150.179993</td>\n",
       "    </tr>\n",
       "    <tr>\n",
       "      <th>3019</th>\n",
       "      <td>2022-11-23</td>\n",
       "      <td>151.070007</td>\n",
       "    </tr>\n",
       "    <tr>\n",
       "      <th>3020</th>\n",
       "      <td>2022-11-25</td>\n",
       "      <td>148.110001</td>\n",
       "    </tr>\n",
       "  </tbody>\n",
       "</table>\n",
       "<p>3021 rows × 2 columns</p>\n",
       "</div>"
      ],
      "text/plain": [
       "           Date       Close\n",
       "0    2010-11-26   11.250000\n",
       "1    2010-11-29   11.316786\n",
       "2    2010-11-30   11.112500\n",
       "3    2010-12-01   11.300000\n",
       "4    2010-12-02   11.362500\n",
       "...         ...         ...\n",
       "3016 2022-11-18  151.289993\n",
       "3017 2022-11-21  148.009995\n",
       "3018 2022-11-22  150.179993\n",
       "3019 2022-11-23  151.070007\n",
       "3020 2022-11-25  148.110001\n",
       "\n",
       "[3021 rows x 2 columns]"
      ]
     },
     "execution_count": 8,
     "metadata": {},
     "output_type": "execute_result"
    }
   ],
   "source": [
    "apple_raw"
   ]
  },
  {
   "cell_type": "code",
   "execution_count": null,
   "id": "d64a4378",
   "metadata": {},
   "outputs": [],
   "source": []
  },
  {
   "cell_type": "code",
   "execution_count": null,
   "id": "ff2e4551",
   "metadata": {},
   "outputs": [],
   "source": []
  },
  {
   "cell_type": "code",
   "execution_count": 9,
   "id": "1550b239",
   "metadata": {},
   "outputs": [
    {
     "data": {
      "text/html": [
       "<div>\n",
       "<style scoped>\n",
       "    .dataframe tbody tr th:only-of-type {\n",
       "        vertical-align: middle;\n",
       "    }\n",
       "\n",
       "    .dataframe tbody tr th {\n",
       "        vertical-align: top;\n",
       "    }\n",
       "\n",
       "    .dataframe thead th {\n",
       "        text-align: right;\n",
       "    }\n",
       "</style>\n",
       "<table border=\"1\" class=\"dataframe\">\n",
       "  <thead>\n",
       "    <tr style=\"text-align: right;\">\n",
       "      <th></th>\n",
       "      <th>Unnamed: 0</th>\n",
       "      <th>Date</th>\n",
       "      <th>Close</th>\n",
       "      <th>Gross_Profit</th>\n",
       "      <th>ROE</th>\n",
       "    </tr>\n",
       "  </thead>\n",
       "  <tbody>\n",
       "    <tr>\n",
       "      <th>0</th>\n",
       "      <td>0</td>\n",
       "      <td>2010-11-26</td>\n",
       "      <td>11.250000</td>\n",
       "      <td>7512</td>\n",
       "      <td>0.34</td>\n",
       "    </tr>\n",
       "    <tr>\n",
       "      <th>1</th>\n",
       "      <td>1</td>\n",
       "      <td>2010-11-29</td>\n",
       "      <td>11.316786</td>\n",
       "      <td>7512</td>\n",
       "      <td>0.34</td>\n",
       "    </tr>\n",
       "    <tr>\n",
       "      <th>2</th>\n",
       "      <td>2</td>\n",
       "      <td>2010-11-30</td>\n",
       "      <td>11.112500</td>\n",
       "      <td>7512</td>\n",
       "      <td>0.34</td>\n",
       "    </tr>\n",
       "  </tbody>\n",
       "</table>\n",
       "</div>"
      ],
      "text/plain": [
       "   Unnamed: 0        Date      Close  Gross_Profit   ROE\n",
       "0           0  2010-11-26  11.250000          7512  0.34\n",
       "1           1  2010-11-29  11.316786          7512  0.34\n",
       "2           2  2010-11-30  11.112500          7512  0.34"
      ]
     },
     "execution_count": 9,
     "metadata": {},
     "output_type": "execute_result"
    }
   ],
   "source": [
    "apple_fin=pd.read_csv('../../Dataset/apple_fin.csv')\n",
    "apple_fin.head(3)"
   ]
  },
  {
   "cell_type": "code",
   "execution_count": 10,
   "id": "85ef8f49",
   "metadata": {},
   "outputs": [],
   "source": [
    "apple_fin=apple_fin.drop(columns=['Unnamed: 0'])"
   ]
  },
  {
   "cell_type": "code",
   "execution_count": 29,
   "id": "4591ed4f",
   "metadata": {},
   "outputs": [],
   "source": [
    "apple_fin[\"Date\"] = pd.to_datetime(apple_fin[\"Date\"])"
   ]
  },
  {
   "cell_type": "code",
   "execution_count": 11,
   "id": "047cac38",
   "metadata": {},
   "outputs": [
    {
     "data": {
      "text/plain": [
       "3021"
      ]
     },
     "execution_count": 11,
     "metadata": {},
     "output_type": "execute_result"
    }
   ],
   "source": [
    "len(apple_fin)"
   ]
  },
  {
   "cell_type": "code",
   "execution_count": null,
   "id": "d35e8c02",
   "metadata": {},
   "outputs": [],
   "source": []
  },
  {
   "cell_type": "code",
   "execution_count": null,
   "id": "4b054b1c",
   "metadata": {},
   "outputs": [],
   "source": []
  },
  {
   "cell_type": "code",
   "execution_count": 26,
   "id": "d81b57cb",
   "metadata": {
    "scrolled": false
   },
   "outputs": [
    {
     "data": {
      "text/plain": [
       "<Figure size 1440x576 with 0 Axes>"
      ]
     },
     "metadata": {},
     "output_type": "display_data"
    },
    {
     "data": {
      "image/png": "[encoded data removed]",
      "text/plain": [
       "<Figure size 1440x576 with 1 Axes>"
      ]
     },
     "metadata": {},
     "output_type": "display_data"
    }
   ],
   "source": [
    "plt.figure(figsize=(20,8))\n",
    "\n",
    "'''\n",
    "plt.plot(apple_raw.Date[-200:], \n",
    "         apple_raw.Close[-200:],\n",
    "         'b',\n",
    "         label=\"Training Data\")\n",
    "\n",
    "plt.xlabel(\"Date\", fontsize=18)\n",
    "plt.ylabel(\"Closing Price\", fontsize=18)\n",
    "plt.title('APPLE', fontsize=18)\n",
    "\n",
    "plt.xticks(fontsize=14)\n",
    "plt.yticks(fontsize=14)\n",
    "\n",
    "plt.legend(fontsize=14, loc=2)\n",
    "\n",
    "plt.show()\n",
    "'''\n",
    "\n",
    "plt.figure(figsize=(20,8))\n",
    "\n",
    "plt.plot(apple_raw.Date[:], \n",
    "         apple_raw.Close[:],\n",
    "         'b',\n",
    "         label=\"Training Data\")\n",
    "\n",
    "plt.xlabel(\"Date\", fontsize=18)\n",
    "plt.ylabel(\"Closing Price\", fontsize=18)\n",
    "plt.title('APPLE', fontsize=18)\n",
    "\n",
    "plt.xticks(fontsize=14)\n",
    "plt.yticks(fontsize=14)\n",
    "\n",
    "plt.legend(fontsize=14, loc=2)\n",
    "\n",
    "plt.show()"
   ]
  },
  {
   "cell_type": "code",
   "execution_count": null,
   "id": "33b09dc3",
   "metadata": {},
   "outputs": [],
   "source": []
  },
  {
   "cell_type": "code",
   "execution_count": null,
   "id": "f3e8f1c9",
   "metadata": {},
   "outputs": [],
   "source": []
  },
  {
   "cell_type": "code",
   "execution_count": 37,
   "id": "aa3156f6",
   "metadata": {},
   "outputs": [],
   "source": [
    "apple_fin_train = apple_fin.iloc[:-500].copy()\n",
    "apple_fin_test = apple_fin.iloc[-500:].copy()"
   ]
  },
  {
   "cell_type": "code",
   "execution_count": 38,
   "id": "414ea0e9",
   "metadata": {},
   "outputs": [
    {
     "data": {
      "text/plain": [
       "[(2521, 4), (500, 4), 3021]"
      ]
     },
     "execution_count": 38,
     "metadata": {},
     "output_type": "execute_result"
    }
   ],
   "source": [
    "[apple_fin_train.shape, apple_fin_test.shape, len(apple_fin)]"
   ]
  },
  {
   "cell_type": "code",
   "execution_count": 39,
   "id": "36cfb6f5",
   "metadata": {
    "scrolled": false
   },
   "outputs": [
    {
     "data": {
      "text/html": [
       "<div>\n",
       "<style scoped>\n",
       "    .dataframe tbody tr th:only-of-type {\n",
       "        vertical-align: middle;\n",
       "    }\n",
       "\n",
       "    .dataframe tbody tr th {\n",
       "        vertical-align: top;\n",
       "    }\n",
       "\n",
       "    .dataframe thead th {\n",
       "        text-align: right;\n",
       "    }\n",
       "</style>\n",
       "<table border=\"1\" class=\"dataframe\">\n",
       "  <thead>\n",
       "    <tr style=\"text-align: right;\">\n",
       "      <th></th>\n",
       "      <th>Date</th>\n",
       "      <th>Close</th>\n",
       "      <th>Gross_Profit</th>\n",
       "      <th>ROE</th>\n",
       "    </tr>\n",
       "  </thead>\n",
       "  <tbody>\n",
       "    <tr>\n",
       "      <th>0</th>\n",
       "      <td>2010-11-26</td>\n",
       "      <td>11.250000</td>\n",
       "      <td>7512</td>\n",
       "      <td>0.34</td>\n",
       "    </tr>\n",
       "    <tr>\n",
       "      <th>1</th>\n",
       "      <td>2010-11-29</td>\n",
       "      <td>11.316786</td>\n",
       "      <td>7512</td>\n",
       "      <td>0.34</td>\n",
       "    </tr>\n",
       "    <tr>\n",
       "      <th>2</th>\n",
       "      <td>2010-11-30</td>\n",
       "      <td>11.112500</td>\n",
       "      <td>7512</td>\n",
       "      <td>0.34</td>\n",
       "    </tr>\n",
       "    <tr>\n",
       "      <th>3</th>\n",
       "      <td>2010-12-01</td>\n",
       "      <td>11.300000</td>\n",
       "      <td>7512</td>\n",
       "      <td>0.34</td>\n",
       "    </tr>\n",
       "    <tr>\n",
       "      <th>4</th>\n",
       "      <td>2010-12-02</td>\n",
       "      <td>11.362500</td>\n",
       "      <td>7512</td>\n",
       "      <td>0.34</td>\n",
       "    </tr>\n",
       "    <tr>\n",
       "      <th>...</th>\n",
       "      <td>...</td>\n",
       "      <td>...</td>\n",
       "      <td>...</td>\n",
       "      <td>...</td>\n",
       "    </tr>\n",
       "    <tr>\n",
       "      <th>2516</th>\n",
       "      <td>2020-11-24</td>\n",
       "      <td>115.169998</td>\n",
       "      <td>24689</td>\n",
       "      <td>0.75</td>\n",
       "    </tr>\n",
       "    <tr>\n",
       "      <th>2517</th>\n",
       "      <td>2020-11-25</td>\n",
       "      <td>116.029999</td>\n",
       "      <td>24689</td>\n",
       "      <td>0.75</td>\n",
       "    </tr>\n",
       "    <tr>\n",
       "      <th>2518</th>\n",
       "      <td>2020-11-27</td>\n",
       "      <td>116.589996</td>\n",
       "      <td>24689</td>\n",
       "      <td>0.75</td>\n",
       "    </tr>\n",
       "    <tr>\n",
       "      <th>2519</th>\n",
       "      <td>2020-11-30</td>\n",
       "      <td>119.050003</td>\n",
       "      <td>24689</td>\n",
       "      <td>0.75</td>\n",
       "    </tr>\n",
       "    <tr>\n",
       "      <th>2520</th>\n",
       "      <td>2020-12-01</td>\n",
       "      <td>122.720001</td>\n",
       "      <td>24689</td>\n",
       "      <td>0.75</td>\n",
       "    </tr>\n",
       "  </tbody>\n",
       "</table>\n",
       "<p>2521 rows × 4 columns</p>\n",
       "</div>"
      ],
      "text/plain": [
       "           Date       Close  Gross_Profit   ROE\n",
       "0    2010-11-26   11.250000          7512  0.34\n",
       "1    2010-11-29   11.316786          7512  0.34\n",
       "2    2010-11-30   11.112500          7512  0.34\n",
       "3    2010-12-01   11.300000          7512  0.34\n",
       "4    2010-12-02   11.362500          7512  0.34\n",
       "...         ...         ...           ...   ...\n",
       "2516 2020-11-24  115.169998         24689  0.75\n",
       "2517 2020-11-25  116.029999         24689  0.75\n",
       "2518 2020-11-27  116.589996         24689  0.75\n",
       "2519 2020-11-30  119.050003         24689  0.75\n",
       "2520 2020-12-01  122.720001         24689  0.75\n",
       "\n",
       "[2521 rows x 4 columns]"
      ]
     },
     "execution_count": 39,
     "metadata": {},
     "output_type": "execute_result"
    }
   ],
   "source": [
    "apple_fin_train"
   ]
  },
  {
   "cell_type": "code",
   "execution_count": 40,
   "id": "4a60205e",
   "metadata": {
    "scrolled": true
   },
   "outputs": [
    {
     "name": "stderr",
     "output_type": "stream",
     "text": [
      "/Users/ziyuan/opt/anaconda3/lib/python3.9/site-packages/statsmodels/tsa/statespace/sarimax.py:966: UserWarning: Non-stationary starting autoregressive parameters found. Using zeros as starting parameters.\n",
      "  warn('Non-stationary starting autoregressive parameters'\n",
      "/Users/ziyuan/opt/anaconda3/lib/python3.9/site-packages/statsmodels/tsa/statespace/sarimax.py:978: UserWarning: Non-invertible starting MA parameters found. Using zeros as starting parameters.\n",
      "  warn('Non-invertible starting MA parameters found.'\n",
      "/Users/ziyuan/opt/anaconda3/lib/python3.9/site-packages/statsmodels/base/model.py:566: ConvergenceWarning: Maximum Likelihood optimization failed to converge. Check mle_retvals\n",
      "  warnings.warn(\"Maximum Likelihood optimization failed to \"\n"
     ]
    }
   ],
   "source": [
    "# ARIMA Model(order=(p,d,q))\n",
    "apple_fin_arima_dyn = ARIMA(endog=apple_fin_train.Close.values, \n",
    "                              exog= apple_fin_train[['ROE']], \n",
    "                              order=(5,1,3)).fit()"
   ]
  },
  {
   "cell_type": "code",
   "execution_count": 41,
   "id": "7949d210",
   "metadata": {},
   "outputs": [
    {
     "name": "stdout",
     "output_type": "stream",
     "text": [
      "                               SARIMAX Results                                \n",
      "==============================================================================\n",
      "Dep. Variable:                      y   No. Observations:                 2521\n",
      "Model:                 ARIMA(5, 1, 3)   Log Likelihood               -3331.093\n",
      "Date:                Sun, 27 Nov 2022   AIC                           6682.187\n",
      "Time:                        23:54:46   BIC                           6740.507\n",
      "Sample:                             0   HQIC                          6703.351\n",
      "                               - 2521                                         \n",
      "Covariance Type:                  opg                                         \n",
      "==============================================================================\n",
      "                 coef    std err          z      P>|z|      [0.025      0.975]\n",
      "------------------------------------------------------------------------------\n",
      "ROE            6.4187      7.341      0.874      0.382      -7.969      20.807\n",
      "ar.L1         -0.9256      0.011    -83.875      0.000      -0.947      -0.904\n",
      "ar.L2          0.8335      0.015     56.718      0.000       0.805       0.862\n",
      "ar.L3          1.0531      0.010    101.394      0.000       1.033       1.073\n",
      "ar.L4          0.0519      0.010      4.976      0.000       0.031       0.072\n",
      "ar.L5         -0.0133      0.007     -2.020      0.043      -0.026      -0.000\n",
      "ma.L1          0.8480      0.009     91.757      0.000       0.830       0.866\n",
      "ma.L2         -0.8865      0.013    -65.918      0.000      -0.913      -0.860\n",
      "ma.L3         -0.9604      0.008   -121.437      0.000      -0.976      -0.945\n",
      "sigma2         0.8224      0.007    118.622      0.000       0.809       0.836\n",
      "===================================================================================\n",
      "Ljung-Box (L1) (Q):                   0.05   Jarque-Bera (JB):             81461.26\n",
      "Prob(Q):                              0.82   Prob(JB):                         0.00\n",
      "Heteroskedasticity (H):              23.51   Skew:                            -0.33\n",
      "Prob(H) (two-sided):                  0.00   Kurtosis:                        30.85\n",
      "===================================================================================\n",
      "\n",
      "Warnings:\n",
      "[1] Covariance matrix calculated using the outer product of gradients (complex-step).\n"
     ]
    }
   ],
   "source": [
    "print(apple_fin_arima_dyn.summary())"
   ]
  },
  {
   "cell_type": "code",
   "execution_count": 42,
   "id": "61c642e8",
   "metadata": {
    "scrolled": false
   },
   "outputs": [
    {
     "data": {
      "image/png": "[encoded data removed]",
      "text/plain": [
       "<Figure size 1440x720 with 1 Axes>"
      ]
     },
     "metadata": {},
     "output_type": "display_data"
    }
   ],
   "source": [
    "plt.figure(figsize=(20,10))\n",
    "\n",
    "\n",
    "plt.plot(apple_fin_train.Date[-1000:], \n",
    "         apple_fin_train.Close[-1000:],\n",
    "         'b',\n",
    "         label=\"Training Data\")\n",
    "\n",
    "\n",
    "## We can get the fitted values with fittedvalues\n",
    "plt.plot(apple_fin_train.Date[-1000:], \n",
    "         apple_fin_arima_dyn.fittedvalues[-1000:],\n",
    "         'g--',\n",
    "         label=\"ARIMA(5,1,3) Fit\")\n",
    "\n",
    "\n",
    "plt.plot(apple_fin_test.Date[:],\n",
    "         apple_fin_test.Close[:],\n",
    "         'r',\n",
    "         label=\"Test Data\")\n",
    "\n",
    "\n",
    "## We can get the forecast with .forecast(h)\n",
    "plt.plot(apple_fin_test.Date[:], \n",
    "         apple_fin_arima_dyn.forecast(len(apple_fin_test), \n",
    "                                      exog = apple_fin_test[['ROE']][:]),\n",
    "         'r--o',\n",
    "         label=\"ARIMA(5,1,3) Forecast\")\n",
    "\n",
    "\n",
    "plt.xlabel(\"Date\", fontsize=18)\n",
    "plt.ylabel(\"Apple\", fontsize=18)\n",
    "\n",
    "plt.xticks(fontsize=14)\n",
    "plt.yticks(fontsize=14)\n",
    "\n",
    "plt.legend(fontsize=14, loc=2)\n",
    "\n",
    "plt.show()"
   ]
  },
  {
   "cell_type": "code",
   "execution_count": 18,
   "id": "bf82c344",
   "metadata": {
    "scrolled": true
   },
   "outputs": [
    {
     "data": {
      "text/plain": [
       "2521    123.171484\n",
       "2522    122.360469\n",
       "2523    123.413185\n",
       "2524    122.396128\n",
       "2525    123.335548\n",
       "           ...    \n",
       "3016    139.484350\n",
       "3017    139.526355\n",
       "3018    139.525048\n",
       "3019    139.570675\n",
       "3020    139.571616\n",
       "Name: predicted_mean, Length: 500, dtype: float64"
      ]
     },
     "execution_count": 18,
     "metadata": {},
     "output_type": "execute_result"
    }
   ],
   "source": [
    "apple_fin_arima_dyn.forecast(len(apple_fin_test), \n",
    "                                        exog = apple_fin_test[['ROE']][:])"
   ]
  },
  {
   "cell_type": "code",
   "execution_count": 19,
   "id": "a86e78f9",
   "metadata": {},
   "outputs": [
    {
     "data": {
      "text/plain": [
       "500      20.040182\n",
       "501      20.103891\n",
       "502      20.328632\n",
       "503      21.077183\n",
       "504      20.850011\n",
       "           ...    \n",
       "2516    114.995201\n",
       "2517    114.402854\n",
       "2518    116.310764\n",
       "2519    116.641108\n",
       "2520    118.493145\n",
       "Name: predicted_mean, Length: 2021, dtype: float64"
      ]
     },
     "execution_count": 19,
     "metadata": {},
     "output_type": "execute_result"
    }
   ],
   "source": [
    "apple_fin_arima_dyn.predict(len(apple_fin_test))"
   ]
  },
  {
   "cell_type": "code",
   "execution_count": null,
   "id": "3ae9dc2f",
   "metadata": {},
   "outputs": [],
   "source": []
  },
  {
   "cell_type": "code",
   "execution_count": 20,
   "id": "22f9ff83",
   "metadata": {},
   "outputs": [],
   "source": [
    "def mean_absolute_percentage_error(y_true, y_pred): \n",
    "    y_true, y_pred = np.array(y_true), np.array(y_pred)\n",
    "    return np.mean(np.abs((y_true - y_pred) / y_true))"
   ]
  },
  {
   "cell_type": "code",
   "execution_count": 21,
   "id": "7d959e8d",
   "metadata": {},
   "outputs": [
    {
     "data": {
      "text/plain": [
       "0.8653951417915416"
      ]
     },
     "execution_count": 21,
     "metadata": {},
     "output_type": "execute_result"
    }
   ],
   "source": [
    "mape_fin_arima_dyn = mean_absolute_percentage_error(apple_fin_train[['Close']].values, \n",
    "                                                      apple_fin_arima_dyn.predict(len(apple_fin_test))\n",
    "                                                     )\n",
    "mape_fin_arima_dyn"
   ]
  },
  {
   "cell_type": "code",
   "execution_count": 52,
   "id": "1b907bcb",
   "metadata": {
    "scrolled": true
   },
   "outputs": [
    {
     "data": {
      "text/plain": [
       "0         2.182350\n",
       "1        11.249999\n",
       "2        11.308786\n",
       "3        11.138654\n",
       "4        11.270297\n",
       "           ...    \n",
       "2516    114.995201\n",
       "2517    114.402854\n",
       "2518    116.310764\n",
       "2519    116.641108\n",
       "2520    118.493145\n",
       "Name: predicted_mean, Length: 2521, dtype: float64"
      ]
     },
     "execution_count": 52,
     "metadata": {},
     "output_type": "execute_result"
    }
   ],
   "source": [
    "apple_fin_arima_dyn.predict()"
   ]
  },
  {
   "cell_type": "code",
   "execution_count": 54,
   "id": "4cd9edea",
   "metadata": {
    "scrolled": true
   },
   "outputs": [
    {
     "data": {
      "text/plain": [
       "0.855474674878454"
      ]
     },
     "execution_count": 54,
     "metadata": {},
     "output_type": "execute_result"
    }
   ],
   "source": [
    "mse = mean_squared_error(apple_fin_train[['Close']].values, \n",
    "                         apple_fin_arima_dyn.predict())\n",
    "mse"
   ]
  },
  {
   "cell_type": "code",
   "execution_count": 55,
   "id": "700a4909",
   "metadata": {
    "scrolled": true
   },
   "outputs": [
    {
     "data": {
      "text/plain": [
       "411.8770532541852"
      ]
     },
     "execution_count": 55,
     "metadata": {},
     "output_type": "execute_result"
    }
   ],
   "source": [
    "mse = mean_squared_error(apple_fin_test[['Close']].values, \n",
    "                         apple_fin_arima_dyn.forecast(len(apple_fin_test), \n",
    "                                                      exog = apple_fin_test[['ROE']][:]))\n",
    "mse"
   ]
  },
  {
   "cell_type": "code",
   "execution_count": null,
   "id": "b62393e9",
   "metadata": {},
   "outputs": [],
   "source": []
  }
 ],
 "metadata": {
  "kernelspec": {
   "display_name": "Python 3 (ipykernel)",
   "language": "python",
   "name": "python3"
  },
  "language_info": {
   "codemirror_mode": {
    "name": "ipython",
    "version": 3
   },
   "file_extension": ".py",
   "mimetype": "text/x-python",
   "name": "python",
   "nbconvert_exporter": "python",
   "pygments_lexer": "ipython3",
   "version": "3.9.12"
  }
 },
 "nbformat": 4,
 "nbformat_minor": 5
}
