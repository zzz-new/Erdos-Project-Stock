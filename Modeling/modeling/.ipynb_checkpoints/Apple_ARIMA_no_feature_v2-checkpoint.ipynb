{
 "cells": [
  {
   "cell_type": "markdown",
   "id": "439946b2",
   "metadata": {},
   "source": [
    "# This notebook forecasts Apple price using basic ARIMA model"
   ]
  },
  {
   "cell_type": "code",
   "execution_count": 31,
   "id": "947ff421",
   "metadata": {},
   "outputs": [],
   "source": [
    "import pandas as pd\n",
    "import matplotlib.pyplot as plt\n",
    "import numpy as np\n",
    "\n",
    "from datetime import datetime, timedelta\n",
    "from seaborn import set_style\n",
    "from sklearn.metrics import mean_squared_error\n",
    "from sklearn.metrics import mean_absolute_percentage_error"
   ]
  },
  {
   "cell_type": "code",
   "execution_count": 4,
   "id": "cdb69ce4",
   "metadata": {
    "scrolled": true
   },
   "outputs": [],
   "source": [
    "## Import SARIMAX from tsa.api\n",
    "from statsmodels.tsa.arima.model import ARIMA"
   ]
  },
  {
   "cell_type": "code",
   "execution_count": 5,
   "id": "edca61c1",
   "metadata": {},
   "outputs": [],
   "source": [
    "set_style(\"whitegrid\")"
   ]
  },
  {
   "cell_type": "markdown",
   "id": "29732730",
   "metadata": {},
   "source": [
    "## Load"
   ]
  },
  {
   "cell_type": "code",
   "execution_count": 6,
   "id": "1d0f90a8",
   "metadata": {
    "scrolled": false
   },
   "outputs": [
    {
     "data": {
      "text/plain": [
       "'/Users/ziyuan/Library/CloudStorage/OneDrive-WashingtonUniversityinSt.Louis/Machine_Learning/Erdos_Bootcamp/Project/modeling/modeling'"
      ]
     },
     "execution_count": 6,
     "metadata": {},
     "output_type": "execute_result"
    }
   ],
   "source": [
    "pwd"
   ]
  },
  {
   "cell_type": "code",
   "execution_count": 7,
   "id": "4d86f2f3",
   "metadata": {
    "scrolled": true
   },
   "outputs": [],
   "source": [
    "apple_all_factor=pd.read_csv('../../Dataset/merge_data_all_factor.csv')\n",
    "apple_all_factor[\"Date\"] = pd.to_datetime(apple_all_factor[\"Date\"])"
   ]
  },
  {
   "cell_type": "code",
   "execution_count": 8,
   "id": "e9bd03b8",
   "metadata": {},
   "outputs": [
    {
     "data": {
      "text/html": [
       "<div>\n",
       "<style scoped>\n",
       "    .dataframe tbody tr th:only-of-type {\n",
       "        vertical-align: middle;\n",
       "    }\n",
       "\n",
       "    .dataframe tbody tr th {\n",
       "        vertical-align: top;\n",
       "    }\n",
       "\n",
       "    .dataframe thead th {\n",
       "        text-align: right;\n",
       "    }\n",
       "</style>\n",
       "<table border=\"1\" class=\"dataframe\">\n",
       "  <thead>\n",
       "    <tr style=\"text-align: right;\">\n",
       "      <th></th>\n",
       "      <th>Date</th>\n",
       "      <th>Close</th>\n",
       "      <th>Volume</th>\n",
       "      <th>Dow_Jones</th>\n",
       "      <th>SP500</th>\n",
       "      <th>Gross_Profit</th>\n",
       "      <th>ROE</th>\n",
       "      <th>PE_ratio</th>\n",
       "      <th>PS_ratio</th>\n",
       "      <th>tnote</th>\n",
       "      <th>tbill</th>\n",
       "      <th>Fed_rate</th>\n",
       "      <th>GDP</th>\n",
       "      <th>GDP_growth</th>\n",
       "      <th>CPI</th>\n",
       "    </tr>\n",
       "  </thead>\n",
       "  <tbody>\n",
       "    <tr>\n",
       "      <th>0</th>\n",
       "      <td>2012-11-12</td>\n",
       "      <td>19.386786</td>\n",
       "      <td>515802000</td>\n",
       "      <td>12815.08</td>\n",
       "      <td>1380.03</td>\n",
       "      <td>14401</td>\n",
       "      <td>0.4</td>\n",
       "      <td>12.93</td>\n",
       "      <td>3.45</td>\n",
       "      <td>1.61</td>\n",
       "      <td>0.18</td>\n",
       "      <td>0.16</td>\n",
       "      <td>16420.386</td>\n",
       "      <td>2.280688</td>\n",
       "      <td>231.249</td>\n",
       "    </tr>\n",
       "    <tr>\n",
       "      <th>1</th>\n",
       "      <td>2012-11-13</td>\n",
       "      <td>19.389286</td>\n",
       "      <td>532949200</td>\n",
       "      <td>12756.18</td>\n",
       "      <td>1374.53</td>\n",
       "      <td>14401</td>\n",
       "      <td>0.4</td>\n",
       "      <td>12.93</td>\n",
       "      <td>3.45</td>\n",
       "      <td>1.59</td>\n",
       "      <td>0.18</td>\n",
       "      <td>0.16</td>\n",
       "      <td>16420.386</td>\n",
       "      <td>2.280688</td>\n",
       "      <td>231.249</td>\n",
       "    </tr>\n",
       "    <tr>\n",
       "      <th>2</th>\n",
       "      <td>2012-11-14</td>\n",
       "      <td>19.174286</td>\n",
       "      <td>477170400</td>\n",
       "      <td>12570.95</td>\n",
       "      <td>1355.49</td>\n",
       "      <td>14401</td>\n",
       "      <td>0.4</td>\n",
       "      <td>12.93</td>\n",
       "      <td>3.45</td>\n",
       "      <td>1.59</td>\n",
       "      <td>0.18</td>\n",
       "      <td>0.16</td>\n",
       "      <td>16420.386</td>\n",
       "      <td>2.280688</td>\n",
       "      <td>231.249</td>\n",
       "    </tr>\n",
       "  </tbody>\n",
       "</table>\n",
       "</div>"
      ],
      "text/plain": [
       "        Date      Close     Volume  Dow_Jones    SP500  Gross_Profit  ROE  \\\n",
       "0 2012-11-12  19.386786  515802000   12815.08  1380.03         14401  0.4   \n",
       "1 2012-11-13  19.389286  532949200   12756.18  1374.53         14401  0.4   \n",
       "2 2012-11-14  19.174286  477170400   12570.95  1355.49         14401  0.4   \n",
       "\n",
       "   PE_ratio  PS_ratio  tnote  tbill  Fed_rate        GDP  GDP_growth      CPI  \n",
       "0     12.93      3.45   1.61   0.18      0.16  16420.386    2.280688  231.249  \n",
       "1     12.93      3.45   1.59   0.18      0.16  16420.386    2.280688  231.249  \n",
       "2     12.93      3.45   1.59   0.18      0.16  16420.386    2.280688  231.249  "
      ]
     },
     "execution_count": 8,
     "metadata": {},
     "output_type": "execute_result"
    }
   ],
   "source": [
    "apple_all_factor.head(3)"
   ]
  },
  {
   "cell_type": "code",
   "execution_count": null,
   "id": "a79edff8",
   "metadata": {},
   "outputs": [],
   "source": []
  },
  {
   "cell_type": "markdown",
   "id": "b792c3fe",
   "metadata": {},
   "source": [
    "## Train Test Split"
   ]
  },
  {
   "cell_type": "code",
   "execution_count": 9,
   "id": "685c5c00",
   "metadata": {},
   "outputs": [],
   "source": [
    "ratio=0.75\n",
    "num_of_train=int(ratio*len(apple_all_factor))"
   ]
  },
  {
   "cell_type": "code",
   "execution_count": 10,
   "id": "a69b9884",
   "metadata": {
    "scrolled": true
   },
   "outputs": [
    {
     "data": {
      "text/plain": [
       "[1896, 2528]"
      ]
     },
     "execution_count": 10,
     "metadata": {},
     "output_type": "execute_result"
    }
   ],
   "source": [
    "[num_of_train, len(apple_all_factor)]"
   ]
  },
  {
   "cell_type": "code",
   "execution_count": 11,
   "id": "d81b57cb",
   "metadata": {
    "scrolled": false
   },
   "outputs": [
    {
     "data": {
      "image/png": "[encoded data removed]",
      "text/plain": [
       "<Figure size 1440x576 with 1 Axes>"
      ]
     },
     "metadata": {},
     "output_type": "display_data"
    }
   ],
   "source": [
    "plt.figure(figsize=(20,8))\n",
    "\n",
    "\n",
    "plt.plot(apple_all_factor.Date[num_of_train:], \n",
    "         apple_all_factor.Close[num_of_train:],\n",
    "         'b',\n",
    "         label=\"Training Data\")\n",
    "\n",
    "plt.xlabel(\"Date\", fontsize=18)\n",
    "plt.ylabel(\"Closing Price\", fontsize=18)\n",
    "plt.title('APPLE', fontsize=18)\n",
    "\n",
    "plt.xticks(fontsize=14)\n",
    "plt.yticks(fontsize=14)\n",
    "\n",
    "plt.legend(fontsize=14, loc=2)\n",
    "\n",
    "plt.show()"
   ]
  },
  {
   "cell_type": "code",
   "execution_count": 12,
   "id": "aa3156f6",
   "metadata": {},
   "outputs": [],
   "source": [
    "apple_train = apple_all_factor.iloc[:num_of_train].copy()\n",
    "apple_test = apple_all_factor.iloc[num_of_train:].copy()"
   ]
  },
  {
   "cell_type": "code",
   "execution_count": 13,
   "id": "414ea0e9",
   "metadata": {},
   "outputs": [
    {
     "data": {
      "text/plain": [
       "[(1896, 15), (632, 15), 2528]"
      ]
     },
     "execution_count": 13,
     "metadata": {},
     "output_type": "execute_result"
    }
   ],
   "source": [
    "[apple_train.shape,apple_test.shape, len(apple_all_factor)]"
   ]
  },
  {
   "cell_type": "code",
   "execution_count": 14,
   "id": "3e8a4a55",
   "metadata": {
    "scrolled": true
   },
   "outputs": [
    {
     "data": {
      "text/html": [
       "<div>\n",
       "<style scoped>\n",
       "    .dataframe tbody tr th:only-of-type {\n",
       "        vertical-align: middle;\n",
       "    }\n",
       "\n",
       "    .dataframe tbody tr th {\n",
       "        vertical-align: top;\n",
       "    }\n",
       "\n",
       "    .dataframe thead th {\n",
       "        text-align: right;\n",
       "    }\n",
       "</style>\n",
       "<table border=\"1\" class=\"dataframe\">\n",
       "  <thead>\n",
       "    <tr style=\"text-align: right;\">\n",
       "      <th></th>\n",
       "      <th>Date</th>\n",
       "      <th>Close</th>\n",
       "      <th>Volume</th>\n",
       "      <th>Dow_Jones</th>\n",
       "      <th>SP500</th>\n",
       "      <th>Gross_Profit</th>\n",
       "      <th>ROE</th>\n",
       "      <th>PE_ratio</th>\n",
       "      <th>PS_ratio</th>\n",
       "      <th>tnote</th>\n",
       "      <th>tbill</th>\n",
       "      <th>Fed_rate</th>\n",
       "      <th>GDP</th>\n",
       "      <th>GDP_growth</th>\n",
       "      <th>CPI</th>\n",
       "    </tr>\n",
       "  </thead>\n",
       "  <tbody>\n",
       "    <tr>\n",
       "      <th>0</th>\n",
       "      <td>2012-11-12</td>\n",
       "      <td>19.386786</td>\n",
       "      <td>515802000</td>\n",
       "      <td>12815.08</td>\n",
       "      <td>1380.03</td>\n",
       "      <td>14401</td>\n",
       "      <td>0.40</td>\n",
       "      <td>12.93</td>\n",
       "      <td>3.45</td>\n",
       "      <td>1.61</td>\n",
       "      <td>0.18</td>\n",
       "      <td>0.16</td>\n",
       "      <td>16420.386</td>\n",
       "      <td>2.280688</td>\n",
       "      <td>231.249</td>\n",
       "    </tr>\n",
       "    <tr>\n",
       "      <th>1</th>\n",
       "      <td>2012-11-13</td>\n",
       "      <td>19.389286</td>\n",
       "      <td>532949200</td>\n",
       "      <td>12756.18</td>\n",
       "      <td>1374.53</td>\n",
       "      <td>14401</td>\n",
       "      <td>0.40</td>\n",
       "      <td>12.93</td>\n",
       "      <td>3.45</td>\n",
       "      <td>1.59</td>\n",
       "      <td>0.18</td>\n",
       "      <td>0.16</td>\n",
       "      <td>16420.386</td>\n",
       "      <td>2.280688</td>\n",
       "      <td>231.249</td>\n",
       "    </tr>\n",
       "    <tr>\n",
       "      <th>2</th>\n",
       "      <td>2012-11-14</td>\n",
       "      <td>19.174286</td>\n",
       "      <td>477170400</td>\n",
       "      <td>12570.95</td>\n",
       "      <td>1355.49</td>\n",
       "      <td>14401</td>\n",
       "      <td>0.40</td>\n",
       "      <td>12.93</td>\n",
       "      <td>3.45</td>\n",
       "      <td>1.59</td>\n",
       "      <td>0.18</td>\n",
       "      <td>0.16</td>\n",
       "      <td>16420.386</td>\n",
       "      <td>2.280688</td>\n",
       "      <td>231.249</td>\n",
       "    </tr>\n",
       "    <tr>\n",
       "      <th>3</th>\n",
       "      <td>2012-11-15</td>\n",
       "      <td>18.772142</td>\n",
       "      <td>789910800</td>\n",
       "      <td>12542.38</td>\n",
       "      <td>1353.33</td>\n",
       "      <td>14401</td>\n",
       "      <td>0.40</td>\n",
       "      <td>12.93</td>\n",
       "      <td>3.45</td>\n",
       "      <td>1.58</td>\n",
       "      <td>0.17</td>\n",
       "      <td>0.16</td>\n",
       "      <td>16420.386</td>\n",
       "      <td>2.280688</td>\n",
       "      <td>231.249</td>\n",
       "    </tr>\n",
       "    <tr>\n",
       "      <th>4</th>\n",
       "      <td>2012-11-16</td>\n",
       "      <td>18.845715</td>\n",
       "      <td>1266893600</td>\n",
       "      <td>12588.31</td>\n",
       "      <td>1359.88</td>\n",
       "      <td>14401</td>\n",
       "      <td>0.40</td>\n",
       "      <td>12.93</td>\n",
       "      <td>3.45</td>\n",
       "      <td>1.58</td>\n",
       "      <td>0.16</td>\n",
       "      <td>0.16</td>\n",
       "      <td>16420.386</td>\n",
       "      <td>2.280688</td>\n",
       "      <td>231.249</td>\n",
       "    </tr>\n",
       "    <tr>\n",
       "      <th>...</th>\n",
       "      <td>...</td>\n",
       "      <td>...</td>\n",
       "      <td>...</td>\n",
       "      <td>...</td>\n",
       "      <td>...</td>\n",
       "      <td>...</td>\n",
       "      <td>...</td>\n",
       "      <td>...</td>\n",
       "      <td>...</td>\n",
       "      <td>...</td>\n",
       "      <td>...</td>\n",
       "      <td>...</td>\n",
       "      <td>...</td>\n",
       "      <td>...</td>\n",
       "      <td>...</td>\n",
       "    </tr>\n",
       "    <tr>\n",
       "      <th>1891</th>\n",
       "      <td>2020-05-19</td>\n",
       "      <td>78.285004</td>\n",
       "      <td>101729600</td>\n",
       "      <td>24206.86</td>\n",
       "      <td>2922.94</td>\n",
       "      <td>22370</td>\n",
       "      <td>0.64</td>\n",
       "      <td>19.59</td>\n",
       "      <td>4.21</td>\n",
       "      <td>0.70</td>\n",
       "      <td>0.16</td>\n",
       "      <td>0.05</td>\n",
       "      <td>19636.731</td>\n",
       "      <td>-3.404590</td>\n",
       "      <td>255.944</td>\n",
       "    </tr>\n",
       "    <tr>\n",
       "      <th>1892</th>\n",
       "      <td>2020-05-20</td>\n",
       "      <td>79.807503</td>\n",
       "      <td>111504800</td>\n",
       "      <td>24575.90</td>\n",
       "      <td>2971.61</td>\n",
       "      <td>22370</td>\n",
       "      <td>0.64</td>\n",
       "      <td>19.59</td>\n",
       "      <td>4.21</td>\n",
       "      <td>0.68</td>\n",
       "      <td>0.16</td>\n",
       "      <td>0.05</td>\n",
       "      <td>19636.731</td>\n",
       "      <td>-3.404590</td>\n",
       "      <td>255.944</td>\n",
       "    </tr>\n",
       "    <tr>\n",
       "      <th>1893</th>\n",
       "      <td>2020-05-21</td>\n",
       "      <td>79.212502</td>\n",
       "      <td>102688800</td>\n",
       "      <td>24474.12</td>\n",
       "      <td>2948.51</td>\n",
       "      <td>22370</td>\n",
       "      <td>0.64</td>\n",
       "      <td>19.59</td>\n",
       "      <td>4.21</td>\n",
       "      <td>0.68</td>\n",
       "      <td>0.16</td>\n",
       "      <td>0.05</td>\n",
       "      <td>19636.731</td>\n",
       "      <td>-3.404590</td>\n",
       "      <td>255.944</td>\n",
       "    </tr>\n",
       "    <tr>\n",
       "      <th>1894</th>\n",
       "      <td>2020-05-22</td>\n",
       "      <td>79.722504</td>\n",
       "      <td>81803200</td>\n",
       "      <td>24465.16</td>\n",
       "      <td>2955.45</td>\n",
       "      <td>22370</td>\n",
       "      <td>0.64</td>\n",
       "      <td>19.59</td>\n",
       "      <td>4.21</td>\n",
       "      <td>0.66</td>\n",
       "      <td>0.17</td>\n",
       "      <td>0.05</td>\n",
       "      <td>19636.731</td>\n",
       "      <td>-3.404590</td>\n",
       "      <td>255.944</td>\n",
       "    </tr>\n",
       "    <tr>\n",
       "      <th>1895</th>\n",
       "      <td>2020-05-26</td>\n",
       "      <td>79.182503</td>\n",
       "      <td>125522000</td>\n",
       "      <td>24995.11</td>\n",
       "      <td>2991.77</td>\n",
       "      <td>22370</td>\n",
       "      <td>0.64</td>\n",
       "      <td>19.59</td>\n",
       "      <td>4.21</td>\n",
       "      <td>0.69</td>\n",
       "      <td>0.17</td>\n",
       "      <td>0.05</td>\n",
       "      <td>19636.731</td>\n",
       "      <td>-3.404590</td>\n",
       "      <td>255.944</td>\n",
       "    </tr>\n",
       "  </tbody>\n",
       "</table>\n",
       "<p>1896 rows × 15 columns</p>\n",
       "</div>"
      ],
      "text/plain": [
       "           Date      Close      Volume  Dow_Jones    SP500  Gross_Profit  \\\n",
       "0    2012-11-12  19.386786   515802000   12815.08  1380.03         14401   \n",
       "1    2012-11-13  19.389286   532949200   12756.18  1374.53         14401   \n",
       "2    2012-11-14  19.174286   477170400   12570.95  1355.49         14401   \n",
       "3    2012-11-15  18.772142   789910800   12542.38  1353.33         14401   \n",
       "4    2012-11-16  18.845715  1266893600   12588.31  1359.88         14401   \n",
       "...         ...        ...         ...        ...      ...           ...   \n",
       "1891 2020-05-19  78.285004   101729600   24206.86  2922.94         22370   \n",
       "1892 2020-05-20  79.807503   111504800   24575.90  2971.61         22370   \n",
       "1893 2020-05-21  79.212502   102688800   24474.12  2948.51         22370   \n",
       "1894 2020-05-22  79.722504    81803200   24465.16  2955.45         22370   \n",
       "1895 2020-05-26  79.182503   125522000   24995.11  2991.77         22370   \n",
       "\n",
       "       ROE  PE_ratio  PS_ratio  tnote  tbill  Fed_rate        GDP  GDP_growth  \\\n",
       "0     0.40     12.93      3.45   1.61   0.18      0.16  16420.386    2.280688   \n",
       "1     0.40     12.93      3.45   1.59   0.18      0.16  16420.386    2.280688   \n",
       "2     0.40     12.93      3.45   1.59   0.18      0.16  16420.386    2.280688   \n",
       "3     0.40     12.93      3.45   1.58   0.17      0.16  16420.386    2.280688   \n",
       "4     0.40     12.93      3.45   1.58   0.16      0.16  16420.386    2.280688   \n",
       "...    ...       ...       ...    ...    ...       ...        ...         ...   \n",
       "1891  0.64     19.59      4.21   0.70   0.16      0.05  19636.731   -3.404590   \n",
       "1892  0.64     19.59      4.21   0.68   0.16      0.05  19636.731   -3.404590   \n",
       "1893  0.64     19.59      4.21   0.68   0.16      0.05  19636.731   -3.404590   \n",
       "1894  0.64     19.59      4.21   0.66   0.17      0.05  19636.731   -3.404590   \n",
       "1895  0.64     19.59      4.21   0.69   0.17      0.05  19636.731   -3.404590   \n",
       "\n",
       "          CPI  \n",
       "0     231.249  \n",
       "1     231.249  \n",
       "2     231.249  \n",
       "3     231.249  \n",
       "4     231.249  \n",
       "...       ...  \n",
       "1891  255.944  \n",
       "1892  255.944  \n",
       "1893  255.944  \n",
       "1894  255.944  \n",
       "1895  255.944  \n",
       "\n",
       "[1896 rows x 15 columns]"
      ]
     },
     "execution_count": 14,
     "metadata": {},
     "output_type": "execute_result"
    }
   ],
   "source": [
    "apple_train"
   ]
  },
  {
   "cell_type": "code",
   "execution_count": 15,
   "id": "d9fb40f6",
   "metadata": {
    "scrolled": true
   },
   "outputs": [
    {
     "data": {
      "text/html": [
       "<div>\n",
       "<style scoped>\n",
       "    .dataframe tbody tr th:only-of-type {\n",
       "        vertical-align: middle;\n",
       "    }\n",
       "\n",
       "    .dataframe tbody tr th {\n",
       "        vertical-align: top;\n",
       "    }\n",
       "\n",
       "    .dataframe thead th {\n",
       "        text-align: right;\n",
       "    }\n",
       "</style>\n",
       "<table border=\"1\" class=\"dataframe\">\n",
       "  <thead>\n",
       "    <tr style=\"text-align: right;\">\n",
       "      <th></th>\n",
       "      <th>Date</th>\n",
       "      <th>Close</th>\n",
       "      <th>Volume</th>\n",
       "      <th>Dow_Jones</th>\n",
       "      <th>SP500</th>\n",
       "      <th>Gross_Profit</th>\n",
       "      <th>ROE</th>\n",
       "      <th>PE_ratio</th>\n",
       "      <th>PS_ratio</th>\n",
       "      <th>tnote</th>\n",
       "      <th>tbill</th>\n",
       "      <th>Fed_rate</th>\n",
       "      <th>GDP</th>\n",
       "      <th>GDP_growth</th>\n",
       "      <th>CPI</th>\n",
       "    </tr>\n",
       "  </thead>\n",
       "  <tbody>\n",
       "    <tr>\n",
       "      <th>1896</th>\n",
       "      <td>2020-05-27</td>\n",
       "      <td>79.527496</td>\n",
       "      <td>112945200</td>\n",
       "      <td>25548.27</td>\n",
       "      <td>3036.13</td>\n",
       "      <td>22370</td>\n",
       "      <td>0.64</td>\n",
       "      <td>19.59</td>\n",
       "      <td>4.21</td>\n",
       "      <td>0.68</td>\n",
       "      <td>0.18</td>\n",
       "      <td>0.05</td>\n",
       "      <td>19636.731</td>\n",
       "      <td>-3.40459</td>\n",
       "      <td>255.944</td>\n",
       "    </tr>\n",
       "    <tr>\n",
       "      <th>1897</th>\n",
       "      <td>2020-05-28</td>\n",
       "      <td>79.562500</td>\n",
       "      <td>133560800</td>\n",
       "      <td>25400.64</td>\n",
       "      <td>3029.73</td>\n",
       "      <td>22370</td>\n",
       "      <td>0.64</td>\n",
       "      <td>19.59</td>\n",
       "      <td>4.21</td>\n",
       "      <td>0.70</td>\n",
       "      <td>0.17</td>\n",
       "      <td>0.05</td>\n",
       "      <td>19636.731</td>\n",
       "      <td>-3.40459</td>\n",
       "      <td>255.944</td>\n",
       "    </tr>\n",
       "    <tr>\n",
       "      <th>1898</th>\n",
       "      <td>2020-05-29</td>\n",
       "      <td>79.485001</td>\n",
       "      <td>153532400</td>\n",
       "      <td>25383.11</td>\n",
       "      <td>3044.31</td>\n",
       "      <td>22370</td>\n",
       "      <td>0.64</td>\n",
       "      <td>19.59</td>\n",
       "      <td>4.21</td>\n",
       "      <td>0.65</td>\n",
       "      <td>0.17</td>\n",
       "      <td>0.05</td>\n",
       "      <td>19636.731</td>\n",
       "      <td>-3.40459</td>\n",
       "      <td>255.944</td>\n",
       "    </tr>\n",
       "    <tr>\n",
       "      <th>1899</th>\n",
       "      <td>2020-06-01</td>\n",
       "      <td>80.462502</td>\n",
       "      <td>80791200</td>\n",
       "      <td>25475.02</td>\n",
       "      <td>3055.73</td>\n",
       "      <td>22370</td>\n",
       "      <td>0.64</td>\n",
       "      <td>19.59</td>\n",
       "      <td>4.21</td>\n",
       "      <td>0.66</td>\n",
       "      <td>0.17</td>\n",
       "      <td>0.05</td>\n",
       "      <td>19636.731</td>\n",
       "      <td>-3.40459</td>\n",
       "      <td>257.217</td>\n",
       "    </tr>\n",
       "    <tr>\n",
       "      <th>1900</th>\n",
       "      <td>2020-06-02</td>\n",
       "      <td>80.834999</td>\n",
       "      <td>87642800</td>\n",
       "      <td>25742.65</td>\n",
       "      <td>3080.82</td>\n",
       "      <td>22370</td>\n",
       "      <td>0.64</td>\n",
       "      <td>19.59</td>\n",
       "      <td>4.21</td>\n",
       "      <td>0.68</td>\n",
       "      <td>0.17</td>\n",
       "      <td>0.06</td>\n",
       "      <td>19636.731</td>\n",
       "      <td>-3.40459</td>\n",
       "      <td>257.217</td>\n",
       "    </tr>\n",
       "    <tr>\n",
       "      <th>...</th>\n",
       "      <td>...</td>\n",
       "      <td>...</td>\n",
       "      <td>...</td>\n",
       "      <td>...</td>\n",
       "      <td>...</td>\n",
       "      <td>...</td>\n",
       "      <td>...</td>\n",
       "      <td>...</td>\n",
       "      <td>...</td>\n",
       "      <td>...</td>\n",
       "      <td>...</td>\n",
       "      <td>...</td>\n",
       "      <td>...</td>\n",
       "      <td>...</td>\n",
       "      <td>...</td>\n",
       "    </tr>\n",
       "    <tr>\n",
       "      <th>2523</th>\n",
       "      <td>2022-11-18</td>\n",
       "      <td>151.289993</td>\n",
       "      <td>74794600</td>\n",
       "      <td>33745.69</td>\n",
       "      <td>3992.93</td>\n",
       "      <td>38095</td>\n",
       "      <td>1.61</td>\n",
       "      <td>22.58</td>\n",
       "      <td>5.74</td>\n",
       "      <td>3.82</td>\n",
       "      <td>4.74</td>\n",
       "      <td>3.83</td>\n",
       "      <td>25663.289</td>\n",
       "      <td>1.80000</td>\n",
       "      <td>298.062</td>\n",
       "    </tr>\n",
       "    <tr>\n",
       "      <th>2524</th>\n",
       "      <td>2022-11-21</td>\n",
       "      <td>148.009995</td>\n",
       "      <td>58724100</td>\n",
       "      <td>33700.28</td>\n",
       "      <td>3992.93</td>\n",
       "      <td>38095</td>\n",
       "      <td>1.61</td>\n",
       "      <td>22.58</td>\n",
       "      <td>5.74</td>\n",
       "      <td>3.83</td>\n",
       "      <td>4.75</td>\n",
       "      <td>3.83</td>\n",
       "      <td>25663.289</td>\n",
       "      <td>1.80000</td>\n",
       "      <td>298.062</td>\n",
       "    </tr>\n",
       "    <tr>\n",
       "      <th>2525</th>\n",
       "      <td>2022-11-22</td>\n",
       "      <td>150.179993</td>\n",
       "      <td>51804100</td>\n",
       "      <td>34098.10</td>\n",
       "      <td>3992.93</td>\n",
       "      <td>38095</td>\n",
       "      <td>1.61</td>\n",
       "      <td>22.58</td>\n",
       "      <td>5.74</td>\n",
       "      <td>3.76</td>\n",
       "      <td>4.79</td>\n",
       "      <td>3.83</td>\n",
       "      <td>25663.289</td>\n",
       "      <td>1.80000</td>\n",
       "      <td>298.062</td>\n",
       "    </tr>\n",
       "    <tr>\n",
       "      <th>2526</th>\n",
       "      <td>2022-11-23</td>\n",
       "      <td>151.070007</td>\n",
       "      <td>58301400</td>\n",
       "      <td>34194.06</td>\n",
       "      <td>3992.93</td>\n",
       "      <td>38095</td>\n",
       "      <td>1.61</td>\n",
       "      <td>22.58</td>\n",
       "      <td>5.74</td>\n",
       "      <td>3.71</td>\n",
       "      <td>4.75</td>\n",
       "      <td>3.83</td>\n",
       "      <td>25663.289</td>\n",
       "      <td>1.80000</td>\n",
       "      <td>298.062</td>\n",
       "    </tr>\n",
       "    <tr>\n",
       "      <th>2527</th>\n",
       "      <td>2022-11-25</td>\n",
       "      <td>148.110001</td>\n",
       "      <td>35195900</td>\n",
       "      <td>34347.03</td>\n",
       "      <td>3992.93</td>\n",
       "      <td>38095</td>\n",
       "      <td>1.61</td>\n",
       "      <td>22.58</td>\n",
       "      <td>5.74</td>\n",
       "      <td>3.71</td>\n",
       "      <td>4.75</td>\n",
       "      <td>3.83</td>\n",
       "      <td>25663.289</td>\n",
       "      <td>1.80000</td>\n",
       "      <td>298.062</td>\n",
       "    </tr>\n",
       "  </tbody>\n",
       "</table>\n",
       "<p>632 rows × 15 columns</p>\n",
       "</div>"
      ],
      "text/plain": [
       "           Date       Close     Volume  Dow_Jones    SP500  Gross_Profit  \\\n",
       "1896 2020-05-27   79.527496  112945200   25548.27  3036.13         22370   \n",
       "1897 2020-05-28   79.562500  133560800   25400.64  3029.73         22370   \n",
       "1898 2020-05-29   79.485001  153532400   25383.11  3044.31         22370   \n",
       "1899 2020-06-01   80.462502   80791200   25475.02  3055.73         22370   \n",
       "1900 2020-06-02   80.834999   87642800   25742.65  3080.82         22370   \n",
       "...         ...         ...        ...        ...      ...           ...   \n",
       "2523 2022-11-18  151.289993   74794600   33745.69  3992.93         38095   \n",
       "2524 2022-11-21  148.009995   58724100   33700.28  3992.93         38095   \n",
       "2525 2022-11-22  150.179993   51804100   34098.10  3992.93         38095   \n",
       "2526 2022-11-23  151.070007   58301400   34194.06  3992.93         38095   \n",
       "2527 2022-11-25  148.110001   35195900   34347.03  3992.93         38095   \n",
       "\n",
       "       ROE  PE_ratio  PS_ratio  tnote  tbill  Fed_rate        GDP  GDP_growth  \\\n",
       "1896  0.64     19.59      4.21   0.68   0.18      0.05  19636.731    -3.40459   \n",
       "1897  0.64     19.59      4.21   0.70   0.17      0.05  19636.731    -3.40459   \n",
       "1898  0.64     19.59      4.21   0.65   0.17      0.05  19636.731    -3.40459   \n",
       "1899  0.64     19.59      4.21   0.66   0.17      0.05  19636.731    -3.40459   \n",
       "1900  0.64     19.59      4.21   0.68   0.17      0.06  19636.731    -3.40459   \n",
       "...    ...       ...       ...    ...    ...       ...        ...         ...   \n",
       "2523  1.61     22.58      5.74   3.82   4.74      3.83  25663.289     1.80000   \n",
       "2524  1.61     22.58      5.74   3.83   4.75      3.83  25663.289     1.80000   \n",
       "2525  1.61     22.58      5.74   3.76   4.79      3.83  25663.289     1.80000   \n",
       "2526  1.61     22.58      5.74   3.71   4.75      3.83  25663.289     1.80000   \n",
       "2527  1.61     22.58      5.74   3.71   4.75      3.83  25663.289     1.80000   \n",
       "\n",
       "          CPI  \n",
       "1896  255.944  \n",
       "1897  255.944  \n",
       "1898  255.944  \n",
       "1899  257.217  \n",
       "1900  257.217  \n",
       "...       ...  \n",
       "2523  298.062  \n",
       "2524  298.062  \n",
       "2525  298.062  \n",
       "2526  298.062  \n",
       "2527  298.062  \n",
       "\n",
       "[632 rows x 15 columns]"
      ]
     },
     "execution_count": 15,
     "metadata": {},
     "output_type": "execute_result"
    }
   ],
   "source": [
    "apple_test"
   ]
  },
  {
   "cell_type": "code",
   "execution_count": null,
   "id": "24a08b10",
   "metadata": {},
   "outputs": [],
   "source": []
  },
  {
   "cell_type": "code",
   "execution_count": null,
   "id": "4f1e0f22",
   "metadata": {},
   "outputs": [],
   "source": []
  },
  {
   "cell_type": "markdown",
   "id": "97165bdb",
   "metadata": {},
   "source": [
    "## ARIMA Model1"
   ]
  },
  {
   "cell_type": "code",
   "execution_count": 16,
   "id": "4a60205e",
   "metadata": {
    "scrolled": true
   },
   "outputs": [
    {
     "name": "stderr",
     "output_type": "stream",
     "text": [
      "/Users/ziyuan/opt/anaconda3/lib/python3.9/site-packages/statsmodels/tsa/statespace/sarimax.py:966: UserWarning: Non-stationary starting autoregressive parameters found. Using zeros as starting parameters.\n",
      "  warn('Non-stationary starting autoregressive parameters'\n",
      "/Users/ziyuan/opt/anaconda3/lib/python3.9/site-packages/statsmodels/tsa/statespace/sarimax.py:978: UserWarning: Non-invertible starting MA parameters found. Using zeros as starting parameters.\n",
      "  warn('Non-invertible starting MA parameters found.'\n",
      "/Users/ziyuan/opt/anaconda3/lib/python3.9/site-packages/statsmodels/base/model.py:604: ConvergenceWarning: Maximum Likelihood optimization failed to converge. Check mle_retvals\n",
      "  warnings.warn(\"Maximum Likelihood optimization failed to \"\n"
     ]
    }
   ],
   "source": [
    "# ARIMA Model(order=(p,d,q))\n",
    "model_arima = ARIMA(apple_train.Close, order=(5,1,3)).fit()"
   ]
  },
  {
   "cell_type": "code",
   "execution_count": 17,
   "id": "7949d210",
   "metadata": {},
   "outputs": [
    {
     "name": "stdout",
     "output_type": "stream",
     "text": [
      "                               SARIMAX Results                                \n",
      "==============================================================================\n",
      "Dep. Variable:                  Close   No. Observations:                 1896\n",
      "Model:                 ARIMA(5, 1, 3)   Log Likelihood               -2101.522\n",
      "Date:                Fri, 09 Dec 2022   AIC                           4221.044\n",
      "Time:                        01:12:11   BIC                           4270.966\n",
      "Sample:                             0   HQIC                          4239.424\n",
      "                               - 1896                                         \n",
      "Covariance Type:                  opg                                         \n",
      "==============================================================================\n",
      "                 coef    std err          z      P>|z|      [0.025      0.975]\n",
      "------------------------------------------------------------------------------\n",
      "ar.L1         -0.7981      0.035    -22.579      0.000      -0.867      -0.729\n",
      "ar.L2          0.6472      0.036     17.851      0.000       0.576       0.718\n",
      "ar.L3          0.7975      0.033     24.369      0.000       0.733       0.862\n",
      "ar.L4          0.1095      0.016      6.982      0.000       0.079       0.140\n",
      "ar.L5          0.1011      0.013      7.827      0.000       0.076       0.126\n",
      "ma.L1          0.6684      0.034     19.421      0.000       0.601       0.736\n",
      "ma.L2         -0.7680      0.029    -26.943      0.000      -0.824      -0.712\n",
      "ma.L3         -0.6981      0.026    -26.658      0.000      -0.749      -0.647\n",
      "sigma2         0.5303      0.006     86.429      0.000       0.518       0.542\n",
      "===================================================================================\n",
      "Ljung-Box (L1) (Q):                   0.36   Jarque-Bera (JB):             23284.93\n",
      "Prob(Q):                              0.55   Prob(JB):                         0.00\n",
      "Heteroskedasticity (H):              10.15   Skew:                            -0.68\n",
      "Prob(H) (two-sided):                  0.00   Kurtosis:                        20.12\n",
      "===================================================================================\n",
      "\n",
      "Warnings:\n",
      "[1] Covariance matrix calculated using the outer product of gradients (complex-step).\n"
     ]
    }
   ],
   "source": [
    "print(model_arima.summary())"
   ]
  },
  {
   "cell_type": "code",
   "execution_count": 18,
   "id": "61c642e8",
   "metadata": {
    "scrolled": false
   },
   "outputs": [
    {
     "data": {
      "image/png": "[encoded data removed]",
      "text/plain": [
       "<Figure size 1440x720 with 1 Axes>"
      ]
     },
     "metadata": {},
     "output_type": "display_data"
    }
   ],
   "source": [
    "plt.figure(figsize=(20,10))\n",
    "\n",
    "\n",
    "plt.plot(apple_train.Date[:], \n",
    "         apple_train.Close[:],\n",
    "         'b',\n",
    "         label=\"Training Data\")\n",
    "\n",
    "\n",
    "## We can get the fitted values with fittedvalues\n",
    "plt.plot(apple_train.Date[:],\n",
    "         model_arima.fittedvalues[:],\n",
    "         'g--',\n",
    "         label=\"ARIMA(5,1,3) Fit\")\n",
    "\n",
    "plt.plot(apple_test.Date[:], \n",
    "         apple_test.Close[:],\n",
    "         'r',\n",
    "         label=\"Test Data\")\n",
    "\n",
    "## We can get the forecast with .forecast(h)\n",
    "plt.plot(apple_test.Date[:], \n",
    "         model_arima.forecast(len(apple_test)),\n",
    "         'r--o',\n",
    "         label=\"ARIMA(5,1,3) Forecast\")\n",
    "\n",
    "plt.xlabel(\"Date\", fontsize=18)\n",
    "plt.ylabel(\"Index\", fontsize=18)\n",
    "\n",
    "plt.xticks(fontsize=14)\n",
    "plt.yticks(fontsize=14)\n",
    "\n",
    "plt.legend(fontsize=14, loc=2)\n",
    "\n",
    "plt.show()"
   ]
  },
  {
   "cell_type": "code",
   "execution_count": 20,
   "id": "d8feefb1",
   "metadata": {},
   "outputs": [],
   "source": [
    "# def mean_absolute_percentage_error(y_true, y_pred): \n",
    "#     y_true, y_pred = np.array(y_true), np.array(y_pred)\n",
    "#     return np.mean(np.abs((y_true - y_pred) / y_true))"
   ]
  },
  {
   "cell_type": "code",
   "execution_count": 21,
   "id": "99de7533",
   "metadata": {
    "scrolled": true
   },
   "outputs": [
    {
     "data": {
      "text/plain": [
       "3672.5594338711294"
      ]
     },
     "execution_count": 21,
     "metadata": {},
     "output_type": "execute_result"
    }
   ],
   "source": [
    "mse_arima1 = mean_squared_error(apple_test[['Close']].values, \n",
    "                                model_arima.forecast(len(apple_test)))\n",
    "mse_arima1"
   ]
  },
  {
   "cell_type": "code",
   "execution_count": 32,
   "id": "fbcf72e4",
   "metadata": {},
   "outputs": [
    {
     "data": {
      "text/plain": [
       "0.3877918426617156"
      ]
     },
     "execution_count": 32,
     "metadata": {},
     "output_type": "execute_result"
    }
   ],
   "source": [
    "mape_arima1 = mean_absolute_percentage_error(apple_test[['Close']].values, \n",
    "                                             model_arima.forecast(len(apple_test)))\n",
    "mape_arima1"
   ]
  },
  {
   "cell_type": "code",
   "execution_count": null,
   "id": "ed1754fc",
   "metadata": {},
   "outputs": [],
   "source": []
  },
  {
   "cell_type": "code",
   "execution_count": 24,
   "id": "98e206bd",
   "metadata": {},
   "outputs": [],
   "source": [
    "train_date_price = {'Date_train': apple_train.Date[:], 'Price_train': apple_train.Close[:]}\n",
    "df_train = pd.DataFrame(data=train_date_price)"
   ]
  },
  {
   "cell_type": "code",
   "execution_count": 25,
   "id": "eb5f0f91",
   "metadata": {
    "scrolled": true
   },
   "outputs": [
    {
     "data": {
      "text/html": [
       "<div>\n",
       "<style scoped>\n",
       "    .dataframe tbody tr th:only-of-type {\n",
       "        vertical-align: middle;\n",
       "    }\n",
       "\n",
       "    .dataframe tbody tr th {\n",
       "        vertical-align: top;\n",
       "    }\n",
       "\n",
       "    .dataframe thead th {\n",
       "        text-align: right;\n",
       "    }\n",
       "</style>\n",
       "<table border=\"1\" class=\"dataframe\">\n",
       "  <thead>\n",
       "    <tr style=\"text-align: right;\">\n",
       "      <th></th>\n",
       "      <th>Date_train</th>\n",
       "      <th>Price_train</th>\n",
       "    </tr>\n",
       "  </thead>\n",
       "  <tbody>\n",
       "    <tr>\n",
       "      <th>0</th>\n",
       "      <td>2012-11-12</td>\n",
       "      <td>19.386786</td>\n",
       "    </tr>\n",
       "    <tr>\n",
       "      <th>1</th>\n",
       "      <td>2012-11-13</td>\n",
       "      <td>19.389286</td>\n",
       "    </tr>\n",
       "    <tr>\n",
       "      <th>2</th>\n",
       "      <td>2012-11-14</td>\n",
       "      <td>19.174286</td>\n",
       "    </tr>\n",
       "    <tr>\n",
       "      <th>3</th>\n",
       "      <td>2012-11-15</td>\n",
       "      <td>18.772142</td>\n",
       "    </tr>\n",
       "    <tr>\n",
       "      <th>4</th>\n",
       "      <td>2012-11-16</td>\n",
       "      <td>18.845715</td>\n",
       "    </tr>\n",
       "    <tr>\n",
       "      <th>...</th>\n",
       "      <td>...</td>\n",
       "      <td>...</td>\n",
       "    </tr>\n",
       "    <tr>\n",
       "      <th>1891</th>\n",
       "      <td>2020-05-19</td>\n",
       "      <td>78.285004</td>\n",
       "    </tr>\n",
       "    <tr>\n",
       "      <th>1892</th>\n",
       "      <td>2020-05-20</td>\n",
       "      <td>79.807503</td>\n",
       "    </tr>\n",
       "    <tr>\n",
       "      <th>1893</th>\n",
       "      <td>2020-05-21</td>\n",
       "      <td>79.212502</td>\n",
       "    </tr>\n",
       "    <tr>\n",
       "      <th>1894</th>\n",
       "      <td>2020-05-22</td>\n",
       "      <td>79.722504</td>\n",
       "    </tr>\n",
       "    <tr>\n",
       "      <th>1895</th>\n",
       "      <td>2020-05-26</td>\n",
       "      <td>79.182503</td>\n",
       "    </tr>\n",
       "  </tbody>\n",
       "</table>\n",
       "<p>1896 rows × 2 columns</p>\n",
       "</div>"
      ],
      "text/plain": [
       "     Date_train  Price_train\n",
       "0    2012-11-12    19.386786\n",
       "1    2012-11-13    19.389286\n",
       "2    2012-11-14    19.174286\n",
       "3    2012-11-15    18.772142\n",
       "4    2012-11-16    18.845715\n",
       "...         ...          ...\n",
       "1891 2020-05-19    78.285004\n",
       "1892 2020-05-20    79.807503\n",
       "1893 2020-05-21    79.212502\n",
       "1894 2020-05-22    79.722504\n",
       "1895 2020-05-26    79.182503\n",
       "\n",
       "[1896 rows x 2 columns]"
      ]
     },
     "execution_count": 25,
     "metadata": {},
     "output_type": "execute_result"
    }
   ],
   "source": [
    "df_train"
   ]
  },
  {
   "cell_type": "code",
   "execution_count": 26,
   "id": "434d5f1b",
   "metadata": {},
   "outputs": [],
   "source": [
    "df_train.to_csv('Apple_train.csv', index=False)"
   ]
  },
  {
   "cell_type": "code",
   "execution_count": null,
   "id": "0e69b15f",
   "metadata": {},
   "outputs": [],
   "source": []
  },
  {
   "cell_type": "code",
   "execution_count": 27,
   "id": "fe7fa4d3",
   "metadata": {},
   "outputs": [],
   "source": [
    "test_date_price = {'Date_test': apple_test.Date[:], \n",
    "                   'Price_test': apple_test.Close[:],\n",
    "                   'Forecast_ARIMA': model_arima.forecast(len(apple_test))\n",
    "                  }\n",
    "df_test = pd.DataFrame(data=test_date_price)"
   ]
  },
  {
   "cell_type": "code",
   "execution_count": 28,
   "id": "9e33a8e9",
   "metadata": {},
   "outputs": [
    {
     "data": {
      "text/html": [
       "<div>\n",
       "<style scoped>\n",
       "    .dataframe tbody tr th:only-of-type {\n",
       "        vertical-align: middle;\n",
       "    }\n",
       "\n",
       "    .dataframe tbody tr th {\n",
       "        vertical-align: top;\n",
       "    }\n",
       "\n",
       "    .dataframe thead th {\n",
       "        text-align: right;\n",
       "    }\n",
       "</style>\n",
       "<table border=\"1\" class=\"dataframe\">\n",
       "  <thead>\n",
       "    <tr style=\"text-align: right;\">\n",
       "      <th></th>\n",
       "      <th>Date_test</th>\n",
       "      <th>Price_test</th>\n",
       "      <th>Forecast_ARIMA</th>\n",
       "    </tr>\n",
       "  </thead>\n",
       "  <tbody>\n",
       "    <tr>\n",
       "      <th>1896</th>\n",
       "      <td>2020-05-27</td>\n",
       "      <td>79.527496</td>\n",
       "      <td>79.000223</td>\n",
       "    </tr>\n",
       "    <tr>\n",
       "      <th>1897</th>\n",
       "      <td>2020-05-28</td>\n",
       "      <td>79.562500</td>\n",
       "      <td>79.668022</td>\n",
       "    </tr>\n",
       "    <tr>\n",
       "      <th>1898</th>\n",
       "      <td>2020-05-29</td>\n",
       "      <td>79.485001</td>\n",
       "      <td>79.262209</td>\n",
       "    </tr>\n",
       "    <tr>\n",
       "      <th>1899</th>\n",
       "      <td>2020-06-01</td>\n",
       "      <td>80.462502</td>\n",
       "      <td>79.865362</td>\n",
       "    </tr>\n",
       "    <tr>\n",
       "      <th>1900</th>\n",
       "      <td>2020-06-02</td>\n",
       "      <td>80.834999</td>\n",
       "      <td>79.579345</td>\n",
       "    </tr>\n",
       "    <tr>\n",
       "      <th>...</th>\n",
       "      <td>...</td>\n",
       "      <td>...</td>\n",
       "      <td>...</td>\n",
       "    </tr>\n",
       "    <tr>\n",
       "      <th>2523</th>\n",
       "      <td>2022-11-18</td>\n",
       "      <td>151.289993</td>\n",
       "      <td>82.843828</td>\n",
       "    </tr>\n",
       "    <tr>\n",
       "      <th>2524</th>\n",
       "      <td>2022-11-21</td>\n",
       "      <td>148.009995</td>\n",
       "      <td>82.843828</td>\n",
       "    </tr>\n",
       "    <tr>\n",
       "      <th>2525</th>\n",
       "      <td>2022-11-22</td>\n",
       "      <td>150.179993</td>\n",
       "      <td>82.843828</td>\n",
       "    </tr>\n",
       "    <tr>\n",
       "      <th>2526</th>\n",
       "      <td>2022-11-23</td>\n",
       "      <td>151.070007</td>\n",
       "      <td>82.843828</td>\n",
       "    </tr>\n",
       "    <tr>\n",
       "      <th>2527</th>\n",
       "      <td>2022-11-25</td>\n",
       "      <td>148.110001</td>\n",
       "      <td>82.843828</td>\n",
       "    </tr>\n",
       "  </tbody>\n",
       "</table>\n",
       "<p>632 rows × 3 columns</p>\n",
       "</div>"
      ],
      "text/plain": [
       "      Date_test  Price_test  Forecast_ARIMA\n",
       "1896 2020-05-27   79.527496       79.000223\n",
       "1897 2020-05-28   79.562500       79.668022\n",
       "1898 2020-05-29   79.485001       79.262209\n",
       "1899 2020-06-01   80.462502       79.865362\n",
       "1900 2020-06-02   80.834999       79.579345\n",
       "...         ...         ...             ...\n",
       "2523 2022-11-18  151.289993       82.843828\n",
       "2524 2022-11-21  148.009995       82.843828\n",
       "2525 2022-11-22  150.179993       82.843828\n",
       "2526 2022-11-23  151.070007       82.843828\n",
       "2527 2022-11-25  148.110001       82.843828\n",
       "\n",
       "[632 rows x 3 columns]"
      ]
     },
     "execution_count": 28,
     "metadata": {},
     "output_type": "execute_result"
    }
   ],
   "source": [
    "df_test"
   ]
  },
  {
   "cell_type": "code",
   "execution_count": 30,
   "id": "1e2d7322",
   "metadata": {},
   "outputs": [],
   "source": [
    "df_test.to_csv('Apple_test_ARIMA.csv', index=False)"
   ]
  },
  {
   "cell_type": "markdown",
   "id": "48697082",
   "metadata": {},
   "source": [
    "## ARIMA Model2"
   ]
  },
  {
   "cell_type": "code",
   "execution_count": 30,
   "id": "ab0d08fa",
   "metadata": {
    "scrolled": true
   },
   "outputs": [],
   "source": [
    "apple_all_factor2= apple_all_factor.iloc[800:]"
   ]
  },
  {
   "cell_type": "code",
   "execution_count": 31,
   "id": "0430b75e",
   "metadata": {},
   "outputs": [],
   "source": [
    "ratio=0.75\n",
    "num_of_train2=int(ratio*len(apple_all_factor2))"
   ]
  },
  {
   "cell_type": "code",
   "execution_count": 32,
   "id": "06728572",
   "metadata": {},
   "outputs": [],
   "source": [
    "apple_train2 = apple_all_factor2.iloc[:num_of_train2].copy()\n",
    "apple_test2 = apple_all_factor2.iloc[num_of_train2:].copy()"
   ]
  },
  {
   "cell_type": "code",
   "execution_count": 33,
   "id": "22f9ff83",
   "metadata": {},
   "outputs": [
    {
     "name": "stderr",
     "output_type": "stream",
     "text": [
      "/Users/ziyuan/opt/anaconda3/lib/python3.9/site-packages/statsmodels/tsa/statespace/sarimax.py:966: UserWarning: Non-stationary starting autoregressive parameters found. Using zeros as starting parameters.\n",
      "  warn('Non-stationary starting autoregressive parameters'\n",
      "/Users/ziyuan/opt/anaconda3/lib/python3.9/site-packages/statsmodels/tsa/statespace/sarimax.py:978: UserWarning: Non-invertible starting MA parameters found. Using zeros as starting parameters.\n",
      "  warn('Non-invertible starting MA parameters found.'\n",
      "/Users/ziyuan/opt/anaconda3/lib/python3.9/site-packages/statsmodels/base/model.py:604: ConvergenceWarning: Maximum Likelihood optimization failed to converge. Check mle_retvals\n",
      "  warnings.warn(\"Maximum Likelihood optimization failed to \"\n"
     ]
    }
   ],
   "source": [
    "# ARIMA Model(order=(p,d,q))\n",
    "model_arima2 = ARIMA(apple_train2.Close, order=(5,1,3)).fit()"
   ]
  },
  {
   "cell_type": "code",
   "execution_count": 34,
   "id": "34bef988",
   "metadata": {},
   "outputs": [
    {
     "name": "stdout",
     "output_type": "stream",
     "text": [
      "                               SARIMAX Results                                \n",
      "==============================================================================\n",
      "Dep. Variable:                  Close   No. Observations:                 1296\n",
      "Model:                 ARIMA(5, 1, 3)   Log Likelihood               -2243.826\n",
      "Date:                Thu, 08 Dec 2022   AIC                           4505.651\n",
      "Time:                        23:31:29   BIC                           4552.148\n",
      "Sample:                             0   HQIC                          4523.100\n",
      "                               - 1296                                         \n",
      "Covariance Type:                  opg                                         \n",
      "==============================================================================\n",
      "                 coef    std err          z      P>|z|      [0.025      0.975]\n",
      "------------------------------------------------------------------------------\n",
      "ar.L1          0.4010      0.033     12.138      0.000       0.336       0.466\n",
      "ar.L2          0.5021      0.032     15.670      0.000       0.439       0.565\n",
      "ar.L3         -0.8398      0.028    -29.575      0.000      -0.895      -0.784\n",
      "ar.L4         -0.1842      0.015    -12.624      0.000      -0.213      -0.156\n",
      "ar.L5          0.0405      0.014      2.899      0.004       0.013       0.068\n",
      "ma.L1         -0.5166      0.028    -18.452      0.000      -0.571      -0.462\n",
      "ma.L2         -0.4175      0.032    -13.244      0.000      -0.479      -0.356\n",
      "ma.L3          0.9146      0.027     33.934      0.000       0.862       0.967\n",
      "sigma2         1.8598      0.031     60.205      0.000       1.799       1.920\n",
      "===================================================================================\n",
      "Ljung-Box (L1) (Q):                   0.00   Jarque-Bera (JB):              6633.77\n",
      "Prob(Q):                              0.97   Prob(JB):                         0.00\n",
      "Heteroskedasticity (H):              31.63   Skew:                            -0.14\n",
      "Prob(H) (two-sided):                  0.00   Kurtosis:                        14.08\n",
      "===================================================================================\n",
      "\n",
      "Warnings:\n",
      "[1] Covariance matrix calculated using the outer product of gradients (complex-step).\n"
     ]
    }
   ],
   "source": [
    "print(model_arima2.summary())"
   ]
  },
  {
   "cell_type": "code",
   "execution_count": 35,
   "id": "ff29c2fb",
   "metadata": {},
   "outputs": [
    {
     "data": {
      "image/png": "[encoded data removed]",
      "text/plain": [
       "<Figure size 1440x720 with 1 Axes>"
      ]
     },
     "metadata": {},
     "output_type": "display_data"
    }
   ],
   "source": [
    "plt.figure(figsize=(20,10))\n",
    "\n",
    "\n",
    "plt.plot(apple_train2.Date[:], \n",
    "         apple_train2.Close[:],\n",
    "         'b',\n",
    "         label=\"Training Data\")\n",
    "\n",
    "\n",
    "## We can get the fitted values with fittedvalues\n",
    "plt.plot(apple_train2.Date[:],\n",
    "         model_arima2.fittedvalues[:],\n",
    "         'g--',\n",
    "         label=\"ARIMA(5,1,3) Fit\")\n",
    "\n",
    "plt.plot(apple_test2.Date[:], \n",
    "         apple_test2.Close[:],\n",
    "         'r',\n",
    "         label=\"Test Data\")\n",
    "\n",
    "## We can get the forecast with .forecast(h)\n",
    "plt.plot(apple_test2.Date[:], \n",
    "         model_arima2.forecast(len(apple_test2)),\n",
    "         'r--o',\n",
    "         label=\"ARIMA(5,1,3) Forecast\")\n",
    "\n",
    "plt.xlabel(\"Date\", fontsize=18)\n",
    "plt.ylabel(\"Index\", fontsize=18)\n",
    "\n",
    "plt.xticks(fontsize=14)\n",
    "plt.yticks(fontsize=14)\n",
    "\n",
    "plt.legend(fontsize=14, loc=2)\n",
    "\n",
    "plt.show()"
   ]
  },
  {
   "cell_type": "code",
   "execution_count": 57,
   "id": "d833222c",
   "metadata": {},
   "outputs": [
    {
     "data": {
      "text/plain": [
       "995.3559630964182"
      ]
     },
     "execution_count": 57,
     "metadata": {},
     "output_type": "execute_result"
    }
   ],
   "source": [
    "mse_arima2 = mean_squared_error(apple_test2[['Close']].values, \n",
    "                                model_arima2.forecast(len(apple_test2)))\n",
    "mse_arima2"
   ]
  },
  {
   "cell_type": "code",
   "execution_count": null,
   "id": "345596da",
   "metadata": {},
   "outputs": [],
   "source": []
  }
 ],
 "metadata": {
  "kernelspec": {
   "display_name": "Python 3 (ipykernel)",
   "language": "python",
   "name": "python3"
  },
  "language_info": {
   "codemirror_mode": {
    "name": "ipython",
    "version": 3
   },
   "file_extension": ".py",
   "mimetype": "text/x-python",
   "name": "python",
   "nbconvert_exporter": "python",
   "pygments_lexer": "ipython3",
   "version": "3.9.12"
  }
 },
 "nbformat": 4,
 "nbformat_minor": 5
}
